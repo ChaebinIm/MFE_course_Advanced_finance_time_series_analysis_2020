{
 "cells": [
  {
   "cell_type": "code",
   "execution_count": 1,
   "metadata": {},
   "outputs": [],
   "source": [
    "import numpy as np\n",
    "from IPython.core.interactiveshell import InteractiveShell\n",
    "InteractiveShell.ast_node_interactivity = \"all\" # 한 실행칸에 프린트 여러개 해도 다 출력시키도록 하는 코드.\n",
    "import matplotlib.pyplot as plt"
   ]
  },
  {
   "cell_type": "code",
   "execution_count": 13,
   "metadata": {},
   "outputs": [],
   "source": [
    "def Solution(mu, sigma, r, s0, T, num_dt, num_sim):\n",
    "    \n",
    "    # Generating stock paths\n",
    "    dt = T/num_dt\n",
    "    Initial_log_stock_price = np.log(s0) * np.ones((1, num_sim))\n",
    "    binomial =  -1 + 2 * np.random.binomial(1, 0.5, (num_dt, num_sim))\n",
    "    dw = binomial * np.sqrt(dt)\n",
    "    d_logS = (r-0.5*(sigma**2)) * dt * np.ones((num_dt, num_sim)) + dw * sigma\n",
    "    tmp = np.concatenate((Initial_log_stock_price, d_logS), axis=0)\n",
    "    log_stock_price = np.cumsum(tmp, axis = 0)\n",
    "    stock_price = np.exp(log_stock_price)\n",
    "\n",
    "    # search the maximum plot\n",
    "    paths_max = np.zeros(10000)\n",
    "    for j in range(len(stock_price[0])):\n",
    "        paths_max[j] = stock_price[:,j].max()\n",
    "       \n",
    "    # pricing\n",
    "    pv_payoffs = paths_max * np.exp(-r * T)\n",
    "\n",
    "    return pv_payoffs.mean()\n",
    "    "
   ]
  },
  {
   "cell_type": "code",
   "execution_count": 11,
   "metadata": {},
   "outputs": [],
   "source": [
    "mu, sigma, r, s0, T, num_dt, num_sim = 0.15, 0.2, 0.02, 100, 2, 10000, 10000"
   ]
  },
  {
   "cell_type": "code",
   "execution_count": 12,
   "metadata": {},
   "outputs": [
    {
     "data": {
      "text/plain": [
       "121.76609383833242"
      ]
     },
     "execution_count": 12,
     "metadata": {},
     "output_type": "execute_result"
    }
   ],
   "source": [
    "Solution(mu, sigma, r, s0, T, num_dt, num_sim)"
   ]
  },
  {
   "cell_type": "markdown",
   "metadata": {},
   "source": [
    "따라서, 해당 옵션의 가격은 121.77이 나온다."
   ]
  },
  {
   "cell_type": "code",
   "execution_count": null,
   "metadata": {},
   "outputs": [],
   "source": []
  },
  {
   "cell_type": "code",
   "execution_count": null,
   "metadata": {},
   "outputs": [],
   "source": []
  },
  {
   "cell_type": "code",
   "execution_count": null,
   "metadata": {},
   "outputs": [],
   "source": []
  }
 ],
 "metadata": {
  "kernelspec": {
   "display_name": "Python 3",
   "language": "python",
   "name": "python3"
  },
  "language_info": {
   "codemirror_mode": {
    "name": "ipython",
    "version": 3
   },
   "file_extension": ".py",
   "mimetype": "text/x-python",
   "name": "python",
   "nbconvert_exporter": "python",
   "pygments_lexer": "ipython3",
   "version": "3.6.8"
  }
 },
 "nbformat": 4,
 "nbformat_minor": 2
}
