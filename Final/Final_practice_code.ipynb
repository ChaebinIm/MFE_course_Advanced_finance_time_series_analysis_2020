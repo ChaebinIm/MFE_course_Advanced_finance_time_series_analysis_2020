{
 "cells": [
  {
   "cell_type": "code",
   "execution_count": 15,
   "metadata": {},
   "outputs": [],
   "source": [
    "from IPython.core.interactiveshell import InteractiveShell\n",
    "InteractiveShell.ast_node_interactivity = \"all\"\n",
    "import numpy as np\n",
    "import pandas as pd\n",
    "import matplotlib.pyplot as plt\n",
    "from numpy import linalg as LA\n",
    "from sklearn.preprocessing import StandardScaler\n",
    "import seaborn as sns\n",
    "from sklearn.linear_model import LinearRegression"
   ]
  },
  {
   "cell_type": "markdown",
   "metadata": {},
   "source": [
    "# 1. solve PC"
   ]
  },
  {
   "cell_type": "code",
   "execution_count": 39,
   "metadata": {},
   "outputs": [],
   "source": [
    "cov = np.array([[1.47, 0.65, 0.03],[0.65, 0.95, -0.18],[0.03, -0.18, 0.7]])\n",
    "l = LA.eig(cov)[1]"
   ]
  },
  {
   "cell_type": "code",
   "execution_count": 40,
   "metadata": {},
   "outputs": [
    {
     "data": {
      "text/plain": [
       "array([[-0.82216865, -0.46240227,  0.33199827],\n",
       "       [-0.56569001,  0.7287558 , -0.38588832],\n",
       "       [ 0.06351003,  0.50507338,  0.86073652]])"
      ]
     },
     "execution_count": 40,
     "metadata": {},
     "output_type": "execute_result"
    }
   ],
   "source": [
    "l"
   ]
  },
  {
   "cell_type": "markdown",
   "metadata": {},
   "source": [
    "# 2. RCT"
   ]
  },
  {
   "cell_type": "code",
   "execution_count": 41,
   "metadata": {},
   "outputs": [
    {
     "data": {
      "text/html": [
       "<div>\n",
       "<style scoped>\n",
       "    .dataframe tbody tr th:only-of-type {\n",
       "        vertical-align: middle;\n",
       "    }\n",
       "\n",
       "    .dataframe tbody tr th {\n",
       "        vertical-align: top;\n",
       "    }\n",
       "\n",
       "    .dataframe thead th {\n",
       "        text-align: right;\n",
       "    }\n",
       "</style>\n",
       "<table border=\"1\" class=\"dataframe\">\n",
       "  <thead>\n",
       "    <tr style=\"text-align: right;\">\n",
       "      <th></th>\n",
       "      <th>subjectNumber</th>\n",
       "      <th>exposureToAdvertisement</th>\n",
       "      <th>NumberOfClicks</th>\n",
       "    </tr>\n",
       "  </thead>\n",
       "  <tbody>\n",
       "    <tr>\n",
       "      <th>0</th>\n",
       "      <td>1</td>\n",
       "      <td>0</td>\n",
       "      <td>19</td>\n",
       "    </tr>\n",
       "    <tr>\n",
       "      <th>1</th>\n",
       "      <td>2</td>\n",
       "      <td>0</td>\n",
       "      <td>8</td>\n",
       "    </tr>\n",
       "    <tr>\n",
       "      <th>2</th>\n",
       "      <td>3</td>\n",
       "      <td>1</td>\n",
       "      <td>104</td>\n",
       "    </tr>\n",
       "    <tr>\n",
       "      <th>3</th>\n",
       "      <td>4</td>\n",
       "      <td>0</td>\n",
       "      <td>3</td>\n",
       "    </tr>\n",
       "    <tr>\n",
       "      <th>4</th>\n",
       "      <td>5</td>\n",
       "      <td>1</td>\n",
       "      <td>108</td>\n",
       "    </tr>\n",
       "  </tbody>\n",
       "</table>\n",
       "</div>"
      ],
      "text/plain": [
       "   subjectNumber  exposureToAdvertisement  NumberOfClicks\n",
       "0              1                        0              19\n",
       "1              2                        0               8\n",
       "2              3                        1             104\n",
       "3              4                        0               3\n",
       "4              5                        1             108"
      ]
     },
     "execution_count": 41,
     "metadata": {},
     "output_type": "execute_result"
    },
    {
     "data": {
      "text/plain": [
       "(10000, 3)"
      ]
     },
     "execution_count": 41,
     "metadata": {},
     "output_type": "execute_result"
    },
    {
     "data": {
      "text/plain": [
       "subjectNumber              int64\n",
       "exposureToAdvertisement    int64\n",
       "NumberOfClicks             int64\n",
       "dtype: object"
      ]
     },
     "execution_count": 41,
     "metadata": {},
     "output_type": "execute_result"
    },
    {
     "data": {
      "text/html": [
       "<div>\n",
       "<style scoped>\n",
       "    .dataframe tbody tr th:only-of-type {\n",
       "        vertical-align: middle;\n",
       "    }\n",
       "\n",
       "    .dataframe tbody tr th {\n",
       "        vertical-align: top;\n",
       "    }\n",
       "\n",
       "    .dataframe thead th {\n",
       "        text-align: right;\n",
       "    }\n",
       "</style>\n",
       "<table border=\"1\" class=\"dataframe\">\n",
       "  <thead>\n",
       "    <tr style=\"text-align: right;\">\n",
       "      <th></th>\n",
       "      <th>subjectNumber</th>\n",
       "      <th>exposureToAdvertisement</th>\n",
       "      <th>NumberOfClicks</th>\n",
       "    </tr>\n",
       "  </thead>\n",
       "  <tbody>\n",
       "    <tr>\n",
       "      <th>count</th>\n",
       "      <td>10000.00000</td>\n",
       "      <td>10000.000000</td>\n",
       "      <td>10000.00000</td>\n",
       "    </tr>\n",
       "    <tr>\n",
       "      <th>mean</th>\n",
       "      <td>5000.50000</td>\n",
       "      <td>0.198100</td>\n",
       "      <td>27.43380</td>\n",
       "    </tr>\n",
       "    <tr>\n",
       "      <th>std</th>\n",
       "      <td>2886.89568</td>\n",
       "      <td>0.398588</td>\n",
       "      <td>36.70107</td>\n",
       "    </tr>\n",
       "    <tr>\n",
       "      <th>min</th>\n",
       "      <td>1.00000</td>\n",
       "      <td>0.000000</td>\n",
       "      <td>0.00000</td>\n",
       "    </tr>\n",
       "    <tr>\n",
       "      <th>25%</th>\n",
       "      <td>2500.75000</td>\n",
       "      <td>0.000000</td>\n",
       "      <td>7.00000</td>\n",
       "    </tr>\n",
       "    <tr>\n",
       "      <th>50%</th>\n",
       "      <td>5000.50000</td>\n",
       "      <td>0.000000</td>\n",
       "      <td>10.00000</td>\n",
       "    </tr>\n",
       "    <tr>\n",
       "      <th>75%</th>\n",
       "      <td>7500.25000</td>\n",
       "      <td>0.000000</td>\n",
       "      <td>17.00000</td>\n",
       "    </tr>\n",
       "    <tr>\n",
       "      <th>max</th>\n",
       "      <td>10000.00000</td>\n",
       "      <td>1.000000</td>\n",
       "      <td>155.00000</td>\n",
       "    </tr>\n",
       "  </tbody>\n",
       "</table>\n",
       "</div>"
      ],
      "text/plain": [
       "       subjectNumber  exposureToAdvertisement  NumberOfClicks\n",
       "count    10000.00000             10000.000000     10000.00000\n",
       "mean      5000.50000                 0.198100        27.43380\n",
       "std       2886.89568                 0.398588        36.70107\n",
       "min          1.00000                 0.000000         0.00000\n",
       "25%       2500.75000                 0.000000         7.00000\n",
       "50%       5000.50000                 0.000000        10.00000\n",
       "75%       7500.25000                 0.000000        17.00000\n",
       "max      10000.00000                 1.000000       155.00000"
      ]
     },
     "execution_count": 41,
     "metadata": {},
     "output_type": "execute_result"
    }
   ],
   "source": [
    "data = pd.read_excel('./advertisementData.xlsx')\n",
    "data.head()\n",
    "data.shape\n",
    "data.dtypes\n",
    "data.describe()"
   ]
  },
  {
   "cell_type": "code",
   "execution_count": 42,
   "metadata": {},
   "outputs": [
    {
     "data": {
      "text/plain": [
       "<bound method IndexOpsMixin.value_counts of 0           1\n",
       "1           2\n",
       "2           3\n",
       "3           4\n",
       "4           5\n",
       "        ...  \n",
       "9995     9996\n",
       "9996     9997\n",
       "9997     9998\n",
       "9998     9999\n",
       "9999    10000\n",
       "Name: subjectNumber, Length: 10000, dtype: int64>"
      ]
     },
     "execution_count": 42,
     "metadata": {},
     "output_type": "execute_result"
    }
   ],
   "source": [
    "data['subjectNumber'].value_counts"
   ]
  },
  {
   "cell_type": "code",
   "execution_count": 43,
   "metadata": {},
   "outputs": [],
   "source": [
    "y = data['NumberOfClicks']\n",
    "x = data['exposureToAdvertisement']\n",
    "lr = LinearRegression()"
   ]
  },
  {
   "cell_type": "code",
   "execution_count": 44,
   "metadata": {},
   "outputs": [
    {
     "data": {
      "text/plain": [
       "LinearRegression(copy_X=True, fit_intercept=True, n_jobs=None, normalize=False)"
      ]
     },
     "execution_count": 44,
     "metadata": {},
     "output_type": "execute_result"
    }
   ],
   "source": [
    "lr.fit(x.to_numpy().reshape(-1, 1), y)\n",
    "coef = lr.coef_[0]\n",
    "intercept = lr.intercept_"
   ]
  },
  {
   "cell_type": "code",
   "execution_count": 45,
   "metadata": {},
   "outputs": [],
   "source": [
    "residual = y - coef * x - intercept"
   ]
  },
  {
   "cell_type": "code",
   "execution_count": 46,
   "metadata": {},
   "outputs": [
    {
     "data": {
      "text/plain": [
       "<matplotlib.axes._subplots.AxesSubplot at 0x7fcc700922b0>"
      ]
     },
     "execution_count": 46,
     "metadata": {},
     "output_type": "execute_result"
    },
    {
     "data": {
      "image/png": "[encoded data removed]",
      "text/plain": [
       "<Figure size 432x288 with 1 Axes>"
      ]
     },
     "metadata": {
      "needs_background": "light"
     },
     "output_type": "display_data"
    }
   ],
   "source": [
    "data['NumberOfClicks'].hist(bins=20)\n",
    "plt.show()"
   ]
  },
  {
   "cell_type": "code",
   "execution_count": 47,
   "metadata": {},
   "outputs": [
    {
     "data": {
      "text/plain": [
       "90.21836779748048"
      ]
     },
     "execution_count": 47,
     "metadata": {},
     "output_type": "execute_result"
    }
   ],
   "source": [
    "data[(data['exposureToAdvertisement'] == 1)]['NumberOfClicks'].mean() - data[(data['exposureToAdvertisement'] == 0)]['NumberOfClicks'].mean()"
   ]
  },
  {
   "cell_type": "code",
   "execution_count": 48,
   "metadata": {},
   "outputs": [],
   "source": [
    "N_treated = data['exposureToAdvertisement'].sum()\n",
    "N = len(data)\n",
    "N_controlled = N - N_treated"
   ]
  },
  {
   "cell_type": "code",
   "execution_count": 49,
   "metadata": {},
   "outputs": [
    {
     "data": {
      "text/plain": [
       "490.00568801044614"
      ]
     },
     "execution_count": 49,
     "metadata": {},
     "output_type": "execute_result"
    }
   ],
   "source": [
    "tStat = np.sqrt(N) * coef / np.sqrt( (N/N_treated + N/N_controlled) * residual.var() )\n",
    "tStat"
   ]
  },
  {
   "cell_type": "code",
   "execution_count": 50,
   "metadata": {},
   "outputs": [
    {
     "name": "stdout",
     "output_type": "stream",
     "text": [
      "a : 8019, 1981\n",
      "b : 90.2184\n",
      "c : 490.0057\n"
     ]
    }
   ],
   "source": [
    "# a\n",
    "print('a : %d, %d' %(N_controlled, N_treated))\n",
    "# b\n",
    "print('b : %.4f' %coef)\n",
    "# c\n",
    "print('c : %.4f' %tStat)"
   ]
  },
  {
   "cell_type": "markdown",
   "metadata": {},
   "source": [
    "# 교수님 예제 데이터를 쓴다면..?"
   ]
  },
  {
   "cell_type": "code",
   "execution_count": 51,
   "metadata": {},
   "outputs": [
    {
     "data": {
      "text/plain": [
       "LinearRegression(copy_X=True, fit_intercept=True, n_jobs=None, normalize=False)"
      ]
     },
     "execution_count": 51,
     "metadata": {},
     "output_type": "execute_result"
    },
    {
     "data": {
      "text/plain": [
       "-34.94478792638119"
      ]
     },
     "execution_count": 51,
     "metadata": {},
     "output_type": "execute_result"
    }
   ],
   "source": [
    "data = pd.read_excel('../RCT_fakeData.xlsx')\n",
    "y = data['CoronaPositive']\n",
    "x = data['vaccineTreatment']\n",
    "lr = LinearRegression()\n",
    "lr.fit(x.to_numpy().reshape(-1, 1), y)\n",
    "coef = lr.coef_[0]\n",
    "intercept = lr.intercept_\n",
    "residual = y - coef * x - intercept\n",
    "N_treated = data['vaccineTreatment'].sum()\n",
    "N = len(data)\n",
    "N_controlled = N - N_treated\n",
    "tStat = np.sqrt(N) * coef / np.sqrt( (N/N_treated + N/N_controlled) * residual.var() )\n",
    "tStat"
   ]
  },
  {
   "cell_type": "markdown",
   "metadata": {},
   "source": [
    "일치."
   ]
  },
  {
   "cell_type": "markdown",
   "metadata": {},
   "source": [
    "# 3. Pair trading"
   ]
  },
  {
   "cell_type": "code",
   "execution_count": 83,
   "metadata": {},
   "outputs": [
    {
     "data": {
      "text/html": [
       "<div>\n",
       "<style scoped>\n",
       "    .dataframe tbody tr th:only-of-type {\n",
       "        vertical-align: middle;\n",
       "    }\n",
       "\n",
       "    .dataframe tbody tr th {\n",
       "        vertical-align: top;\n",
       "    }\n",
       "\n",
       "    .dataframe thead th {\n",
       "        text-align: right;\n",
       "    }\n",
       "</style>\n",
       "<table border=\"1\" class=\"dataframe\">\n",
       "  <thead>\n",
       "    <tr style=\"text-align: right;\">\n",
       "      <th></th>\n",
       "      <th>PERMNO</th>\n",
       "      <th>date</th>\n",
       "      <th>PRC</th>\n",
       "    </tr>\n",
       "  </thead>\n",
       "  <tbody>\n",
       "    <tr>\n",
       "      <th>0</th>\n",
       "      <td>17778</td>\n",
       "      <td>20050103</td>\n",
       "      <td>87100.00000</td>\n",
       "    </tr>\n",
       "    <tr>\n",
       "      <th>1</th>\n",
       "      <td>17778</td>\n",
       "      <td>20050104</td>\n",
       "      <td>85901.00000</td>\n",
       "    </tr>\n",
       "    <tr>\n",
       "      <th>2</th>\n",
       "      <td>17778</td>\n",
       "      <td>20050105</td>\n",
       "      <td>85700.00000</td>\n",
       "    </tr>\n",
       "    <tr>\n",
       "      <th>3</th>\n",
       "      <td>17778</td>\n",
       "      <td>20050106</td>\n",
       "      <td>86192.00000</td>\n",
       "    </tr>\n",
       "    <tr>\n",
       "      <th>4</th>\n",
       "      <td>17778</td>\n",
       "      <td>20050107</td>\n",
       "      <td>87500.10156</td>\n",
       "    </tr>\n",
       "  </tbody>\n",
       "</table>\n",
       "</div>"
      ],
      "text/plain": [
       "   PERMNO      date          PRC\n",
       "0   17778  20050103  87100.00000\n",
       "1   17778  20050104  85901.00000\n",
       "2   17778  20050105  85700.00000\n",
       "3   17778  20050106  86192.00000\n",
       "4   17778  20050107  87500.10156"
      ]
     },
     "execution_count": 83,
     "metadata": {},
     "output_type": "execute_result"
    }
   ],
   "source": [
    "data = pd.read_csv('./BRK.csv')\n",
    "data.head()"
   ]
  },
  {
   "cell_type": "code",
   "execution_count": 84,
   "metadata": {},
   "outputs": [
    {
     "data": {
      "text/html": [
       "<div>\n",
       "<style scoped>\n",
       "    .dataframe tbody tr th:only-of-type {\n",
       "        vertical-align: middle;\n",
       "    }\n",
       "\n",
       "    .dataframe tbody tr th {\n",
       "        vertical-align: top;\n",
       "    }\n",
       "\n",
       "    .dataframe thead th {\n",
       "        text-align: right;\n",
       "    }\n",
       "</style>\n",
       "<table border=\"1\" class=\"dataframe\">\n",
       "  <thead>\n",
       "    <tr style=\"text-align: right;\">\n",
       "      <th></th>\n",
       "      <th>PERMNO</th>\n",
       "      <th>date</th>\n",
       "      <th>PRC</th>\n",
       "    </tr>\n",
       "  </thead>\n",
       "  <tbody>\n",
       "    <tr>\n",
       "      <th>0</th>\n",
       "      <td>17778</td>\n",
       "      <td>20050103</td>\n",
       "      <td>87100.00000</td>\n",
       "    </tr>\n",
       "    <tr>\n",
       "      <th>1</th>\n",
       "      <td>17778</td>\n",
       "      <td>20050104</td>\n",
       "      <td>85901.00000</td>\n",
       "    </tr>\n",
       "    <tr>\n",
       "      <th>2</th>\n",
       "      <td>17778</td>\n",
       "      <td>20050105</td>\n",
       "      <td>85700.00000</td>\n",
       "    </tr>\n",
       "    <tr>\n",
       "      <th>3</th>\n",
       "      <td>17778</td>\n",
       "      <td>20050106</td>\n",
       "      <td>86192.00000</td>\n",
       "    </tr>\n",
       "    <tr>\n",
       "      <th>4</th>\n",
       "      <td>17778</td>\n",
       "      <td>20050107</td>\n",
       "      <td>87500.10156</td>\n",
       "    </tr>\n",
       "  </tbody>\n",
       "</table>\n",
       "</div>"
      ],
      "text/plain": [
       "   PERMNO      date          PRC\n",
       "0   17778  20050103  87100.00000\n",
       "1   17778  20050104  85901.00000\n",
       "2   17778  20050105  85700.00000\n",
       "3   17778  20050106  86192.00000\n",
       "4   17778  20050107  87500.10156"
      ]
     },
     "execution_count": 84,
     "metadata": {},
     "output_type": "execute_result"
    },
    {
     "data": {
      "text/html": [
       "<div>\n",
       "<style scoped>\n",
       "    .dataframe tbody tr th:only-of-type {\n",
       "        vertical-align: middle;\n",
       "    }\n",
       "\n",
       "    .dataframe tbody tr th {\n",
       "        vertical-align: top;\n",
       "    }\n",
       "\n",
       "    .dataframe thead th {\n",
       "        text-align: right;\n",
       "    }\n",
       "</style>\n",
       "<table border=\"1\" class=\"dataframe\">\n",
       "  <thead>\n",
       "    <tr style=\"text-align: right;\">\n",
       "      <th></th>\n",
       "      <th>PERMNO</th>\n",
       "      <th>date</th>\n",
       "      <th>PRC</th>\n",
       "    </tr>\n",
       "  </thead>\n",
       "  <tbody>\n",
       "    <tr>\n",
       "      <th>3770</th>\n",
       "      <td>17778</td>\n",
       "      <td>20191224</td>\n",
       "      <td>338389.90625</td>\n",
       "    </tr>\n",
       "    <tr>\n",
       "      <th>3771</th>\n",
       "      <td>17778</td>\n",
       "      <td>20191226</td>\n",
       "      <td>339650.00000</td>\n",
       "    </tr>\n",
       "    <tr>\n",
       "      <th>3772</th>\n",
       "      <td>17778</td>\n",
       "      <td>20191227</td>\n",
       "      <td>338920.00000</td>\n",
       "    </tr>\n",
       "    <tr>\n",
       "      <th>3773</th>\n",
       "      <td>17778</td>\n",
       "      <td>20191230</td>\n",
       "      <td>338750.00000</td>\n",
       "    </tr>\n",
       "    <tr>\n",
       "      <th>3774</th>\n",
       "      <td>17778</td>\n",
       "      <td>20191231</td>\n",
       "      <td>339590.00000</td>\n",
       "    </tr>\n",
       "  </tbody>\n",
       "</table>\n",
       "</div>"
      ],
      "text/plain": [
       "      PERMNO      date           PRC\n",
       "3770   17778  20191224  338389.90625\n",
       "3771   17778  20191226  339650.00000\n",
       "3772   17778  20191227  338920.00000\n",
       "3773   17778  20191230  338750.00000\n",
       "3774   17778  20191231  339590.00000"
      ]
     },
     "execution_count": 84,
     "metadata": {},
     "output_type": "execute_result"
    },
    {
     "data": {
      "text/html": [
       "<div>\n",
       "<style scoped>\n",
       "    .dataframe tbody tr th:only-of-type {\n",
       "        vertical-align: middle;\n",
       "    }\n",
       "\n",
       "    .dataframe tbody tr th {\n",
       "        vertical-align: top;\n",
       "    }\n",
       "\n",
       "    .dataframe thead th {\n",
       "        text-align: right;\n",
       "    }\n",
       "</style>\n",
       "<table border=\"1\" class=\"dataframe\">\n",
       "  <thead>\n",
       "    <tr style=\"text-align: right;\">\n",
       "      <th></th>\n",
       "      <th>PERMNO</th>\n",
       "      <th>date</th>\n",
       "      <th>PRC</th>\n",
       "    </tr>\n",
       "  </thead>\n",
       "  <tbody>\n",
       "    <tr>\n",
       "      <th>0</th>\n",
       "      <td>83443</td>\n",
       "      <td>20050103</td>\n",
       "      <td>2899.0000</td>\n",
       "    </tr>\n",
       "    <tr>\n",
       "      <th>1</th>\n",
       "      <td>83443</td>\n",
       "      <td>20050104</td>\n",
       "      <td>2855.0000</td>\n",
       "    </tr>\n",
       "    <tr>\n",
       "      <th>2</th>\n",
       "      <td>83443</td>\n",
       "      <td>20050105</td>\n",
       "      <td>2860.0000</td>\n",
       "    </tr>\n",
       "    <tr>\n",
       "      <th>3</th>\n",
       "      <td>83443</td>\n",
       "      <td>20050106</td>\n",
       "      <td>2874.0000</td>\n",
       "    </tr>\n",
       "    <tr>\n",
       "      <th>4</th>\n",
       "      <td>83443</td>\n",
       "      <td>20050107</td>\n",
       "      <td>2918.8999</td>\n",
       "    </tr>\n",
       "  </tbody>\n",
       "</table>\n",
       "</div>"
      ],
      "text/plain": [
       "   PERMNO      date        PRC\n",
       "0   83443  20050103  2899.0000\n",
       "1   83443  20050104  2855.0000\n",
       "2   83443  20050105  2860.0000\n",
       "3   83443  20050106  2874.0000\n",
       "4   83443  20050107  2918.8999"
      ]
     },
     "execution_count": 84,
     "metadata": {},
     "output_type": "execute_result"
    },
    {
     "data": {
      "text/html": [
       "<div>\n",
       "<style scoped>\n",
       "    .dataframe tbody tr th:only-of-type {\n",
       "        vertical-align: middle;\n",
       "    }\n",
       "\n",
       "    .dataframe tbody tr th {\n",
       "        vertical-align: top;\n",
       "    }\n",
       "\n",
       "    .dataframe thead th {\n",
       "        text-align: right;\n",
       "    }\n",
       "</style>\n",
       "<table border=\"1\" class=\"dataframe\">\n",
       "  <thead>\n",
       "    <tr style=\"text-align: right;\">\n",
       "      <th></th>\n",
       "      <th>PERMNO</th>\n",
       "      <th>date</th>\n",
       "      <th>PRC</th>\n",
       "    </tr>\n",
       "  </thead>\n",
       "  <tbody>\n",
       "    <tr>\n",
       "      <th>3770</th>\n",
       "      <td>83443</td>\n",
       "      <td>20191224</td>\n",
       "      <td>225.47000</td>\n",
       "    </tr>\n",
       "    <tr>\n",
       "      <th>3771</th>\n",
       "      <td>83443</td>\n",
       "      <td>20191226</td>\n",
       "      <td>226.45000</td>\n",
       "    </tr>\n",
       "    <tr>\n",
       "      <th>3772</th>\n",
       "      <td>83443</td>\n",
       "      <td>20191227</td>\n",
       "      <td>226.14000</td>\n",
       "    </tr>\n",
       "    <tr>\n",
       "      <th>3773</th>\n",
       "      <td>83443</td>\n",
       "      <td>20191230</td>\n",
       "      <td>225.75999</td>\n",
       "    </tr>\n",
       "    <tr>\n",
       "      <th>3774</th>\n",
       "      <td>83443</td>\n",
       "      <td>20191231</td>\n",
       "      <td>226.50000</td>\n",
       "    </tr>\n",
       "  </tbody>\n",
       "</table>\n",
       "</div>"
      ],
      "text/plain": [
       "      PERMNO      date        PRC\n",
       "3770   83443  20191224  225.47000\n",
       "3771   83443  20191226  226.45000\n",
       "3772   83443  20191227  226.14000\n",
       "3773   83443  20191230  225.75999\n",
       "3774   83443  20191231  226.50000"
      ]
     },
     "execution_count": 84,
     "metadata": {},
     "output_type": "execute_result"
    }
   ],
   "source": [
    "data1 = data[(data['PERMNO'] == 17778)]\n",
    "data2 = data[(data['PERMNO'] == 83443)]\n",
    "data2.reset_index(drop = True, inplace = True)\n",
    "data1.head()\n",
    "data1.tail()\n",
    "data2.head()\n",
    "data2.tail()"
   ]
  },
  {
   "cell_type": "code",
   "execution_count": 85,
   "metadata": {},
   "outputs": [
    {
     "data": {
      "text/plain": [
       "<matplotlib.axes._subplots.AxesSubplot at 0x7fcc71b1d0b8>"
      ]
     },
     "execution_count": 85,
     "metadata": {},
     "output_type": "execute_result"
    },
    {
     "data": {
      "text/plain": [
       "<matplotlib.axes._subplots.AxesSubplot at 0x7fcc71b1d0b8>"
      ]
     },
     "execution_count": 85,
     "metadata": {},
     "output_type": "execute_result"
    },
    {
     "data": {
      "image/png": "[encoded data removed]",
      "text/plain": [
       "<Figure size 432x288 with 1 Axes>"
      ]
     },
     "metadata": {
      "needs_background": "light"
     },
     "output_type": "display_data"
    }
   ],
   "source": [
    "data1['PRC'].plot()\n",
    "data2['PRC'].plot()\n",
    "plt.show()"
   ]
  },
  {
   "cell_type": "markdown",
   "metadata": {},
   "source": [
    "scale이 차이나서 잘안보임."
   ]
  },
  {
   "cell_type": "code",
   "execution_count": 86,
   "metadata": {},
   "outputs": [
    {
     "data": {
      "text/plain": [
       "0        87100.00000\n",
       "1        85901.00000\n",
       "2        85700.00000\n",
       "3        86192.00000\n",
       "4        87500.10156\n",
       "            ...     \n",
       "3770    338389.90625\n",
       "3771    339650.00000\n",
       "3772    338920.00000\n",
       "3773    338750.00000\n",
       "3774    339590.00000\n",
       "Name: PRC, Length: 3775, dtype: float64"
      ]
     },
     "execution_count": 86,
     "metadata": {},
     "output_type": "execute_result"
    },
    {
     "data": {
      "text/plain": [
       "0       2899.00000\n",
       "1       2855.00000\n",
       "2       2860.00000\n",
       "3       2874.00000\n",
       "4       2918.89990\n",
       "           ...    \n",
       "3770     225.47000\n",
       "3771     226.45000\n",
       "3772     226.14000\n",
       "3773     225.75999\n",
       "3774     226.50000\n",
       "Name: PRC, Length: 3775, dtype: float64"
      ]
     },
     "execution_count": 86,
     "metadata": {},
     "output_type": "execute_result"
    }
   ],
   "source": [
    "data1['PRC']\n",
    "data2['PRC']"
   ]
  },
  {
   "cell_type": "code",
   "execution_count": 135,
   "metadata": {},
   "outputs": [
    {
     "data": {
      "text/plain": [
       "(2,)"
      ]
     },
     "execution_count": 135,
     "metadata": {},
     "output_type": "execute_result"
    },
    {
     "data": {
      "text/plain": [
       "(3775, 2)"
      ]
     },
     "execution_count": 135,
     "metadata": {},
     "output_type": "execute_result"
    }
   ],
   "source": []
  },
  {
   "cell_type": "code",
   "execution_count": 159,
   "metadata": {},
   "outputs": [
    {
     "data": {
      "text/plain": [
       "<matplotlib.axes._subplots.AxesSubplot at 0x7fcc7209e9b0>"
      ]
     },
     "execution_count": 159,
     "metadata": {},
     "output_type": "execute_result"
    },
    {
     "data": {
      "text/plain": [
       "Text(0.5, 1.0, 'stationary process')"
      ]
     },
     "execution_count": 159,
     "metadata": {},
     "output_type": "execute_result"
    },
    {
     "data": {
      "image/png": "[encoded data removed]",
      "text/plain": [
       "<Figure size 432x288 with 1 Axes>"
      ]
     },
     "metadata": {
      "needs_background": "light"
     },
     "output_type": "display_data"
    }
   ],
   "source": [
    "# Find a stationary relation\n",
    "y = data2['PRC']\n",
    "x = np.ones((len(y), 2))\n",
    "x[:,1] = data1['PRC']\n",
    "# lr = LinearRegression()\n",
    "# lr.fit(x.to_numpy().reshape(-1,1), y)\n",
    "# coef = lr.coef_\n",
    "# intercept = lr.intercept_\n",
    "coef = np.linalg.inv(x.T@x) @ (x.T@y)\n",
    "# stationaryProcess = y-coef*x-intercept\n",
    "stationaryProcess = y-x@coef\n",
    "stationaryProcess.plot(color = 'blue')\n",
    "plt.title('stationary process')\n",
    "plt.show()\n",
    "stationaryProcess = stationaryProcess.to_numpy()"
   ]
  },
  {
   "cell_type": "code",
   "execution_count": 184,
   "metadata": {},
   "outputs": [],
   "source": [
    "# Error Correction Model\n",
    "y = stationaryProcess[1:] - stationaryProcess[:-1]\n",
    "x = np.ones((len(y),2))\n",
    "x[:,1] = stationaryProcess[:-1] # n * 2\n",
    "coef = np.linalg.inv(x.T@x) @ (x.T@y)\n"
   ]
  },
  {
   "cell_type": "code",
   "execution_count": 185,
   "metadata": {},
   "outputs": [
    {
     "data": {
      "text/plain": [
       "array([ 0.09763536, -0.00154705])"
      ]
     },
     "execution_count": 185,
     "metadata": {},
     "output_type": "execute_result"
    }
   ],
   "source": [
    "coef"
   ]
  },
  {
   "cell_type": "code",
   "execution_count": 186,
   "metadata": {},
   "outputs": [],
   "source": [
    "# Error Correction Model\n",
    "# y = stationaryProcess[1:] - stationaryProcess[:-1]\n",
    "# x = stationaryProcess[:-1]\n",
    "\n",
    "\n",
    "# x_ = np.ones((len(y),2))\n",
    "# x_[:,1] = stationaryProcess[:-1] # n * 2\n",
    "# coef_ = np.linalg.inv(x_.T@x_) @ (x_.T@y)\n",
    "\n",
    "# lr = LinearRegression()\n",
    "# lr.fit(x.reshape(-1,1), y)\n",
    "# coef = lr.coef_\n",
    "# intercept = lr.intercept_\n",
    "residual = y - x @ coef\n",
    "RV2ofResidual = np.zeros(len(residual))\n",
    "\n",
    "for i in range(20, len(residual)):\n",
    "    RV2ofResidual[i] = np.sum(residual[i-20:i] * residual[i-20:i])"
   ]
  },
  {
   "cell_type": "code",
   "execution_count": null,
   "metadata": {},
   "outputs": [],
   "source": []
  },
  {
   "cell_type": "code",
   "execution_count": 187,
   "metadata": {},
   "outputs": [
    {
     "name": "stderr",
     "output_type": "stream",
     "text": [
      "/Library/Frameworks/Python.framework/Versions/3.6/lib/python3.6/site-packages/ipykernel_launcher.py:3: RuntimeWarning: divide by zero encountered in true_divide\n",
      "  This is separate from the ipykernel package so we can avoid doing imports until\n"
     ]
    },
    {
     "data": {
      "text/plain": [
       "array([ 0.0005928 ,  0.00012357, -0.00106443, ...,  0.00094696,\n",
       "        0.00026601, -0.00118683])"
      ]
     },
     "execution_count": 187,
     "metadata": {},
     "output_type": "execute_result"
    },
    {
     "name": "stdout",
     "output_type": "stream",
     "text": [
      "Sharpe ratio : 0.1839564115651763\n"
     ]
    }
   ],
   "source": [
    "# Mean-Variance Betting\n",
    "# BettingResults = (stationaryProcess[1:] - stationaryProcess[:-1]) * (x * coef + intercept) / RV2ofResidual\n",
    "BettingResults = (stationaryProcess[1:] - stationaryProcess[:-1]) * (x @ coef) / RV2ofResidual\n",
    "BettingResults[20:]\n",
    "BettingResults = BettingResults[20:]\n",
    "realizedSR = np.sqrt(252) * BettingResults.mean() / BettingResults.std()\n",
    "print('Sharpe ratio :', realizedSR)"
   ]
  },
  {
   "cell_type": "code",
   "execution_count": null,
   "metadata": {},
   "outputs": [],
   "source": []
  },
  {
   "cell_type": "code",
   "execution_count": null,
   "metadata": {},
   "outputs": [],
   "source": []
  },
  {
   "cell_type": "code",
   "execution_count": null,
   "metadata": {},
   "outputs": [],
   "source": []
  },
  {
   "cell_type": "code",
   "execution_count": null,
   "metadata": {},
   "outputs": [],
   "source": []
  },
  {
   "cell_type": "code",
   "execution_count": null,
   "metadata": {},
   "outputs": [],
   "source": []
  },
  {
   "cell_type": "code",
   "execution_count": null,
   "metadata": {},
   "outputs": [],
   "source": []
  },
  {
   "cell_type": "code",
   "execution_count": null,
   "metadata": {},
   "outputs": [],
   "source": []
  },
  {
   "cell_type": "code",
   "execution_count": null,
   "metadata": {},
   "outputs": [],
   "source": []
  }
 ],
 "metadata": {
  "kernelspec": {
   "display_name": "Python 3",
   "language": "python",
   "name": "python3"
  },
  "language_info": {
   "codemirror_mode": {
    "name": "ipython",
    "version": 3
   },
   "file_extension": ".py",
   "mimetype": "text/x-python",
   "name": "python",
   "nbconvert_exporter": "python",
   "pygments_lexer": "ipython3",
   "version": "3.6.8"
  }
 },
 "nbformat": 4,
 "nbformat_minor": 2
}
