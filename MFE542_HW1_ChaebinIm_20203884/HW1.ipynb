{
 "cells": [
  {
   "cell_type": "code",
   "execution_count": 1,
   "metadata": {},
   "outputs": [],
   "source": [
    "import numpy as np\n",
    "from IPython.core.interactiveshell import InteractiveShell\n",
    "InteractiveShell.ast_node_interactivity = \"all\" # 한 실행칸에 프린트 여러개 해도 다 출력시키도록 하는 코드.\n",
    "import matplotlib.pyplot as plt"
   ]
  },
  {
   "cell_type": "code",
   "execution_count": 2,
   "metadata": {},
   "outputs": [],
   "source": [
    "def Solution(mu, sigma, r, s0, T, B, num_dt, num_sim):\n",
    "    \n",
    "    # Generating stock paths\n",
    "    dt = T/num_dt\n",
    "    Initial_log_stock_price = np.log(s0) * np.ones((1, num_sim))\n",
    "    binomial =  -1 + 2 * np.random.binomial(1, 0.5, (num_dt, num_sim))\n",
    "    # normal = np.random.randn(num_dt, num_sim)\n",
    "    dw = binomial * np.sqrt(dt)\n",
    "    # dw = normal * np.sqrt(dt)\n",
    "    d_logS = (r-0.5*(sigma**2)) * dt * np.ones((num_dt, num_sim)) + dw * sigma\n",
    "    tmp = np.concatenate((Initial_log_stock_price, d_logS), axis=0)\n",
    "    log_stock_price = np.cumsum(tmp, axis = 0)\n",
    "    stock_price = np.exp(log_stock_price)\n",
    "    \n",
    "    #Plotting Stock paths - time cumsuming.. \n",
    "#     plt.title(\"Stock paths\")\n",
    "#     plt.plot(stock_price)\n",
    "#     plt.show()\n",
    "    \n",
    "\n",
    "    # search the hitting point\n",
    "    hit_idxs = []\n",
    "    for j in range(len(stock_price[0])):\n",
    "        for i in range(len(stock_price)):\n",
    "            if(stock_price[i][j] >= B or i == len(stock_price)-1):\n",
    "                hit_idxs.append(i)\n",
    "                break\n",
    "                \n",
    "    # pricing\n",
    "    pv_payoffs = []\n",
    "    for j in range(len(stock_price[0])):\n",
    "        t = hit_idxs[j]\n",
    "        pv_payoff = stock_price[:t+1,j].mean() * np.exp(-r * t * dt)\n",
    "        pv_payoffs.append(pv_payoff)\n",
    "\n",
    "    return np.array(pv_payoffs).mean()\n",
    "    "
   ]
  },
  {
   "cell_type": "code",
   "execution_count": 3,
   "metadata": {},
   "outputs": [],
   "source": [
    "mu, sigma, r, s0, T, B, num_dt, num_sim = 0.05, 0.2, 0.03, 100, 2, 110, 10000, 10000"
   ]
  },
  {
   "cell_type": "code",
   "execution_count": 4,
   "metadata": {},
   "outputs": [
    {
     "data": {
      "text/plain": [
       "93.96170407176774"
      ]
     },
     "execution_count": 4,
     "metadata": {},
     "output_type": "execute_result"
    }
   ],
   "source": [
    "Solution(mu, sigma, r, s0, T, B, num_dt, num_sim)"
   ]
  },
  {
   "cell_type": "code",
   "execution_count": null,
   "metadata": {},
   "outputs": [],
   "source": []
  },
  {
   "cell_type": "code",
   "execution_count": null,
   "metadata": {},
   "outputs": [],
   "source": []
  },
  {
   "cell_type": "code",
   "execution_count": null,
   "metadata": {},
   "outputs": [],
   "source": []
  },
  {
   "cell_type": "code",
   "execution_count": null,
   "metadata": {},
   "outputs": [],
   "source": []
  },
  {
   "cell_type": "code",
   "execution_count": null,
   "metadata": {},
   "outputs": [],
   "source": []
  },
  {
   "cell_type": "code",
   "execution_count": null,
   "metadata": {},
   "outputs": [],
   "source": []
  },
  {
   "cell_type": "code",
   "execution_count": null,
   "metadata": {},
   "outputs": [],
   "source": []
  }
 ],
 "metadata": {
  "kernelspec": {
   "display_name": "Python 3",
   "language": "python",
   "name": "python3"
  },
  "language_info": {
   "codemirror_mode": {
    "name": "ipython",
    "version": 3
   },
   "file_extension": ".py",
   "mimetype": "text/x-python",
   "name": "python",
   "nbconvert_exporter": "python",
   "pygments_lexer": "ipython3",
   "version": "3.6.8"
  }
 },
 "nbformat": 4,
 "nbformat_minor": 2
}
