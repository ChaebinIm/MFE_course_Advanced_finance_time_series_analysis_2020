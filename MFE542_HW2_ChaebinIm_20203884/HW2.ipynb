{
 "cells": [
  {
   "cell_type": "code",
   "execution_count": 1,
   "metadata": {},
   "outputs": [],
   "source": [
    "import numpy as np\n",
    "import pandas as pd\n",
    "import matplotlib.pyplot as plt\n",
    "from IPython.core.interactiveshell import InteractiveShell\n",
    "InteractiveShell.ast_node_interactivity = \"all\" # 한 실행칸에 프린트 여러개 해도 다 출력시키도록 하는 코드.\n",
    "from sklearn.linear_model import LinearRegression\n",
    "from sklearn.metrics import r2_score\n",
    "from pandas.tseries.offsets import MonthEnd\n",
    "pd.set_option(\"display.max_rows\", 101)"
   ]
  },
  {
   "cell_type": "code",
   "execution_count": 2,
   "metadata": {},
   "outputs": [
    {
     "data": {
      "text/html": [
       "<div>\n",
       "<style scoped>\n",
       "    .dataframe tbody tr th:only-of-type {\n",
       "        vertical-align: middle;\n",
       "    }\n",
       "\n",
       "    .dataframe tbody tr th {\n",
       "        vertical-align: top;\n",
       "    }\n",
       "\n",
       "    .dataframe thead th {\n",
       "        text-align: right;\n",
       "    }\n",
       "</style>\n",
       "<table border=\"1\" class=\"dataframe\">\n",
       "  <thead>\n",
       "    <tr style=\"text-align: right;\">\n",
       "      <th></th>\n",
       "      <th>Unnamed: 0</th>\n",
       "      <th>코스피</th>\n",
       "    </tr>\n",
       "  </thead>\n",
       "  <tbody>\n",
       "    <tr>\n",
       "      <th>0</th>\n",
       "      <td>2000-02-29</td>\n",
       "      <td>828.38</td>\n",
       "    </tr>\n",
       "    <tr>\n",
       "      <th>1</th>\n",
       "      <td>2000-03-31</td>\n",
       "      <td>860.94</td>\n",
       "    </tr>\n",
       "    <tr>\n",
       "      <th>2</th>\n",
       "      <td>2000-04-30</td>\n",
       "      <td>725.39</td>\n",
       "    </tr>\n",
       "    <tr>\n",
       "      <th>3</th>\n",
       "      <td>2000-05-31</td>\n",
       "      <td>731.88</td>\n",
       "    </tr>\n",
       "    <tr>\n",
       "      <th>4</th>\n",
       "      <td>2000-06-30</td>\n",
       "      <td>821.22</td>\n",
       "    </tr>\n",
       "  </tbody>\n",
       "</table>\n",
       "</div>"
      ],
      "text/plain": [
       "  Unnamed: 0     코스피\n",
       "0 2000-02-29  828.38\n",
       "1 2000-03-31  860.94\n",
       "2 2000-04-30  725.39\n",
       "3 2000-05-31  731.88\n",
       "4 2000-06-30  821.22"
      ]
     },
     "execution_count": 2,
     "metadata": {},
     "output_type": "execute_result"
    },
    {
     "data": {
      "text/html": [
       "<div>\n",
       "<style scoped>\n",
       "    .dataframe tbody tr th:only-of-type {\n",
       "        vertical-align: middle;\n",
       "    }\n",
       "\n",
       "    .dataframe tbody tr th {\n",
       "        vertical-align: top;\n",
       "    }\n",
       "\n",
       "    .dataframe thead th {\n",
       "        text-align: right;\n",
       "    }\n",
       "</style>\n",
       "<table border=\"1\" class=\"dataframe\">\n",
       "  <thead>\n",
       "    <tr style=\"text-align: right;\">\n",
       "      <th></th>\n",
       "      <th>yyyymm</th>\n",
       "      <th>Index</th>\n",
       "      <th>D12</th>\n",
       "      <th>E12</th>\n",
       "      <th>b/m</th>\n",
       "      <th>tbl</th>\n",
       "      <th>AAA</th>\n",
       "      <th>BAA</th>\n",
       "      <th>lty</th>\n",
       "      <th>ntis</th>\n",
       "      <th>Rfree</th>\n",
       "      <th>infl</th>\n",
       "      <th>ltr</th>\n",
       "      <th>corpr</th>\n",
       "      <th>svar</th>\n",
       "      <th>csp</th>\n",
       "      <th>CRSP_SPvw</th>\n",
       "      <th>CRSP_SPvwx</th>\n",
       "    </tr>\n",
       "  </thead>\n",
       "  <tbody>\n",
       "    <tr>\n",
       "      <th>0</th>\n",
       "      <td>187101</td>\n",
       "      <td>4.44</td>\n",
       "      <td>0.26</td>\n",
       "      <td>0.4</td>\n",
       "      <td>NaN</td>\n",
       "      <td>NaN</td>\n",
       "      <td>NaN</td>\n",
       "      <td>NaN</td>\n",
       "      <td>NaN</td>\n",
       "      <td>NaN</td>\n",
       "      <td>0.004955</td>\n",
       "      <td>NaN</td>\n",
       "      <td>NaN</td>\n",
       "      <td>NaN</td>\n",
       "      <td>NaN</td>\n",
       "      <td>NaN</td>\n",
       "      <td>NaN</td>\n",
       "      <td>NaN</td>\n",
       "    </tr>\n",
       "    <tr>\n",
       "      <th>1</th>\n",
       "      <td>187102</td>\n",
       "      <td>4.50</td>\n",
       "      <td>0.26</td>\n",
       "      <td>0.4</td>\n",
       "      <td>NaN</td>\n",
       "      <td>NaN</td>\n",
       "      <td>NaN</td>\n",
       "      <td>NaN</td>\n",
       "      <td>NaN</td>\n",
       "      <td>NaN</td>\n",
       "      <td>0.004514</td>\n",
       "      <td>NaN</td>\n",
       "      <td>NaN</td>\n",
       "      <td>NaN</td>\n",
       "      <td>NaN</td>\n",
       "      <td>NaN</td>\n",
       "      <td>NaN</td>\n",
       "      <td>NaN</td>\n",
       "    </tr>\n",
       "    <tr>\n",
       "      <th>2</th>\n",
       "      <td>187103</td>\n",
       "      <td>4.61</td>\n",
       "      <td>0.26</td>\n",
       "      <td>0.4</td>\n",
       "      <td>NaN</td>\n",
       "      <td>NaN</td>\n",
       "      <td>NaN</td>\n",
       "      <td>NaN</td>\n",
       "      <td>NaN</td>\n",
       "      <td>NaN</td>\n",
       "      <td>0.004243</td>\n",
       "      <td>NaN</td>\n",
       "      <td>NaN</td>\n",
       "      <td>NaN</td>\n",
       "      <td>NaN</td>\n",
       "      <td>NaN</td>\n",
       "      <td>NaN</td>\n",
       "      <td>NaN</td>\n",
       "    </tr>\n",
       "    <tr>\n",
       "      <th>3</th>\n",
       "      <td>187104</td>\n",
       "      <td>4.74</td>\n",
       "      <td>0.26</td>\n",
       "      <td>0.4</td>\n",
       "      <td>NaN</td>\n",
       "      <td>NaN</td>\n",
       "      <td>NaN</td>\n",
       "      <td>NaN</td>\n",
       "      <td>NaN</td>\n",
       "      <td>NaN</td>\n",
       "      <td>0.004632</td>\n",
       "      <td>NaN</td>\n",
       "      <td>NaN</td>\n",
       "      <td>NaN</td>\n",
       "      <td>NaN</td>\n",
       "      <td>NaN</td>\n",
       "      <td>NaN</td>\n",
       "      <td>NaN</td>\n",
       "    </tr>\n",
       "    <tr>\n",
       "      <th>4</th>\n",
       "      <td>187105</td>\n",
       "      <td>4.86</td>\n",
       "      <td>0.26</td>\n",
       "      <td>0.4</td>\n",
       "      <td>NaN</td>\n",
       "      <td>NaN</td>\n",
       "      <td>NaN</td>\n",
       "      <td>NaN</td>\n",
       "      <td>NaN</td>\n",
       "      <td>NaN</td>\n",
       "      <td>0.003691</td>\n",
       "      <td>NaN</td>\n",
       "      <td>NaN</td>\n",
       "      <td>NaN</td>\n",
       "      <td>NaN</td>\n",
       "      <td>NaN</td>\n",
       "      <td>NaN</td>\n",
       "      <td>NaN</td>\n",
       "    </tr>\n",
       "  </tbody>\n",
       "</table>\n",
       "</div>"
      ],
      "text/plain": [
       "   yyyymm  Index   D12  E12  b/m  tbl  AAA  BAA  lty  ntis     Rfree  infl  \\\n",
       "0  187101   4.44  0.26  0.4  NaN  NaN  NaN  NaN  NaN   NaN  0.004955   NaN   \n",
       "1  187102   4.50  0.26  0.4  NaN  NaN  NaN  NaN  NaN   NaN  0.004514   NaN   \n",
       "2  187103   4.61  0.26  0.4  NaN  NaN  NaN  NaN  NaN   NaN  0.004243   NaN   \n",
       "3  187104   4.74  0.26  0.4  NaN  NaN  NaN  NaN  NaN   NaN  0.004632   NaN   \n",
       "4  187105   4.86  0.26  0.4  NaN  NaN  NaN  NaN  NaN   NaN  0.003691   NaN   \n",
       "\n",
       "   ltr  corpr  svar  csp  CRSP_SPvw  CRSP_SPvwx  \n",
       "0  NaN    NaN   NaN  NaN        NaN         NaN  \n",
       "1  NaN    NaN   NaN  NaN        NaN         NaN  \n",
       "2  NaN    NaN   NaN  NaN        NaN         NaN  \n",
       "3  NaN    NaN   NaN  NaN        NaN         NaN  \n",
       "4  NaN    NaN   NaN  NaN        NaN         NaN  "
      ]
     },
     "execution_count": 2,
     "metadata": {},
     "output_type": "execute_result"
    },
    {
     "data": {
      "text/html": [
       "<div>\n",
       "<style scoped>\n",
       "    .dataframe tbody tr th:only-of-type {\n",
       "        vertical-align: middle;\n",
       "    }\n",
       "\n",
       "    .dataframe tbody tr th {\n",
       "        vertical-align: top;\n",
       "    }\n",
       "\n",
       "    .dataframe thead th {\n",
       "        text-align: right;\n",
       "    }\n",
       "</style>\n",
       "<table border=\"1\" class=\"dataframe\">\n",
       "  <thead>\n",
       "    <tr style=\"text-align: right;\">\n",
       "      <th></th>\n",
       "      <th>caldt</th>\n",
       "      <th>vwretd</th>\n",
       "      <th>ewretd</th>\n",
       "    </tr>\n",
       "  </thead>\n",
       "  <tbody>\n",
       "    <tr>\n",
       "      <th>0</th>\n",
       "      <td>19251231</td>\n",
       "      <td>NaN</td>\n",
       "      <td>NaN</td>\n",
       "    </tr>\n",
       "    <tr>\n",
       "      <th>1</th>\n",
       "      <td>19260130</td>\n",
       "      <td>-0.001783</td>\n",
       "      <td>0.006457</td>\n",
       "    </tr>\n",
       "    <tr>\n",
       "      <th>2</th>\n",
       "      <td>19260227</td>\n",
       "      <td>-0.033296</td>\n",
       "      <td>-0.039979</td>\n",
       "    </tr>\n",
       "    <tr>\n",
       "      <th>3</th>\n",
       "      <td>19260331</td>\n",
       "      <td>-0.057708</td>\n",
       "      <td>-0.067915</td>\n",
       "    </tr>\n",
       "    <tr>\n",
       "      <th>4</th>\n",
       "      <td>19260430</td>\n",
       "      <td>0.038522</td>\n",
       "      <td>0.031441</td>\n",
       "    </tr>\n",
       "  </tbody>\n",
       "</table>\n",
       "</div>"
      ],
      "text/plain": [
       "      caldt    vwretd    ewretd\n",
       "0  19251231       NaN       NaN\n",
       "1  19260130 -0.001783  0.006457\n",
       "2  19260227 -0.033296 -0.039979\n",
       "3  19260331 -0.057708 -0.067915\n",
       "4  19260430  0.038522  0.031441"
      ]
     },
     "execution_count": 2,
     "metadata": {},
     "output_type": "execute_result"
    }
   ],
   "source": [
    "kdata = pd.read_excel('./kospi.xlsx')\n",
    "gwdata = pd.read_excel('./PredictorData2016.xlsx')\n",
    "snpdata = pd.read_csv('./SP500Ret_for_Goyal_Welch_Comparison.csv')\n",
    "kdata.head()\n",
    "gwdata.head()\n",
    "snpdata.head()"
   ]
  },
  {
   "cell_type": "code",
   "execution_count": 3,
   "metadata": {},
   "outputs": [],
   "source": [
    "snpdata = snpdata[(snpdata['caldt'] >= 19270100) & (snpdata['caldt'] <= 20151231)]"
   ]
  },
  {
   "cell_type": "code",
   "execution_count": 4,
   "metadata": {},
   "outputs": [
    {
     "data": {
      "text/plain": [
       "date           datetime64[ns]\n",
       "kospi_close           float64\n",
       "dtype: object"
      ]
     },
     "execution_count": 4,
     "metadata": {},
     "output_type": "execute_result"
    }
   ],
   "source": [
    "kdata.columns = ['date', 'kospi_close']\n",
    "kdata.dtypes"
   ]
  },
  {
   "cell_type": "code",
   "execution_count": 5,
   "metadata": {},
   "outputs": [
    {
     "data": {
      "text/plain": [
       "yyyymm        datetime64[ns]\n",
       "Index                float64\n",
       "D12                  float64\n",
       "E12                  float64\n",
       "b/m                  float64\n",
       "tbl                  float64\n",
       "AAA                  float64\n",
       "BAA                  float64\n",
       "lty                  float64\n",
       "ntis                 float64\n",
       "Rfree                float64\n",
       "infl                 float64\n",
       "ltr                  float64\n",
       "corpr                float64\n",
       "svar                 float64\n",
       "csp                  float64\n",
       "CRSP_SPvw            float64\n",
       "CRSP_SPvwx           float64\n",
       "dtype: object"
      ]
     },
     "execution_count": 5,
     "metadata": {},
     "output_type": "execute_result"
    }
   ],
   "source": [
    "gwdata['yyyymm'] = pd.to_datetime(gwdata['yyyymm'], format='%Y%m')\n",
    "gwdata.dtypes"
   ]
  },
  {
   "cell_type": "code",
   "execution_count": 6,
   "metadata": {},
   "outputs": [
    {
     "data": {
      "text/html": [
       "<div>\n",
       "<style scoped>\n",
       "    .dataframe tbody tr th:only-of-type {\n",
       "        vertical-align: middle;\n",
       "    }\n",
       "\n",
       "    .dataframe tbody tr th {\n",
       "        vertical-align: top;\n",
       "    }\n",
       "\n",
       "    .dataframe thead th {\n",
       "        text-align: right;\n",
       "    }\n",
       "</style>\n",
       "<table border=\"1\" class=\"dataframe\">\n",
       "  <thead>\n",
       "    <tr style=\"text-align: right;\">\n",
       "      <th></th>\n",
       "      <th>yyyymm</th>\n",
       "      <th>Index</th>\n",
       "      <th>D12</th>\n",
       "      <th>E12</th>\n",
       "      <th>b/m</th>\n",
       "      <th>tbl</th>\n",
       "      <th>AAA</th>\n",
       "      <th>BAA</th>\n",
       "      <th>lty</th>\n",
       "      <th>ntis</th>\n",
       "      <th>Rfree</th>\n",
       "      <th>infl</th>\n",
       "      <th>ltr</th>\n",
       "      <th>corpr</th>\n",
       "      <th>svar</th>\n",
       "      <th>csp</th>\n",
       "      <th>CRSP_SPvw</th>\n",
       "      <th>CRSP_SPvwx</th>\n",
       "    </tr>\n",
       "  </thead>\n",
       "  <tbody>\n",
       "    <tr>\n",
       "      <th>0</th>\n",
       "      <td>1871-01-01</td>\n",
       "      <td>4.44</td>\n",
       "      <td>0.26</td>\n",
       "      <td>0.4</td>\n",
       "      <td>NaN</td>\n",
       "      <td>NaN</td>\n",
       "      <td>NaN</td>\n",
       "      <td>NaN</td>\n",
       "      <td>NaN</td>\n",
       "      <td>NaN</td>\n",
       "      <td>0.004955</td>\n",
       "      <td>NaN</td>\n",
       "      <td>NaN</td>\n",
       "      <td>NaN</td>\n",
       "      <td>NaN</td>\n",
       "      <td>NaN</td>\n",
       "      <td>NaN</td>\n",
       "      <td>NaN</td>\n",
       "    </tr>\n",
       "    <tr>\n",
       "      <th>1</th>\n",
       "      <td>1871-02-01</td>\n",
       "      <td>4.50</td>\n",
       "      <td>0.26</td>\n",
       "      <td>0.4</td>\n",
       "      <td>NaN</td>\n",
       "      <td>NaN</td>\n",
       "      <td>NaN</td>\n",
       "      <td>NaN</td>\n",
       "      <td>NaN</td>\n",
       "      <td>NaN</td>\n",
       "      <td>0.004514</td>\n",
       "      <td>NaN</td>\n",
       "      <td>NaN</td>\n",
       "      <td>NaN</td>\n",
       "      <td>NaN</td>\n",
       "      <td>NaN</td>\n",
       "      <td>NaN</td>\n",
       "      <td>NaN</td>\n",
       "    </tr>\n",
       "    <tr>\n",
       "      <th>2</th>\n",
       "      <td>1871-03-01</td>\n",
       "      <td>4.61</td>\n",
       "      <td>0.26</td>\n",
       "      <td>0.4</td>\n",
       "      <td>NaN</td>\n",
       "      <td>NaN</td>\n",
       "      <td>NaN</td>\n",
       "      <td>NaN</td>\n",
       "      <td>NaN</td>\n",
       "      <td>NaN</td>\n",
       "      <td>0.004243</td>\n",
       "      <td>NaN</td>\n",
       "      <td>NaN</td>\n",
       "      <td>NaN</td>\n",
       "      <td>NaN</td>\n",
       "      <td>NaN</td>\n",
       "      <td>NaN</td>\n",
       "      <td>NaN</td>\n",
       "    </tr>\n",
       "    <tr>\n",
       "      <th>3</th>\n",
       "      <td>1871-04-01</td>\n",
       "      <td>4.74</td>\n",
       "      <td>0.26</td>\n",
       "      <td>0.4</td>\n",
       "      <td>NaN</td>\n",
       "      <td>NaN</td>\n",
       "      <td>NaN</td>\n",
       "      <td>NaN</td>\n",
       "      <td>NaN</td>\n",
       "      <td>NaN</td>\n",
       "      <td>0.004632</td>\n",
       "      <td>NaN</td>\n",
       "      <td>NaN</td>\n",
       "      <td>NaN</td>\n",
       "      <td>NaN</td>\n",
       "      <td>NaN</td>\n",
       "      <td>NaN</td>\n",
       "      <td>NaN</td>\n",
       "    </tr>\n",
       "    <tr>\n",
       "      <th>4</th>\n",
       "      <td>1871-05-01</td>\n",
       "      <td>4.86</td>\n",
       "      <td>0.26</td>\n",
       "      <td>0.4</td>\n",
       "      <td>NaN</td>\n",
       "      <td>NaN</td>\n",
       "      <td>NaN</td>\n",
       "      <td>NaN</td>\n",
       "      <td>NaN</td>\n",
       "      <td>NaN</td>\n",
       "      <td>0.003691</td>\n",
       "      <td>NaN</td>\n",
       "      <td>NaN</td>\n",
       "      <td>NaN</td>\n",
       "      <td>NaN</td>\n",
       "      <td>NaN</td>\n",
       "      <td>NaN</td>\n",
       "      <td>NaN</td>\n",
       "    </tr>\n",
       "  </tbody>\n",
       "</table>\n",
       "</div>"
      ],
      "text/plain": [
       "      yyyymm  Index   D12  E12  b/m  tbl  AAA  BAA  lty  ntis     Rfree  infl  \\\n",
       "0 1871-01-01   4.44  0.26  0.4  NaN  NaN  NaN  NaN  NaN   NaN  0.004955   NaN   \n",
       "1 1871-02-01   4.50  0.26  0.4  NaN  NaN  NaN  NaN  NaN   NaN  0.004514   NaN   \n",
       "2 1871-03-01   4.61  0.26  0.4  NaN  NaN  NaN  NaN  NaN   NaN  0.004243   NaN   \n",
       "3 1871-04-01   4.74  0.26  0.4  NaN  NaN  NaN  NaN  NaN   NaN  0.004632   NaN   \n",
       "4 1871-05-01   4.86  0.26  0.4  NaN  NaN  NaN  NaN  NaN   NaN  0.003691   NaN   \n",
       "\n",
       "   ltr  corpr  svar  csp  CRSP_SPvw  CRSP_SPvwx  \n",
       "0  NaN    NaN   NaN  NaN        NaN         NaN  \n",
       "1  NaN    NaN   NaN  NaN        NaN         NaN  \n",
       "2  NaN    NaN   NaN  NaN        NaN         NaN  \n",
       "3  NaN    NaN   NaN  NaN        NaN         NaN  \n",
       "4  NaN    NaN   NaN  NaN        NaN         NaN  "
      ]
     },
     "execution_count": 6,
     "metadata": {},
     "output_type": "execute_result"
    },
    {
     "data": {
      "text/html": [
       "<div>\n",
       "<style scoped>\n",
       "    .dataframe tbody tr th:only-of-type {\n",
       "        vertical-align: middle;\n",
       "    }\n",
       "\n",
       "    .dataframe tbody tr th {\n",
       "        vertical-align: top;\n",
       "    }\n",
       "\n",
       "    .dataframe thead th {\n",
       "        text-align: right;\n",
       "    }\n",
       "</style>\n",
       "<table border=\"1\" class=\"dataframe\">\n",
       "  <thead>\n",
       "    <tr style=\"text-align: right;\">\n",
       "      <th></th>\n",
       "      <th>date</th>\n",
       "      <th>kospi_close</th>\n",
       "    </tr>\n",
       "  </thead>\n",
       "  <tbody>\n",
       "    <tr>\n",
       "      <th>0</th>\n",
       "      <td>2000-02-29</td>\n",
       "      <td>828.38</td>\n",
       "    </tr>\n",
       "    <tr>\n",
       "      <th>1</th>\n",
       "      <td>2000-03-31</td>\n",
       "      <td>860.94</td>\n",
       "    </tr>\n",
       "    <tr>\n",
       "      <th>2</th>\n",
       "      <td>2000-04-30</td>\n",
       "      <td>725.39</td>\n",
       "    </tr>\n",
       "    <tr>\n",
       "      <th>3</th>\n",
       "      <td>2000-05-31</td>\n",
       "      <td>731.88</td>\n",
       "    </tr>\n",
       "    <tr>\n",
       "      <th>4</th>\n",
       "      <td>2000-06-30</td>\n",
       "      <td>821.22</td>\n",
       "    </tr>\n",
       "  </tbody>\n",
       "</table>\n",
       "</div>"
      ],
      "text/plain": [
       "        date  kospi_close\n",
       "0 2000-02-29       828.38\n",
       "1 2000-03-31       860.94\n",
       "2 2000-04-30       725.39\n",
       "3 2000-05-31       731.88\n",
       "4 2000-06-30       821.22"
      ]
     },
     "execution_count": 6,
     "metadata": {},
     "output_type": "execute_result"
    },
    {
     "data": {
      "text/html": [
       "<div>\n",
       "<style scoped>\n",
       "    .dataframe tbody tr th:only-of-type {\n",
       "        vertical-align: middle;\n",
       "    }\n",
       "\n",
       "    .dataframe tbody tr th {\n",
       "        vertical-align: top;\n",
       "    }\n",
       "\n",
       "    .dataframe thead th {\n",
       "        text-align: right;\n",
       "    }\n",
       "</style>\n",
       "<table border=\"1\" class=\"dataframe\">\n",
       "  <thead>\n",
       "    <tr style=\"text-align: right;\">\n",
       "      <th></th>\n",
       "      <th>date</th>\n",
       "      <th>kospi_close</th>\n",
       "    </tr>\n",
       "  </thead>\n",
       "  <tbody>\n",
       "    <tr>\n",
       "      <th>245</th>\n",
       "      <td>2020-07-31</td>\n",
       "      <td>2249.37</td>\n",
       "    </tr>\n",
       "    <tr>\n",
       "      <th>246</th>\n",
       "      <td>2020-08-31</td>\n",
       "      <td>2326.17</td>\n",
       "    </tr>\n",
       "    <tr>\n",
       "      <th>247</th>\n",
       "      <td>2020-09-30</td>\n",
       "      <td>2327.89</td>\n",
       "    </tr>\n",
       "    <tr>\n",
       "      <th>248</th>\n",
       "      <td>2020-10-31</td>\n",
       "      <td>2267.15</td>\n",
       "    </tr>\n",
       "    <tr>\n",
       "      <th>249</th>\n",
       "      <td>2020-11-19</td>\n",
       "      <td>2547.42</td>\n",
       "    </tr>\n",
       "  </tbody>\n",
       "</table>\n",
       "</div>"
      ],
      "text/plain": [
       "          date  kospi_close\n",
       "245 2020-07-31      2249.37\n",
       "246 2020-08-31      2326.17\n",
       "247 2020-09-30      2327.89\n",
       "248 2020-10-31      2267.15\n",
       "249 2020-11-19      2547.42"
      ]
     },
     "execution_count": 6,
     "metadata": {},
     "output_type": "execute_result"
    }
   ],
   "source": [
    "gwdata.head()\n",
    "kdata.head()\n",
    "kdata.tail()"
   ]
  },
  {
   "cell_type": "code",
   "execution_count": 7,
   "metadata": {},
   "outputs": [],
   "source": [
    "# gwdata.dropna(inplace = True)\n",
    "# kdata.dropna(inplace = True)\n",
    "# snpdata.dropna(inplace = True)"
   ]
  },
  {
   "cell_type": "code",
   "execution_count": 8,
   "metadata": {
    "scrolled": true
   },
   "outputs": [
    {
     "data": {
      "text/html": [
       "<div>\n",
       "<style scoped>\n",
       "    .dataframe tbody tr th:only-of-type {\n",
       "        vertical-align: middle;\n",
       "    }\n",
       "\n",
       "    .dataframe tbody tr th {\n",
       "        vertical-align: top;\n",
       "    }\n",
       "\n",
       "    .dataframe thead th {\n",
       "        text-align: right;\n",
       "    }\n",
       "</style>\n",
       "<table border=\"1\" class=\"dataframe\">\n",
       "  <thead>\n",
       "    <tr style=\"text-align: right;\">\n",
       "      <th></th>\n",
       "      <th>yyyymm</th>\n",
       "      <th>Index</th>\n",
       "      <th>D12</th>\n",
       "      <th>E12</th>\n",
       "      <th>b/m</th>\n",
       "      <th>tbl</th>\n",
       "      <th>AAA</th>\n",
       "      <th>BAA</th>\n",
       "      <th>lty</th>\n",
       "      <th>ntis</th>\n",
       "      <th>Rfree</th>\n",
       "      <th>infl</th>\n",
       "      <th>ltr</th>\n",
       "      <th>corpr</th>\n",
       "      <th>svar</th>\n",
       "      <th>csp</th>\n",
       "      <th>CRSP_SPvw</th>\n",
       "      <th>CRSP_SPvwx</th>\n",
       "    </tr>\n",
       "  </thead>\n",
       "  <tbody>\n",
       "    <tr>\n",
       "      <th>0</th>\n",
       "      <td>1871-01-01</td>\n",
       "      <td>4.44</td>\n",
       "      <td>0.26</td>\n",
       "      <td>0.4</td>\n",
       "      <td>NaN</td>\n",
       "      <td>NaN</td>\n",
       "      <td>NaN</td>\n",
       "      <td>NaN</td>\n",
       "      <td>NaN</td>\n",
       "      <td>NaN</td>\n",
       "      <td>0.004955</td>\n",
       "      <td>NaN</td>\n",
       "      <td>NaN</td>\n",
       "      <td>NaN</td>\n",
       "      <td>NaN</td>\n",
       "      <td>NaN</td>\n",
       "      <td>NaN</td>\n",
       "      <td>NaN</td>\n",
       "    </tr>\n",
       "    <tr>\n",
       "      <th>1</th>\n",
       "      <td>1871-02-01</td>\n",
       "      <td>4.50</td>\n",
       "      <td>0.26</td>\n",
       "      <td>0.4</td>\n",
       "      <td>NaN</td>\n",
       "      <td>NaN</td>\n",
       "      <td>NaN</td>\n",
       "      <td>NaN</td>\n",
       "      <td>NaN</td>\n",
       "      <td>NaN</td>\n",
       "      <td>0.004514</td>\n",
       "      <td>NaN</td>\n",
       "      <td>NaN</td>\n",
       "      <td>NaN</td>\n",
       "      <td>NaN</td>\n",
       "      <td>NaN</td>\n",
       "      <td>NaN</td>\n",
       "      <td>NaN</td>\n",
       "    </tr>\n",
       "    <tr>\n",
       "      <th>2</th>\n",
       "      <td>1871-03-01</td>\n",
       "      <td>4.61</td>\n",
       "      <td>0.26</td>\n",
       "      <td>0.4</td>\n",
       "      <td>NaN</td>\n",
       "      <td>NaN</td>\n",
       "      <td>NaN</td>\n",
       "      <td>NaN</td>\n",
       "      <td>NaN</td>\n",
       "      <td>NaN</td>\n",
       "      <td>0.004243</td>\n",
       "      <td>NaN</td>\n",
       "      <td>NaN</td>\n",
       "      <td>NaN</td>\n",
       "      <td>NaN</td>\n",
       "      <td>NaN</td>\n",
       "      <td>NaN</td>\n",
       "      <td>NaN</td>\n",
       "    </tr>\n",
       "    <tr>\n",
       "      <th>3</th>\n",
       "      <td>1871-04-01</td>\n",
       "      <td>4.74</td>\n",
       "      <td>0.26</td>\n",
       "      <td>0.4</td>\n",
       "      <td>NaN</td>\n",
       "      <td>NaN</td>\n",
       "      <td>NaN</td>\n",
       "      <td>NaN</td>\n",
       "      <td>NaN</td>\n",
       "      <td>NaN</td>\n",
       "      <td>0.004632</td>\n",
       "      <td>NaN</td>\n",
       "      <td>NaN</td>\n",
       "      <td>NaN</td>\n",
       "      <td>NaN</td>\n",
       "      <td>NaN</td>\n",
       "      <td>NaN</td>\n",
       "      <td>NaN</td>\n",
       "    </tr>\n",
       "    <tr>\n",
       "      <th>4</th>\n",
       "      <td>1871-05-01</td>\n",
       "      <td>4.86</td>\n",
       "      <td>0.26</td>\n",
       "      <td>0.4</td>\n",
       "      <td>NaN</td>\n",
       "      <td>NaN</td>\n",
       "      <td>NaN</td>\n",
       "      <td>NaN</td>\n",
       "      <td>NaN</td>\n",
       "      <td>NaN</td>\n",
       "      <td>0.003691</td>\n",
       "      <td>NaN</td>\n",
       "      <td>NaN</td>\n",
       "      <td>NaN</td>\n",
       "      <td>NaN</td>\n",
       "      <td>NaN</td>\n",
       "      <td>NaN</td>\n",
       "      <td>NaN</td>\n",
       "    </tr>\n",
       "  </tbody>\n",
       "</table>\n",
       "</div>"
      ],
      "text/plain": [
       "      yyyymm  Index   D12  E12  b/m  tbl  AAA  BAA  lty  ntis     Rfree  infl  \\\n",
       "0 1871-01-01   4.44  0.26  0.4  NaN  NaN  NaN  NaN  NaN   NaN  0.004955   NaN   \n",
       "1 1871-02-01   4.50  0.26  0.4  NaN  NaN  NaN  NaN  NaN   NaN  0.004514   NaN   \n",
       "2 1871-03-01   4.61  0.26  0.4  NaN  NaN  NaN  NaN  NaN   NaN  0.004243   NaN   \n",
       "3 1871-04-01   4.74  0.26  0.4  NaN  NaN  NaN  NaN  NaN   NaN  0.004632   NaN   \n",
       "4 1871-05-01   4.86  0.26  0.4  NaN  NaN  NaN  NaN  NaN   NaN  0.003691   NaN   \n",
       "\n",
       "   ltr  corpr  svar  csp  CRSP_SPvw  CRSP_SPvwx  \n",
       "0  NaN    NaN   NaN  NaN        NaN         NaN  \n",
       "1  NaN    NaN   NaN  NaN        NaN         NaN  \n",
       "2  NaN    NaN   NaN  NaN        NaN         NaN  \n",
       "3  NaN    NaN   NaN  NaN        NaN         NaN  \n",
       "4  NaN    NaN   NaN  NaN        NaN         NaN  "
      ]
     },
     "execution_count": 8,
     "metadata": {},
     "output_type": "execute_result"
    },
    {
     "data": {
      "text/html": [
       "<div>\n",
       "<style scoped>\n",
       "    .dataframe tbody tr th:only-of-type {\n",
       "        vertical-align: middle;\n",
       "    }\n",
       "\n",
       "    .dataframe tbody tr th {\n",
       "        vertical-align: top;\n",
       "    }\n",
       "\n",
       "    .dataframe thead th {\n",
       "        text-align: right;\n",
       "    }\n",
       "</style>\n",
       "<table border=\"1\" class=\"dataframe\">\n",
       "  <thead>\n",
       "    <tr style=\"text-align: right;\">\n",
       "      <th></th>\n",
       "      <th>yyyymm</th>\n",
       "      <th>Index</th>\n",
       "      <th>D12</th>\n",
       "      <th>E12</th>\n",
       "      <th>b/m</th>\n",
       "      <th>tbl</th>\n",
       "      <th>AAA</th>\n",
       "      <th>BAA</th>\n",
       "      <th>lty</th>\n",
       "      <th>ntis</th>\n",
       "      <th>Rfree</th>\n",
       "      <th>infl</th>\n",
       "      <th>ltr</th>\n",
       "      <th>corpr</th>\n",
       "      <th>svar</th>\n",
       "      <th>csp</th>\n",
       "      <th>CRSP_SPvw</th>\n",
       "      <th>CRSP_SPvwx</th>\n",
       "    </tr>\n",
       "  </thead>\n",
       "  <tbody>\n",
       "    <tr>\n",
       "      <th>1747</th>\n",
       "      <td>2016-08-01</td>\n",
       "      <td>2170.95</td>\n",
       "      <td>44.837087</td>\n",
       "      <td>88.366667</td>\n",
       "      <td>0.315197</td>\n",
       "      <td>0.0030</td>\n",
       "      <td>0.0332</td>\n",
       "      <td>0.0424</td>\n",
       "      <td>0.0186</td>\n",
       "      <td>-0.030728</td>\n",
       "      <td>0.000250</td>\n",
       "      <td>0.000918</td>\n",
       "      <td>-0.0140</td>\n",
       "      <td>0.0016</td>\n",
       "      <td>0.000279</td>\n",
       "      <td>NaN</td>\n",
       "      <td>0.001247</td>\n",
       "      <td>-0.001396</td>\n",
       "    </tr>\n",
       "    <tr>\n",
       "      <th>1748</th>\n",
       "      <td>2016-09-01</td>\n",
       "      <td>2168.27</td>\n",
       "      <td>45.025691</td>\n",
       "      <td>89.090000</td>\n",
       "      <td>0.316794</td>\n",
       "      <td>0.0029</td>\n",
       "      <td>0.0341</td>\n",
       "      <td>0.0431</td>\n",
       "      <td>0.0196</td>\n",
       "      <td>-0.032628</td>\n",
       "      <td>0.000242</td>\n",
       "      <td>0.002404</td>\n",
       "      <td>-0.0124</td>\n",
       "      <td>-0.0119</td>\n",
       "      <td>0.001673</td>\n",
       "      <td>NaN</td>\n",
       "      <td>0.000446</td>\n",
       "      <td>-0.001033</td>\n",
       "    </tr>\n",
       "    <tr>\n",
       "      <th>1749</th>\n",
       "      <td>2016-10-01</td>\n",
       "      <td>2126.15</td>\n",
       "      <td>45.250662</td>\n",
       "      <td>90.910000</td>\n",
       "      <td>0.319688</td>\n",
       "      <td>0.0033</td>\n",
       "      <td>0.0351</td>\n",
       "      <td>0.0438</td>\n",
       "      <td>0.0220</td>\n",
       "      <td>-0.029000</td>\n",
       "      <td>0.000275</td>\n",
       "      <td>0.001247</td>\n",
       "      <td>-0.0314</td>\n",
       "      <td>-0.0263</td>\n",
       "      <td>0.000364</td>\n",
       "      <td>NaN</td>\n",
       "      <td>-0.017958</td>\n",
       "      <td>-0.019207</td>\n",
       "    </tr>\n",
       "    <tr>\n",
       "      <th>1750</th>\n",
       "      <td>2016-11-01</td>\n",
       "      <td>2198.81</td>\n",
       "      <td>45.475633</td>\n",
       "      <td>92.730000</td>\n",
       "      <td>0.303286</td>\n",
       "      <td>0.0045</td>\n",
       "      <td>0.0386</td>\n",
       "      <td>0.0471</td>\n",
       "      <td>0.0267</td>\n",
       "      <td>-0.027394</td>\n",
       "      <td>0.000375</td>\n",
       "      <td>-0.001555</td>\n",
       "      <td>-0.0599</td>\n",
       "      <td>-0.0510</td>\n",
       "      <td>0.000946</td>\n",
       "      <td>NaN</td>\n",
       "      <td>0.035790</td>\n",
       "      <td>0.033007</td>\n",
       "    </tr>\n",
       "    <tr>\n",
       "      <th>1751</th>\n",
       "      <td>2016-12-01</td>\n",
       "      <td>2238.83</td>\n",
       "      <td>45.700603</td>\n",
       "      <td>94.550000</td>\n",
       "      <td>0.293479</td>\n",
       "      <td>0.0051</td>\n",
       "      <td>0.0406</td>\n",
       "      <td>0.0483</td>\n",
       "      <td>0.0272</td>\n",
       "      <td>-0.024810</td>\n",
       "      <td>0.000425</td>\n",
       "      <td>0.000327</td>\n",
       "      <td>-0.0057</td>\n",
       "      <td>0.0059</td>\n",
       "      <td>0.000524</td>\n",
       "      <td>NaN</td>\n",
       "      <td>0.019199</td>\n",
       "      <td>0.017568</td>\n",
       "    </tr>\n",
       "  </tbody>\n",
       "</table>\n",
       "</div>"
      ],
      "text/plain": [
       "         yyyymm    Index        D12        E12       b/m     tbl     AAA  \\\n",
       "1747 2016-08-01  2170.95  44.837087  88.366667  0.315197  0.0030  0.0332   \n",
       "1748 2016-09-01  2168.27  45.025691  89.090000  0.316794  0.0029  0.0341   \n",
       "1749 2016-10-01  2126.15  45.250662  90.910000  0.319688  0.0033  0.0351   \n",
       "1750 2016-11-01  2198.81  45.475633  92.730000  0.303286  0.0045  0.0386   \n",
       "1751 2016-12-01  2238.83  45.700603  94.550000  0.293479  0.0051  0.0406   \n",
       "\n",
       "         BAA     lty      ntis     Rfree      infl     ltr   corpr      svar  \\\n",
       "1747  0.0424  0.0186 -0.030728  0.000250  0.000918 -0.0140  0.0016  0.000279   \n",
       "1748  0.0431  0.0196 -0.032628  0.000242  0.002404 -0.0124 -0.0119  0.001673   \n",
       "1749  0.0438  0.0220 -0.029000  0.000275  0.001247 -0.0314 -0.0263  0.000364   \n",
       "1750  0.0471  0.0267 -0.027394  0.000375 -0.001555 -0.0599 -0.0510  0.000946   \n",
       "1751  0.0483  0.0272 -0.024810  0.000425  0.000327 -0.0057  0.0059  0.000524   \n",
       "\n",
       "      csp  CRSP_SPvw  CRSP_SPvwx  \n",
       "1747  NaN   0.001247   -0.001396  \n",
       "1748  NaN   0.000446   -0.001033  \n",
       "1749  NaN  -0.017958   -0.019207  \n",
       "1750  NaN   0.035790    0.033007  \n",
       "1751  NaN   0.019199    0.017568  "
      ]
     },
     "execution_count": 8,
     "metadata": {},
     "output_type": "execute_result"
    }
   ],
   "source": [
    "gwdata.head()\n",
    "gwdata.tail()"
   ]
  },
  {
   "cell_type": "markdown",
   "metadata": {},
   "source": [
    "sample period를 1927년 10월부터 2015년 12월까지로 잡겟다. "
   ]
  },
  {
   "cell_type": "code",
   "execution_count": 9,
   "metadata": {},
   "outputs": [],
   "source": [
    "gwdata = gwdata[(gwdata['yyyymm'] >= pd.to_datetime('1926-12-01')) & (gwdata['yyyymm'] <= pd.to_datetime('2015-12-31'))]"
   ]
  },
  {
   "cell_type": "code",
   "execution_count": 10,
   "metadata": {},
   "outputs": [
    {
     "data": {
      "text/html": [
       "<div>\n",
       "<style scoped>\n",
       "    .dataframe tbody tr th:only-of-type {\n",
       "        vertical-align: middle;\n",
       "    }\n",
       "\n",
       "    .dataframe tbody tr th {\n",
       "        vertical-align: top;\n",
       "    }\n",
       "\n",
       "    .dataframe thead th {\n",
       "        text-align: right;\n",
       "    }\n",
       "</style>\n",
       "<table border=\"1\" class=\"dataframe\">\n",
       "  <thead>\n",
       "    <tr style=\"text-align: right;\">\n",
       "      <th></th>\n",
       "      <th>yyyymm</th>\n",
       "      <th>Index</th>\n",
       "      <th>D12</th>\n",
       "      <th>E12</th>\n",
       "      <th>b/m</th>\n",
       "      <th>tbl</th>\n",
       "      <th>AAA</th>\n",
       "      <th>BAA</th>\n",
       "      <th>lty</th>\n",
       "      <th>ntis</th>\n",
       "      <th>Rfree</th>\n",
       "      <th>infl</th>\n",
       "      <th>ltr</th>\n",
       "      <th>corpr</th>\n",
       "      <th>svar</th>\n",
       "      <th>csp</th>\n",
       "      <th>CRSP_SPvw</th>\n",
       "      <th>CRSP_SPvwx</th>\n",
       "    </tr>\n",
       "  </thead>\n",
       "  <tbody>\n",
       "    <tr>\n",
       "      <th>671</th>\n",
       "      <td>1926-12-01</td>\n",
       "      <td>13.490000</td>\n",
       "      <td>0.690000</td>\n",
       "      <td>1.240000</td>\n",
       "      <td>0.441476</td>\n",
       "      <td>0.0307</td>\n",
       "      <td>0.0468</td>\n",
       "      <td>0.0568</td>\n",
       "      <td>0.0354</td>\n",
       "      <td>0.050885</td>\n",
       "      <td>0.002558</td>\n",
       "      <td>0.000000</td>\n",
       "      <td>0.0078</td>\n",
       "      <td>0.0056</td>\n",
       "      <td>0.000465</td>\n",
       "      <td>NaN</td>\n",
       "      <td>0.026047</td>\n",
       "      <td>0.020321</td>\n",
       "    </tr>\n",
       "    <tr>\n",
       "      <th>672</th>\n",
       "      <td>1927-01-01</td>\n",
       "      <td>13.210000</td>\n",
       "      <td>0.696700</td>\n",
       "      <td>1.229000</td>\n",
       "      <td>0.443706</td>\n",
       "      <td>0.0323</td>\n",
       "      <td>0.0466</td>\n",
       "      <td>0.0561</td>\n",
       "      <td>0.0351</td>\n",
       "      <td>0.050833</td>\n",
       "      <td>0.002692</td>\n",
       "      <td>-0.011299</td>\n",
       "      <td>0.0075</td>\n",
       "      <td>0.0056</td>\n",
       "      <td>0.000470</td>\n",
       "      <td>NaN</td>\n",
       "      <td>-0.002910</td>\n",
       "      <td>-0.005579</td>\n",
       "    </tr>\n",
       "    <tr>\n",
       "      <th>673</th>\n",
       "      <td>1927-02-01</td>\n",
       "      <td>13.840000</td>\n",
       "      <td>0.703300</td>\n",
       "      <td>1.218000</td>\n",
       "      <td>0.428501</td>\n",
       "      <td>0.0329</td>\n",
       "      <td>0.0467</td>\n",
       "      <td>0.0559</td>\n",
       "      <td>0.0347</td>\n",
       "      <td>0.051681</td>\n",
       "      <td>0.002742</td>\n",
       "      <td>-0.005714</td>\n",
       "      <td>0.0088</td>\n",
       "      <td>0.0069</td>\n",
       "      <td>0.000287</td>\n",
       "      <td>NaN</td>\n",
       "      <td>0.045522</td>\n",
       "      <td>0.040566</td>\n",
       "    </tr>\n",
       "    <tr>\n",
       "      <th>674</th>\n",
       "      <td>1927-03-01</td>\n",
       "      <td>13.930000</td>\n",
       "      <td>0.710000</td>\n",
       "      <td>1.208000</td>\n",
       "      <td>0.469765</td>\n",
       "      <td>0.0320</td>\n",
       "      <td>0.0462</td>\n",
       "      <td>0.0554</td>\n",
       "      <td>0.0331</td>\n",
       "      <td>0.046370</td>\n",
       "      <td>0.002667</td>\n",
       "      <td>-0.005747</td>\n",
       "      <td>0.0253</td>\n",
       "      <td>0.0083</td>\n",
       "      <td>0.000924</td>\n",
       "      <td>NaN</td>\n",
       "      <td>0.007324</td>\n",
       "      <td>0.002610</td>\n",
       "    </tr>\n",
       "    <tr>\n",
       "      <th>675</th>\n",
       "      <td>1927-04-01</td>\n",
       "      <td>14.170000</td>\n",
       "      <td>0.716700</td>\n",
       "      <td>1.197000</td>\n",
       "      <td>0.456754</td>\n",
       "      <td>0.0339</td>\n",
       "      <td>0.0458</td>\n",
       "      <td>0.0548</td>\n",
       "      <td>0.0333</td>\n",
       "      <td>0.050518</td>\n",
       "      <td>0.002825</td>\n",
       "      <td>0.000000</td>\n",
       "      <td>-0.0005</td>\n",
       "      <td>0.0055</td>\n",
       "      <td>0.000603</td>\n",
       "      <td>NaN</td>\n",
       "      <td>0.013021</td>\n",
       "      <td>0.010907</td>\n",
       "    </tr>\n",
       "    <tr>\n",
       "      <th>...</th>\n",
       "      <td>...</td>\n",
       "      <td>...</td>\n",
       "      <td>...</td>\n",
       "      <td>...</td>\n",
       "      <td>...</td>\n",
       "      <td>...</td>\n",
       "      <td>...</td>\n",
       "      <td>...</td>\n",
       "      <td>...</td>\n",
       "      <td>...</td>\n",
       "      <td>...</td>\n",
       "      <td>...</td>\n",
       "      <td>...</td>\n",
       "      <td>...</td>\n",
       "      <td>...</td>\n",
       "      <td>...</td>\n",
       "      <td>...</td>\n",
       "      <td>...</td>\n",
       "    </tr>\n",
       "    <tr>\n",
       "      <th>1735</th>\n",
       "      <td>2015-08-01</td>\n",
       "      <td>1972.180054</td>\n",
       "      <td>42.254265</td>\n",
       "      <td>92.076667</td>\n",
       "      <td>0.330671</td>\n",
       "      <td>0.0007</td>\n",
       "      <td>0.0404</td>\n",
       "      <td>0.0519</td>\n",
       "      <td>0.0264</td>\n",
       "      <td>-0.009536</td>\n",
       "      <td>0.000058</td>\n",
       "      <td>-0.001416</td>\n",
       "      <td>0.0012</td>\n",
       "      <td>-0.0067</td>\n",
       "      <td>0.005847</td>\n",
       "      <td>NaN</td>\n",
       "      <td>-0.060086</td>\n",
       "      <td>-0.062433</td>\n",
       "    </tr>\n",
       "    <tr>\n",
       "      <th>1736</th>\n",
       "      <td>2015-09-01</td>\n",
       "      <td>1920.030029</td>\n",
       "      <td>42.510397</td>\n",
       "      <td>90.660000</td>\n",
       "      <td>0.335612</td>\n",
       "      <td>0.0002</td>\n",
       "      <td>0.0407</td>\n",
       "      <td>0.0534</td>\n",
       "      <td>0.0253</td>\n",
       "      <td>-0.012910</td>\n",
       "      <td>0.000017</td>\n",
       "      <td>-0.001557</td>\n",
       "      <td>0.0174</td>\n",
       "      <td>0.0133</td>\n",
       "      <td>0.004053</td>\n",
       "      <td>NaN</td>\n",
       "      <td>-0.024547</td>\n",
       "      <td>-0.026258</td>\n",
       "    </tr>\n",
       "    <tr>\n",
       "      <th>1737</th>\n",
       "      <td>2015-10-01</td>\n",
       "      <td>2079.360107</td>\n",
       "      <td>42.802893</td>\n",
       "      <td>89.283333</td>\n",
       "      <td>0.309414</td>\n",
       "      <td>0.0002</td>\n",
       "      <td>0.0395</td>\n",
       "      <td>0.0534</td>\n",
       "      <td>0.0259</td>\n",
       "      <td>-0.016209</td>\n",
       "      <td>0.000017</td>\n",
       "      <td>-0.000450</td>\n",
       "      <td>-0.0053</td>\n",
       "      <td>0.0020</td>\n",
       "      <td>0.001619</td>\n",
       "      <td>NaN</td>\n",
       "      <td>0.083448</td>\n",
       "      <td>0.082048</td>\n",
       "    </tr>\n",
       "    <tr>\n",
       "      <th>1738</th>\n",
       "      <td>2015-11-01</td>\n",
       "      <td>2080.409912</td>\n",
       "      <td>43.095390</td>\n",
       "      <td>87.906667</td>\n",
       "      <td>0.308429</td>\n",
       "      <td>0.0012</td>\n",
       "      <td>0.0406</td>\n",
       "      <td>0.0546</td>\n",
       "      <td>0.0265</td>\n",
       "      <td>-0.017810</td>\n",
       "      <td>0.000100</td>\n",
       "      <td>-0.002111</td>\n",
       "      <td>-0.0065</td>\n",
       "      <td>0.0020</td>\n",
       "      <td>0.001119</td>\n",
       "      <td>NaN</td>\n",
       "      <td>0.003373</td>\n",
       "      <td>0.000817</td>\n",
       "    </tr>\n",
       "    <tr>\n",
       "      <th>1739</th>\n",
       "      <td>2015-12-01</td>\n",
       "      <td>2043.939941</td>\n",
       "      <td>43.387887</td>\n",
       "      <td>86.530000</td>\n",
       "      <td>0.313649</td>\n",
       "      <td>0.0023</td>\n",
       "      <td>0.0397</td>\n",
       "      <td>0.0546</td>\n",
       "      <td>0.0268</td>\n",
       "      <td>-0.021611</td>\n",
       "      <td>0.000192</td>\n",
       "      <td>-0.003417</td>\n",
       "      <td>-0.0022</td>\n",
       "      <td>0.0000</td>\n",
       "      <td>0.002839</td>\n",
       "      <td>NaN</td>\n",
       "      <td>-0.015247</td>\n",
       "      <td>-0.017076</td>\n",
       "    </tr>\n",
       "  </tbody>\n",
       "</table>\n",
       "<p>1069 rows × 18 columns</p>\n",
       "</div>"
      ],
      "text/plain": [
       "         yyyymm        Index        D12        E12       b/m     tbl     AAA  \\\n",
       "671  1926-12-01    13.490000   0.690000   1.240000  0.441476  0.0307  0.0468   \n",
       "672  1927-01-01    13.210000   0.696700   1.229000  0.443706  0.0323  0.0466   \n",
       "673  1927-02-01    13.840000   0.703300   1.218000  0.428501  0.0329  0.0467   \n",
       "674  1927-03-01    13.930000   0.710000   1.208000  0.469765  0.0320  0.0462   \n",
       "675  1927-04-01    14.170000   0.716700   1.197000  0.456754  0.0339  0.0458   \n",
       "...         ...          ...        ...        ...       ...     ...     ...   \n",
       "1735 2015-08-01  1972.180054  42.254265  92.076667  0.330671  0.0007  0.0404   \n",
       "1736 2015-09-01  1920.030029  42.510397  90.660000  0.335612  0.0002  0.0407   \n",
       "1737 2015-10-01  2079.360107  42.802893  89.283333  0.309414  0.0002  0.0395   \n",
       "1738 2015-11-01  2080.409912  43.095390  87.906667  0.308429  0.0012  0.0406   \n",
       "1739 2015-12-01  2043.939941  43.387887  86.530000  0.313649  0.0023  0.0397   \n",
       "\n",
       "         BAA     lty      ntis     Rfree      infl     ltr   corpr      svar  \\\n",
       "671   0.0568  0.0354  0.050885  0.002558  0.000000  0.0078  0.0056  0.000465   \n",
       "672   0.0561  0.0351  0.050833  0.002692 -0.011299  0.0075  0.0056  0.000470   \n",
       "673   0.0559  0.0347  0.051681  0.002742 -0.005714  0.0088  0.0069  0.000287   \n",
       "674   0.0554  0.0331  0.046370  0.002667 -0.005747  0.0253  0.0083  0.000924   \n",
       "675   0.0548  0.0333  0.050518  0.002825  0.000000 -0.0005  0.0055  0.000603   \n",
       "...      ...     ...       ...       ...       ...     ...     ...       ...   \n",
       "1735  0.0519  0.0264 -0.009536  0.000058 -0.001416  0.0012 -0.0067  0.005847   \n",
       "1736  0.0534  0.0253 -0.012910  0.000017 -0.001557  0.0174  0.0133  0.004053   \n",
       "1737  0.0534  0.0259 -0.016209  0.000017 -0.000450 -0.0053  0.0020  0.001619   \n",
       "1738  0.0546  0.0265 -0.017810  0.000100 -0.002111 -0.0065  0.0020  0.001119   \n",
       "1739  0.0546  0.0268 -0.021611  0.000192 -0.003417 -0.0022  0.0000  0.002839   \n",
       "\n",
       "      csp  CRSP_SPvw  CRSP_SPvwx  \n",
       "671   NaN   0.026047    0.020321  \n",
       "672   NaN  -0.002910   -0.005579  \n",
       "673   NaN   0.045522    0.040566  \n",
       "674   NaN   0.007324    0.002610  \n",
       "675   NaN   0.013021    0.010907  \n",
       "...   ...        ...         ...  \n",
       "1735  NaN  -0.060086   -0.062433  \n",
       "1736  NaN  -0.024547   -0.026258  \n",
       "1737  NaN   0.083448    0.082048  \n",
       "1738  NaN   0.003373    0.000817  \n",
       "1739  NaN  -0.015247   -0.017076  \n",
       "\n",
       "[1069 rows x 18 columns]"
      ]
     },
     "execution_count": 10,
     "metadata": {},
     "output_type": "execute_result"
    }
   ],
   "source": [
    "gwdata\n",
    "gwdata.reset_index(inplace = True, drop = True)"
   ]
  },
  {
   "cell_type": "code",
   "execution_count": 11,
   "metadata": {},
   "outputs": [],
   "source": [
    "gwdata = gwdata.iloc[1:,:]"
   ]
  },
  {
   "cell_type": "code",
   "execution_count": null,
   "metadata": {},
   "outputs": [],
   "source": [
    "gwdata"
   ]
  },
  {
   "cell_type": "code",
   "execution_count": 12,
   "metadata": {},
   "outputs": [],
   "source": [
    "# independent variable construction\n",
    "date = gwdata['yyyymm']\n",
    "index = gwdata['Index']\n",
    "d12 = gwdata['D12']\n",
    "e12 = gwdata['E12']\n",
    "b_m = gwdata['b/m']\n",
    "tbl = gwdata['tbl']\n",
    "AAA = gwdata['AAA']\n",
    "BAA = gwdata['BAA']\n",
    "lty = gwdata['lty']\n",
    "ntis = gwdata['ntis']\n",
    "Rfree = gwdata['Rfree']\n",
    "infl = gwdata['infl']\n",
    "ltr = gwdata['ltr']\n",
    "corpr = gwdata['corpr']\n",
    "svar = gwdata['svar']\n",
    "csp = gwdata['csp']\n",
    "CRSP_SPvw = gwdata['CRSP_SPvw']\n",
    "CRSP_SPvwx = gwdata['CRSP_SPvwx']"
   ]
  },
  {
   "cell_type": "code",
   "execution_count": 13,
   "metadata": {},
   "outputs": [],
   "source": [
    "# variables for prediction (Goyal and Welch 2008)\n",
    "dp_ratio = np.log(d12) - np.log(index)\n",
    "d_yield = np.log(d12.shift(1)) - np.log(index)\n",
    "ep_ratio = np.log(e12) - np.log(index)\n",
    "d_payout_ratio = np.log(d12) - np.log(e12)\n",
    "stock_variance = svar\n",
    "btm = b_m\n",
    "net_equity_expansion = ntis\n",
    "tbillrate = tbl\n",
    "long_term_yield = lty\n",
    "long_term_return = ltr\n",
    "term_spread = lty - tbl\n",
    "default_yield_spread = BAA - AAA\n",
    "inflation = infl"
   ]
  },
  {
   "cell_type": "code",
   "execution_count": 14,
   "metadata": {},
   "outputs": [
    {
     "data": {
      "text/html": [
       "<div>\n",
       "<style scoped>\n",
       "    .dataframe tbody tr th:only-of-type {\n",
       "        vertical-align: middle;\n",
       "    }\n",
       "\n",
       "    .dataframe tbody tr th {\n",
       "        vertical-align: top;\n",
       "    }\n",
       "\n",
       "    .dataframe thead th {\n",
       "        text-align: right;\n",
       "    }\n",
       "</style>\n",
       "<table border=\"1\" class=\"dataframe\">\n",
       "  <thead>\n",
       "    <tr style=\"text-align: right;\">\n",
       "      <th></th>\n",
       "      <th>yyyymm</th>\n",
       "      <th>Index</th>\n",
       "      <th>D12</th>\n",
       "      <th>E12</th>\n",
       "      <th>b/m</th>\n",
       "      <th>tbl</th>\n",
       "      <th>AAA</th>\n",
       "      <th>BAA</th>\n",
       "      <th>lty</th>\n",
       "      <th>ntis</th>\n",
       "      <th>Rfree</th>\n",
       "      <th>infl</th>\n",
       "      <th>ltr</th>\n",
       "      <th>corpr</th>\n",
       "      <th>svar</th>\n",
       "      <th>csp</th>\n",
       "      <th>CRSP_SPvw</th>\n",
       "      <th>CRSP_SPvwx</th>\n",
       "    </tr>\n",
       "  </thead>\n",
       "  <tbody>\n",
       "    <tr>\n",
       "      <th>1</th>\n",
       "      <td>1927-01-01</td>\n",
       "      <td>13.210000</td>\n",
       "      <td>0.696700</td>\n",
       "      <td>1.229000</td>\n",
       "      <td>0.443706</td>\n",
       "      <td>0.0323</td>\n",
       "      <td>0.0466</td>\n",
       "      <td>0.0561</td>\n",
       "      <td>0.0351</td>\n",
       "      <td>0.050833</td>\n",
       "      <td>0.002692</td>\n",
       "      <td>-0.011299</td>\n",
       "      <td>0.0075</td>\n",
       "      <td>0.0056</td>\n",
       "      <td>0.000470</td>\n",
       "      <td>NaN</td>\n",
       "      <td>-0.002910</td>\n",
       "      <td>-0.005579</td>\n",
       "    </tr>\n",
       "    <tr>\n",
       "      <th>2</th>\n",
       "      <td>1927-02-01</td>\n",
       "      <td>13.840000</td>\n",
       "      <td>0.703300</td>\n",
       "      <td>1.218000</td>\n",
       "      <td>0.428501</td>\n",
       "      <td>0.0329</td>\n",
       "      <td>0.0467</td>\n",
       "      <td>0.0559</td>\n",
       "      <td>0.0347</td>\n",
       "      <td>0.051681</td>\n",
       "      <td>0.002742</td>\n",
       "      <td>-0.005714</td>\n",
       "      <td>0.0088</td>\n",
       "      <td>0.0069</td>\n",
       "      <td>0.000287</td>\n",
       "      <td>NaN</td>\n",
       "      <td>0.045522</td>\n",
       "      <td>0.040566</td>\n",
       "    </tr>\n",
       "    <tr>\n",
       "      <th>3</th>\n",
       "      <td>1927-03-01</td>\n",
       "      <td>13.930000</td>\n",
       "      <td>0.710000</td>\n",
       "      <td>1.208000</td>\n",
       "      <td>0.469765</td>\n",
       "      <td>0.0320</td>\n",
       "      <td>0.0462</td>\n",
       "      <td>0.0554</td>\n",
       "      <td>0.0331</td>\n",
       "      <td>0.046370</td>\n",
       "      <td>0.002667</td>\n",
       "      <td>-0.005747</td>\n",
       "      <td>0.0253</td>\n",
       "      <td>0.0083</td>\n",
       "      <td>0.000924</td>\n",
       "      <td>NaN</td>\n",
       "      <td>0.007324</td>\n",
       "      <td>0.002610</td>\n",
       "    </tr>\n",
       "    <tr>\n",
       "      <th>4</th>\n",
       "      <td>1927-04-01</td>\n",
       "      <td>14.170000</td>\n",
       "      <td>0.716700</td>\n",
       "      <td>1.197000</td>\n",
       "      <td>0.456754</td>\n",
       "      <td>0.0339</td>\n",
       "      <td>0.0458</td>\n",
       "      <td>0.0548</td>\n",
       "      <td>0.0333</td>\n",
       "      <td>0.050518</td>\n",
       "      <td>0.002825</td>\n",
       "      <td>0.000000</td>\n",
       "      <td>-0.0005</td>\n",
       "      <td>0.0055</td>\n",
       "      <td>0.000603</td>\n",
       "      <td>NaN</td>\n",
       "      <td>0.013021</td>\n",
       "      <td>0.010907</td>\n",
       "    </tr>\n",
       "    <tr>\n",
       "      <th>5</th>\n",
       "      <td>1927-05-01</td>\n",
       "      <td>14.910000</td>\n",
       "      <td>0.723300</td>\n",
       "      <td>1.186000</td>\n",
       "      <td>0.434783</td>\n",
       "      <td>0.0333</td>\n",
       "      <td>0.0457</td>\n",
       "      <td>0.0550</td>\n",
       "      <td>0.0327</td>\n",
       "      <td>0.055279</td>\n",
       "      <td>0.002775</td>\n",
       "      <td>0.005780</td>\n",
       "      <td>0.0109</td>\n",
       "      <td>-0.0011</td>\n",
       "      <td>0.000392</td>\n",
       "      <td>NaN</td>\n",
       "      <td>0.062353</td>\n",
       "      <td>0.057096</td>\n",
       "    </tr>\n",
       "    <tr>\n",
       "      <th>...</th>\n",
       "      <td>...</td>\n",
       "      <td>...</td>\n",
       "      <td>...</td>\n",
       "      <td>...</td>\n",
       "      <td>...</td>\n",
       "      <td>...</td>\n",
       "      <td>...</td>\n",
       "      <td>...</td>\n",
       "      <td>...</td>\n",
       "      <td>...</td>\n",
       "      <td>...</td>\n",
       "      <td>...</td>\n",
       "      <td>...</td>\n",
       "      <td>...</td>\n",
       "      <td>...</td>\n",
       "      <td>...</td>\n",
       "      <td>...</td>\n",
       "      <td>...</td>\n",
       "    </tr>\n",
       "    <tr>\n",
       "      <th>1064</th>\n",
       "      <td>2015-08-01</td>\n",
       "      <td>1972.180054</td>\n",
       "      <td>42.254265</td>\n",
       "      <td>92.076667</td>\n",
       "      <td>0.330671</td>\n",
       "      <td>0.0007</td>\n",
       "      <td>0.0404</td>\n",
       "      <td>0.0519</td>\n",
       "      <td>0.0264</td>\n",
       "      <td>-0.009536</td>\n",
       "      <td>0.000058</td>\n",
       "      <td>-0.001416</td>\n",
       "      <td>0.0012</td>\n",
       "      <td>-0.0067</td>\n",
       "      <td>0.005847</td>\n",
       "      <td>NaN</td>\n",
       "      <td>-0.060086</td>\n",
       "      <td>-0.062433</td>\n",
       "    </tr>\n",
       "    <tr>\n",
       "      <th>1065</th>\n",
       "      <td>2015-09-01</td>\n",
       "      <td>1920.030029</td>\n",
       "      <td>42.510397</td>\n",
       "      <td>90.660000</td>\n",
       "      <td>0.335612</td>\n",
       "      <td>0.0002</td>\n",
       "      <td>0.0407</td>\n",
       "      <td>0.0534</td>\n",
       "      <td>0.0253</td>\n",
       "      <td>-0.012910</td>\n",
       "      <td>0.000017</td>\n",
       "      <td>-0.001557</td>\n",
       "      <td>0.0174</td>\n",
       "      <td>0.0133</td>\n",
       "      <td>0.004053</td>\n",
       "      <td>NaN</td>\n",
       "      <td>-0.024547</td>\n",
       "      <td>-0.026258</td>\n",
       "    </tr>\n",
       "    <tr>\n",
       "      <th>1066</th>\n",
       "      <td>2015-10-01</td>\n",
       "      <td>2079.360107</td>\n",
       "      <td>42.802893</td>\n",
       "      <td>89.283333</td>\n",
       "      <td>0.309414</td>\n",
       "      <td>0.0002</td>\n",
       "      <td>0.0395</td>\n",
       "      <td>0.0534</td>\n",
       "      <td>0.0259</td>\n",
       "      <td>-0.016209</td>\n",
       "      <td>0.000017</td>\n",
       "      <td>-0.000450</td>\n",
       "      <td>-0.0053</td>\n",
       "      <td>0.0020</td>\n",
       "      <td>0.001619</td>\n",
       "      <td>NaN</td>\n",
       "      <td>0.083448</td>\n",
       "      <td>0.082048</td>\n",
       "    </tr>\n",
       "    <tr>\n",
       "      <th>1067</th>\n",
       "      <td>2015-11-01</td>\n",
       "      <td>2080.409912</td>\n",
       "      <td>43.095390</td>\n",
       "      <td>87.906667</td>\n",
       "      <td>0.308429</td>\n",
       "      <td>0.0012</td>\n",
       "      <td>0.0406</td>\n",
       "      <td>0.0546</td>\n",
       "      <td>0.0265</td>\n",
       "      <td>-0.017810</td>\n",
       "      <td>0.000100</td>\n",
       "      <td>-0.002111</td>\n",
       "      <td>-0.0065</td>\n",
       "      <td>0.0020</td>\n",
       "      <td>0.001119</td>\n",
       "      <td>NaN</td>\n",
       "      <td>0.003373</td>\n",
       "      <td>0.000817</td>\n",
       "    </tr>\n",
       "    <tr>\n",
       "      <th>1068</th>\n",
       "      <td>2015-12-01</td>\n",
       "      <td>2043.939941</td>\n",
       "      <td>43.387887</td>\n",
       "      <td>86.530000</td>\n",
       "      <td>0.313649</td>\n",
       "      <td>0.0023</td>\n",
       "      <td>0.0397</td>\n",
       "      <td>0.0546</td>\n",
       "      <td>0.0268</td>\n",
       "      <td>-0.021611</td>\n",
       "      <td>0.000192</td>\n",
       "      <td>-0.003417</td>\n",
       "      <td>-0.0022</td>\n",
       "      <td>0.0000</td>\n",
       "      <td>0.002839</td>\n",
       "      <td>NaN</td>\n",
       "      <td>-0.015247</td>\n",
       "      <td>-0.017076</td>\n",
       "    </tr>\n",
       "  </tbody>\n",
       "</table>\n",
       "<p>1068 rows × 18 columns</p>\n",
       "</div>"
      ],
      "text/plain": [
       "         yyyymm        Index        D12        E12       b/m     tbl     AAA  \\\n",
       "1    1927-01-01    13.210000   0.696700   1.229000  0.443706  0.0323  0.0466   \n",
       "2    1927-02-01    13.840000   0.703300   1.218000  0.428501  0.0329  0.0467   \n",
       "3    1927-03-01    13.930000   0.710000   1.208000  0.469765  0.0320  0.0462   \n",
       "4    1927-04-01    14.170000   0.716700   1.197000  0.456754  0.0339  0.0458   \n",
       "5    1927-05-01    14.910000   0.723300   1.186000  0.434783  0.0333  0.0457   \n",
       "...         ...          ...        ...        ...       ...     ...     ...   \n",
       "1064 2015-08-01  1972.180054  42.254265  92.076667  0.330671  0.0007  0.0404   \n",
       "1065 2015-09-01  1920.030029  42.510397  90.660000  0.335612  0.0002  0.0407   \n",
       "1066 2015-10-01  2079.360107  42.802893  89.283333  0.309414  0.0002  0.0395   \n",
       "1067 2015-11-01  2080.409912  43.095390  87.906667  0.308429  0.0012  0.0406   \n",
       "1068 2015-12-01  2043.939941  43.387887  86.530000  0.313649  0.0023  0.0397   \n",
       "\n",
       "         BAA     lty      ntis     Rfree      infl     ltr   corpr      svar  \\\n",
       "1     0.0561  0.0351  0.050833  0.002692 -0.011299  0.0075  0.0056  0.000470   \n",
       "2     0.0559  0.0347  0.051681  0.002742 -0.005714  0.0088  0.0069  0.000287   \n",
       "3     0.0554  0.0331  0.046370  0.002667 -0.005747  0.0253  0.0083  0.000924   \n",
       "4     0.0548  0.0333  0.050518  0.002825  0.000000 -0.0005  0.0055  0.000603   \n",
       "5     0.0550  0.0327  0.055279  0.002775  0.005780  0.0109 -0.0011  0.000392   \n",
       "...      ...     ...       ...       ...       ...     ...     ...       ...   \n",
       "1064  0.0519  0.0264 -0.009536  0.000058 -0.001416  0.0012 -0.0067  0.005847   \n",
       "1065  0.0534  0.0253 -0.012910  0.000017 -0.001557  0.0174  0.0133  0.004053   \n",
       "1066  0.0534  0.0259 -0.016209  0.000017 -0.000450 -0.0053  0.0020  0.001619   \n",
       "1067  0.0546  0.0265 -0.017810  0.000100 -0.002111 -0.0065  0.0020  0.001119   \n",
       "1068  0.0546  0.0268 -0.021611  0.000192 -0.003417 -0.0022  0.0000  0.002839   \n",
       "\n",
       "      csp  CRSP_SPvw  CRSP_SPvwx  \n",
       "1     NaN  -0.002910   -0.005579  \n",
       "2     NaN   0.045522    0.040566  \n",
       "3     NaN   0.007324    0.002610  \n",
       "4     NaN   0.013021    0.010907  \n",
       "5     NaN   0.062353    0.057096  \n",
       "...   ...        ...         ...  \n",
       "1064  NaN  -0.060086   -0.062433  \n",
       "1065  NaN  -0.024547   -0.026258  \n",
       "1066  NaN   0.083448    0.082048  \n",
       "1067  NaN   0.003373    0.000817  \n",
       "1068  NaN  -0.015247   -0.017076  \n",
       "\n",
       "[1068 rows x 18 columns]"
      ]
     },
     "execution_count": 14,
     "metadata": {},
     "output_type": "execute_result"
    }
   ],
   "source": [
    "gwdata"
   ]
  },
  {
   "cell_type": "code",
   "execution_count": null,
   "metadata": {},
   "outputs": [],
   "source": []
  },
  {
   "cell_type": "code",
   "execution_count": 15,
   "metadata": {},
   "outputs": [
    {
     "data": {
      "text/html": [
       "<div>\n",
       "<style scoped>\n",
       "    .dataframe tbody tr th:only-of-type {\n",
       "        vertical-align: middle;\n",
       "    }\n",
       "\n",
       "    .dataframe tbody tr th {\n",
       "        vertical-align: top;\n",
       "    }\n",
       "\n",
       "    .dataframe thead th {\n",
       "        text-align: right;\n",
       "    }\n",
       "</style>\n",
       "<table border=\"1\" class=\"dataframe\">\n",
       "  <thead>\n",
       "    <tr style=\"text-align: right;\">\n",
       "      <th></th>\n",
       "      <th>dp_ratio</th>\n",
       "      <th>d_yield</th>\n",
       "      <th>ep_ratio</th>\n",
       "      <th>d_payout_ratio</th>\n",
       "      <th>stock_variance</th>\n",
       "      <th>btm</th>\n",
       "      <th>net_equity_expansion</th>\n",
       "      <th>tbillrate</th>\n",
       "      <th>long_term_yield</th>\n",
       "      <th>long_term_return</th>\n",
       "      <th>term_spread</th>\n",
       "      <th>default_yield_spread</th>\n",
       "      <th>inflation</th>\n",
       "      <th>date</th>\n",
       "    </tr>\n",
       "  </thead>\n",
       "  <tbody>\n",
       "    <tr>\n",
       "      <th>1</th>\n",
       "      <td>-2.942374</td>\n",
       "      <td>NaN</td>\n",
       "      <td>-2.374773</td>\n",
       "      <td>-0.567601</td>\n",
       "      <td>0.000470</td>\n",
       "      <td>0.443706</td>\n",
       "      <td>0.050833</td>\n",
       "      <td>0.0323</td>\n",
       "      <td>0.0351</td>\n",
       "      <td>0.0075</td>\n",
       "      <td>0.0028</td>\n",
       "      <td>0.0095</td>\n",
       "      <td>-0.011299</td>\n",
       "      <td>1927-01-31</td>\n",
       "    </tr>\n",
       "    <tr>\n",
       "      <th>2</th>\n",
       "      <td>-2.979535</td>\n",
       "      <td>-2.988963</td>\n",
       "      <td>-2.430353</td>\n",
       "      <td>-0.549182</td>\n",
       "      <td>0.000287</td>\n",
       "      <td>0.428501</td>\n",
       "      <td>0.051681</td>\n",
       "      <td>0.0329</td>\n",
       "      <td>0.0347</td>\n",
       "      <td>0.0088</td>\n",
       "      <td>0.0018</td>\n",
       "      <td>0.0092</td>\n",
       "      <td>-0.005714</td>\n",
       "      <td>1927-02-28</td>\n",
       "    </tr>\n",
       "    <tr>\n",
       "      <th>3</th>\n",
       "      <td>-2.976535</td>\n",
       "      <td>-2.986017</td>\n",
       "      <td>-2.445079</td>\n",
       "      <td>-0.531456</td>\n",
       "      <td>0.000924</td>\n",
       "      <td>0.469765</td>\n",
       "      <td>0.046370</td>\n",
       "      <td>0.0320</td>\n",
       "      <td>0.0331</td>\n",
       "      <td>0.0253</td>\n",
       "      <td>0.0011</td>\n",
       "      <td>0.0092</td>\n",
       "      <td>-0.005747</td>\n",
       "      <td>1927-03-31</td>\n",
       "    </tr>\n",
       "    <tr>\n",
       "      <th>4</th>\n",
       "      <td>-2.984225</td>\n",
       "      <td>-2.993617</td>\n",
       "      <td>-2.471309</td>\n",
       "      <td>-0.512916</td>\n",
       "      <td>0.000603</td>\n",
       "      <td>0.456754</td>\n",
       "      <td>0.050518</td>\n",
       "      <td>0.0339</td>\n",
       "      <td>0.0333</td>\n",
       "      <td>-0.0005</td>\n",
       "      <td>-0.0006</td>\n",
       "      <td>0.0090</td>\n",
       "      <td>0.000000</td>\n",
       "      <td>1927-04-30</td>\n",
       "    </tr>\n",
       "    <tr>\n",
       "      <th>5</th>\n",
       "      <td>-3.025963</td>\n",
       "      <td>-3.035130</td>\n",
       "      <td>-2.531446</td>\n",
       "      <td>-0.494518</td>\n",
       "      <td>0.000392</td>\n",
       "      <td>0.434783</td>\n",
       "      <td>0.055279</td>\n",
       "      <td>0.0333</td>\n",
       "      <td>0.0327</td>\n",
       "      <td>0.0109</td>\n",
       "      <td>-0.0006</td>\n",
       "      <td>0.0093</td>\n",
       "      <td>0.005780</td>\n",
       "      <td>1927-05-31</td>\n",
       "    </tr>\n",
       "  </tbody>\n",
       "</table>\n",
       "</div>"
      ],
      "text/plain": [
       "   dp_ratio   d_yield  ep_ratio  d_payout_ratio  stock_variance       btm  \\\n",
       "1 -2.942374       NaN -2.374773       -0.567601        0.000470  0.443706   \n",
       "2 -2.979535 -2.988963 -2.430353       -0.549182        0.000287  0.428501   \n",
       "3 -2.976535 -2.986017 -2.445079       -0.531456        0.000924  0.469765   \n",
       "4 -2.984225 -2.993617 -2.471309       -0.512916        0.000603  0.456754   \n",
       "5 -3.025963 -3.035130 -2.531446       -0.494518        0.000392  0.434783   \n",
       "\n",
       "   net_equity_expansion  tbillrate  long_term_yield  long_term_return  \\\n",
       "1              0.050833     0.0323           0.0351            0.0075   \n",
       "2              0.051681     0.0329           0.0347            0.0088   \n",
       "3              0.046370     0.0320           0.0331            0.0253   \n",
       "4              0.050518     0.0339           0.0333           -0.0005   \n",
       "5              0.055279     0.0333           0.0327            0.0109   \n",
       "\n",
       "   term_spread  default_yield_spread  inflation       date  \n",
       "1       0.0028                0.0095  -0.011299 1927-01-31  \n",
       "2       0.0018                0.0092  -0.005714 1927-02-28  \n",
       "3       0.0011                0.0092  -0.005747 1927-03-31  \n",
       "4      -0.0006                0.0090   0.000000 1927-04-30  \n",
       "5      -0.0006                0.0093   0.005780 1927-05-31  "
      ]
     },
     "execution_count": 15,
     "metadata": {},
     "output_type": "execute_result"
    }
   ],
   "source": [
    "set_of_predictors = gwdata.copy()\n",
    "set_of_predictors['dp_ratio'] = dp_ratio\n",
    "set_of_predictors['d_yield'] = d_yield\n",
    "set_of_predictors['ep_ratio'] = ep_ratio\n",
    "set_of_predictors['d_payout_ratio'] = d_payout_ratio\n",
    "set_of_predictors['stock_variance'] = stock_variance\n",
    "set_of_predictors['btm'] = btm\n",
    "set_of_predictors['net_equity_expansion'] = net_equity_expansion\n",
    "set_of_predictors['tbillrate'] = tbillrate\n",
    "set_of_predictors['long_term_yield'] = long_term_yield\n",
    "set_of_predictors['long_term_return'] = long_term_return\n",
    "set_of_predictors['term_spread'] = term_spread\n",
    "set_of_predictors['default_yield_spread'] = default_yield_spread\n",
    "set_of_predictors['inflation'] = inflation\n",
    "set_of_predictors['date'] = pd.to_datetime(set_of_predictors['yyyymm'], format = '%Y%m')+ MonthEnd(1)\n",
    "set_of_predictors.drop(gwdata.columns.to_list(), axis = 1, inplace = True)\n",
    "set_of_predictors.head()"
   ]
  },
  {
   "cell_type": "markdown",
   "metadata": {},
   "source": [
    "regression with S&P500 data"
   ]
  },
  {
   "cell_type": "code",
   "execution_count": 16,
   "metadata": {},
   "outputs": [
    {
     "data": {
      "text/html": [
       "<div>\n",
       "<style scoped>\n",
       "    .dataframe tbody tr th:only-of-type {\n",
       "        vertical-align: middle;\n",
       "    }\n",
       "\n",
       "    .dataframe tbody tr th {\n",
       "        vertical-align: top;\n",
       "    }\n",
       "\n",
       "    .dataframe thead th {\n",
       "        text-align: right;\n",
       "    }\n",
       "</style>\n",
       "<table border=\"1\" class=\"dataframe\">\n",
       "  <thead>\n",
       "    <tr style=\"text-align: right;\">\n",
       "      <th></th>\n",
       "      <th>caldt</th>\n",
       "      <th>vwretd</th>\n",
       "      <th>ewretd</th>\n",
       "    </tr>\n",
       "  </thead>\n",
       "  <tbody>\n",
       "    <tr>\n",
       "      <th>0</th>\n",
       "      <td>19960131</td>\n",
       "      <td>0.034861</td>\n",
       "      <td>0.030677</td>\n",
       "    </tr>\n",
       "    <tr>\n",
       "      <th>1</th>\n",
       "      <td>19960229</td>\n",
       "      <td>0.010088</td>\n",
       "      <td>0.012873</td>\n",
       "    </tr>\n",
       "    <tr>\n",
       "      <th>2</th>\n",
       "      <td>19960329</td>\n",
       "      <td>0.009585</td>\n",
       "      <td>0.019612</td>\n",
       "    </tr>\n",
       "    <tr>\n",
       "      <th>3</th>\n",
       "      <td>19960430</td>\n",
       "      <td>0.015133</td>\n",
       "      <td>0.028410</td>\n",
       "    </tr>\n",
       "    <tr>\n",
       "      <th>4</th>\n",
       "      <td>19960531</td>\n",
       "      <td>0.025257</td>\n",
       "      <td>0.013102</td>\n",
       "    </tr>\n",
       "  </tbody>\n",
       "</table>\n",
       "</div>"
      ],
      "text/plain": [
       "      caldt    vwretd    ewretd\n",
       "0  19960131  0.034861  0.030677\n",
       "1  19960229  0.010088  0.012873\n",
       "2  19960329  0.009585  0.019612\n",
       "3  19960430  0.015133  0.028410\n",
       "4  19960531  0.025257  0.013102"
      ]
     },
     "execution_count": 16,
     "metadata": {},
     "output_type": "execute_result"
    },
    {
     "data": {
      "text/html": [
       "<div>\n",
       "<style scoped>\n",
       "    .dataframe tbody tr th:only-of-type {\n",
       "        vertical-align: middle;\n",
       "    }\n",
       "\n",
       "    .dataframe tbody tr th {\n",
       "        vertical-align: top;\n",
       "    }\n",
       "\n",
       "    .dataframe thead th {\n",
       "        text-align: right;\n",
       "    }\n",
       "</style>\n",
       "<table border=\"1\" class=\"dataframe\">\n",
       "  <thead>\n",
       "    <tr style=\"text-align: right;\">\n",
       "      <th></th>\n",
       "      <th>caldt</th>\n",
       "      <th>vwretd</th>\n",
       "      <th>ewretd</th>\n",
       "    </tr>\n",
       "  </thead>\n",
       "  <tbody>\n",
       "    <tr>\n",
       "      <th>235</th>\n",
       "      <td>20150831</td>\n",
       "      <td>-0.060086</td>\n",
       "      <td>-0.053687</td>\n",
       "    </tr>\n",
       "    <tr>\n",
       "      <th>236</th>\n",
       "      <td>20150930</td>\n",
       "      <td>-0.024547</td>\n",
       "      <td>-0.033593</td>\n",
       "    </tr>\n",
       "    <tr>\n",
       "      <th>237</th>\n",
       "      <td>20151030</td>\n",
       "      <td>0.083448</td>\n",
       "      <td>0.073634</td>\n",
       "    </tr>\n",
       "    <tr>\n",
       "      <th>238</th>\n",
       "      <td>20151130</td>\n",
       "      <td>0.003373</td>\n",
       "      <td>0.002899</td>\n",
       "    </tr>\n",
       "    <tr>\n",
       "      <th>239</th>\n",
       "      <td>20151231</td>\n",
       "      <td>-0.015247</td>\n",
       "      <td>-0.025283</td>\n",
       "    </tr>\n",
       "  </tbody>\n",
       "</table>\n",
       "</div>"
      ],
      "text/plain": [
       "        caldt    vwretd    ewretd\n",
       "235  20150831 -0.060086 -0.053687\n",
       "236  20150930 -0.024547 -0.033593\n",
       "237  20151030  0.083448  0.073634\n",
       "238  20151130  0.003373  0.002899\n",
       "239  20151231 -0.015247 -0.025283"
      ]
     },
     "execution_count": 16,
     "metadata": {},
     "output_type": "execute_result"
    }
   ],
   "source": [
    "# in-sample regression (from 1996/01 to 2015/12)\n",
    "snpdata = snpdata[snpdata['caldt'] >= 19960100]\n",
    "snpdata.dropna(inplace = True)\n",
    "snpdata.reset_index(inplace = True, drop = True)\n",
    "snpdata.head()\n",
    "snpdata.tail()"
   ]
  },
  {
   "cell_type": "code",
   "execution_count": 17,
   "metadata": {},
   "outputs": [],
   "source": [
    "# Matching time for the predictive regression\n",
    "snp500_to_be_predicted = snpdata['vwretd'].iloc[1:]\n",
    "predictors_to_be_used = set_of_predictors[set_of_predictors['date'] >= '1996-01-01'].iloc[:-1,:-1]"
   ]
  },
  {
   "cell_type": "code",
   "execution_count": 18,
   "metadata": {},
   "outputs": [],
   "source": [
    "# Regression\n",
    "number_of_predictors = len(predictors_to_be_used.columns.to_list())\n",
    "name_of_predictors = predictors_to_be_used.columns.to_list()\n",
    "in_sample_r_squared = np.zeros(number_of_predictors)"
   ]
  },
  {
   "cell_type": "code",
   "execution_count": 19,
   "metadata": {},
   "outputs": [
    {
     "data": {
      "text/plain": [
       "13"
      ]
     },
     "execution_count": 19,
     "metadata": {},
     "output_type": "execute_result"
    },
    {
     "data": {
      "text/plain": [
       "['dp_ratio',\n",
       " 'd_yield',\n",
       " 'ep_ratio',\n",
       " 'd_payout_ratio',\n",
       " 'stock_variance',\n",
       " 'btm',\n",
       " 'net_equity_expansion',\n",
       " 'tbillrate',\n",
       " 'long_term_yield',\n",
       " 'long_term_return',\n",
       " 'term_spread',\n",
       " 'default_yield_spread',\n",
       " 'inflation']"
      ]
     },
     "execution_count": 19,
     "metadata": {},
     "output_type": "execute_result"
    },
    {
     "data": {
      "text/plain": [
       "array([0., 0., 0., 0., 0., 0., 0., 0., 0., 0., 0., 0., 0.])"
      ]
     },
     "execution_count": 19,
     "metadata": {},
     "output_type": "execute_result"
    }
   ],
   "source": [
    "number_of_predictors\n",
    "name_of_predictors\n",
    "in_sample_r_squared"
   ]
  },
  {
   "cell_type": "code",
   "execution_count": 20,
   "metadata": {},
   "outputs": [
    {
     "data": {
      "text/plain": [
       "LinearRegression(copy_X=True, fit_intercept=True, n_jobs=None, normalize=False)"
      ]
     },
     "execution_count": 20,
     "metadata": {},
     "output_type": "execute_result"
    },
    {
     "data": {
      "text/plain": [
       "LinearRegression(copy_X=True, fit_intercept=True, n_jobs=None, normalize=False)"
      ]
     },
     "execution_count": 20,
     "metadata": {},
     "output_type": "execute_result"
    },
    {
     "data": {
      "text/plain": [
       "LinearRegression(copy_X=True, fit_intercept=True, n_jobs=None, normalize=False)"
      ]
     },
     "execution_count": 20,
     "metadata": {},
     "output_type": "execute_result"
    },
    {
     "data": {
      "text/plain": [
       "LinearRegression(copy_X=True, fit_intercept=True, n_jobs=None, normalize=False)"
      ]
     },
     "execution_count": 20,
     "metadata": {},
     "output_type": "execute_result"
    },
    {
     "data": {
      "text/plain": [
       "LinearRegression(copy_X=True, fit_intercept=True, n_jobs=None, normalize=False)"
      ]
     },
     "execution_count": 20,
     "metadata": {},
     "output_type": "execute_result"
    },
    {
     "data": {
      "text/plain": [
       "LinearRegression(copy_X=True, fit_intercept=True, n_jobs=None, normalize=False)"
      ]
     },
     "execution_count": 20,
     "metadata": {},
     "output_type": "execute_result"
    },
    {
     "data": {
      "text/plain": [
       "LinearRegression(copy_X=True, fit_intercept=True, n_jobs=None, normalize=False)"
      ]
     },
     "execution_count": 20,
     "metadata": {},
     "output_type": "execute_result"
    },
    {
     "data": {
      "text/plain": [
       "LinearRegression(copy_X=True, fit_intercept=True, n_jobs=None, normalize=False)"
      ]
     },
     "execution_count": 20,
     "metadata": {},
     "output_type": "execute_result"
    },
    {
     "data": {
      "text/plain": [
       "LinearRegression(copy_X=True, fit_intercept=True, n_jobs=None, normalize=False)"
      ]
     },
     "execution_count": 20,
     "metadata": {},
     "output_type": "execute_result"
    },
    {
     "data": {
      "text/plain": [
       "LinearRegression(copy_X=True, fit_intercept=True, n_jobs=None, normalize=False)"
      ]
     },
     "execution_count": 20,
     "metadata": {},
     "output_type": "execute_result"
    },
    {
     "data": {
      "text/plain": [
       "LinearRegression(copy_X=True, fit_intercept=True, n_jobs=None, normalize=False)"
      ]
     },
     "execution_count": 20,
     "metadata": {},
     "output_type": "execute_result"
    },
    {
     "data": {
      "text/plain": [
       "LinearRegression(copy_X=True, fit_intercept=True, n_jobs=None, normalize=False)"
      ]
     },
     "execution_count": 20,
     "metadata": {},
     "output_type": "execute_result"
    },
    {
     "data": {
      "text/plain": [
       "LinearRegression(copy_X=True, fit_intercept=True, n_jobs=None, normalize=False)"
      ]
     },
     "execution_count": 20,
     "metadata": {},
     "output_type": "execute_result"
    }
   ],
   "source": [
    "for i in range(len(name_of_predictors)):\n",
    "    lr = LinearRegression()\n",
    "    lr.fit(predictors_to_be_used[name_of_predictors[i]].to_numpy().reshape(-1, 1), snp500_to_be_predicted.to_numpy().reshape(-1, 1))\n",
    "    y_pred = lr.predict(predictors_to_be_used[name_of_predictors[i]].to_numpy().reshape(-1, 1))\n",
    "    in_sample_r_squared[i] = r2_score(snp500_to_be_predicted.to_numpy().reshape(-1, 1), y_pred)"
   ]
  },
  {
   "cell_type": "code",
   "execution_count": 21,
   "metadata": {},
   "outputs": [
    {
     "data": {
      "text/plain": [
       "array([1.11336572e-02, 1.10464002e-02, 2.45924525e-03, 4.08683740e-05,\n",
       "       2.08447766e-02, 1.74333689e-03, 1.83966182e-02, 9.95447452e-06,\n",
       "       6.84131591e-04, 1.33889799e-03, 9.79669370e-04, 6.05959787e-03,\n",
       "       1.25679174e-03])"
      ]
     },
     "execution_count": 21,
     "metadata": {},
     "output_type": "execute_result"
    }
   ],
   "source": [
    "in_sample_r_squared"
   ]
  },
  {
   "cell_type": "markdown",
   "metadata": {},
   "source": [
    "# R2-score with KOSPI data"
   ]
  },
  {
   "cell_type": "markdown",
   "metadata": {},
   "source": [
    "## (i) Use each predictor and get the R2 score"
   ]
  },
  {
   "cell_type": "code",
   "execution_count": 22,
   "metadata": {},
   "outputs": [
    {
     "data": {
      "text/html": [
       "<div>\n",
       "<style scoped>\n",
       "    .dataframe tbody tr th:only-of-type {\n",
       "        vertical-align: middle;\n",
       "    }\n",
       "\n",
       "    .dataframe tbody tr th {\n",
       "        vertical-align: top;\n",
       "    }\n",
       "\n",
       "    .dataframe thead th {\n",
       "        text-align: right;\n",
       "    }\n",
       "</style>\n",
       "<table border=\"1\" class=\"dataframe\">\n",
       "  <thead>\n",
       "    <tr style=\"text-align: right;\">\n",
       "      <th></th>\n",
       "      <th>date</th>\n",
       "      <th>ret</th>\n",
       "    </tr>\n",
       "  </thead>\n",
       "  <tbody>\n",
       "    <tr>\n",
       "      <th>0</th>\n",
       "      <td>2000-03-31</td>\n",
       "      <td>0.038553</td>\n",
       "    </tr>\n",
       "    <tr>\n",
       "      <th>1</th>\n",
       "      <td>2000-04-30</td>\n",
       "      <td>-0.171315</td>\n",
       "    </tr>\n",
       "    <tr>\n",
       "      <th>2</th>\n",
       "      <td>2000-05-31</td>\n",
       "      <td>0.008907</td>\n",
       "    </tr>\n",
       "    <tr>\n",
       "      <th>3</th>\n",
       "      <td>2000-06-30</td>\n",
       "      <td>0.115174</td>\n",
       "    </tr>\n",
       "    <tr>\n",
       "      <th>4</th>\n",
       "      <td>2000-07-31</td>\n",
       "      <td>-0.151218</td>\n",
       "    </tr>\n",
       "  </tbody>\n",
       "</table>\n",
       "</div>"
      ],
      "text/plain": [
       "        date       ret\n",
       "0 2000-03-31  0.038553\n",
       "1 2000-04-30 -0.171315\n",
       "2 2000-05-31  0.008907\n",
       "3 2000-06-30  0.115174\n",
       "4 2000-07-31 -0.151218"
      ]
     },
     "execution_count": 22,
     "metadata": {},
     "output_type": "execute_result"
    },
    {
     "data": {
      "text/html": [
       "<div>\n",
       "<style scoped>\n",
       "    .dataframe tbody tr th:only-of-type {\n",
       "        vertical-align: middle;\n",
       "    }\n",
       "\n",
       "    .dataframe tbody tr th {\n",
       "        vertical-align: top;\n",
       "    }\n",
       "\n",
       "    .dataframe thead th {\n",
       "        text-align: right;\n",
       "    }\n",
       "</style>\n",
       "<table border=\"1\" class=\"dataframe\">\n",
       "  <thead>\n",
       "    <tr style=\"text-align: right;\">\n",
       "      <th></th>\n",
       "      <th>date</th>\n",
       "      <th>ret</th>\n",
       "    </tr>\n",
       "  </thead>\n",
       "  <tbody>\n",
       "    <tr>\n",
       "      <th>243</th>\n",
       "      <td>2020-06-30</td>\n",
       "      <td>0.038057</td>\n",
       "    </tr>\n",
       "    <tr>\n",
       "      <th>244</th>\n",
       "      <td>2020-07-31</td>\n",
       "      <td>0.064754</td>\n",
       "    </tr>\n",
       "    <tr>\n",
       "      <th>245</th>\n",
       "      <td>2020-08-31</td>\n",
       "      <td>0.033573</td>\n",
       "    </tr>\n",
       "    <tr>\n",
       "      <th>246</th>\n",
       "      <td>2020-09-30</td>\n",
       "      <td>0.000739</td>\n",
       "    </tr>\n",
       "    <tr>\n",
       "      <th>247</th>\n",
       "      <td>2020-10-31</td>\n",
       "      <td>-0.026439</td>\n",
       "    </tr>\n",
       "  </tbody>\n",
       "</table>\n",
       "</div>"
      ],
      "text/plain": [
       "          date       ret\n",
       "243 2020-06-30  0.038057\n",
       "244 2020-07-31  0.064754\n",
       "245 2020-08-31  0.033573\n",
       "246 2020-09-30  0.000739\n",
       "247 2020-10-31 -0.026439"
      ]
     },
     "execution_count": 22,
     "metadata": {},
     "output_type": "execute_result"
    }
   ],
   "source": [
    "# in-sample regression (from 2000/03/31 to 2015/12)\n",
    "kdata = kdata[(kdata['date'] >= '2000-01-01') & (kdata['date'] <= '2020-11-01')]\n",
    "kdata['ret'] = np.log(kdata['kospi_close']) - np.log(kdata['kospi_close'].shift(1))\n",
    "kdata.dropna(inplace = True)\n",
    "kdata.reset_index(drop = True, inplace = True)\n",
    "kdata.drop('kospi_close', axis = 1, inplace = True)\n",
    "kdata.head()\n",
    "kdata.tail()"
   ]
  },
  {
   "cell_type": "code",
   "execution_count": 23,
   "metadata": {},
   "outputs": [
    {
     "data": {
      "text/html": [
       "<div>\n",
       "<style scoped>\n",
       "    .dataframe tbody tr th:only-of-type {\n",
       "        vertical-align: middle;\n",
       "    }\n",
       "\n",
       "    .dataframe tbody tr th {\n",
       "        vertical-align: top;\n",
       "    }\n",
       "\n",
       "    .dataframe thead th {\n",
       "        text-align: right;\n",
       "    }\n",
       "</style>\n",
       "<table border=\"1\" class=\"dataframe\">\n",
       "  <thead>\n",
       "    <tr style=\"text-align: right;\">\n",
       "      <th></th>\n",
       "      <th>date</th>\n",
       "      <th>ret</th>\n",
       "    </tr>\n",
       "  </thead>\n",
       "  <tbody>\n",
       "    <tr>\n",
       "      <th>0</th>\n",
       "      <td>2000-03-31</td>\n",
       "      <td>0.038553</td>\n",
       "    </tr>\n",
       "    <tr>\n",
       "      <th>1</th>\n",
       "      <td>2000-04-30</td>\n",
       "      <td>-0.171315</td>\n",
       "    </tr>\n",
       "    <tr>\n",
       "      <th>2</th>\n",
       "      <td>2000-05-31</td>\n",
       "      <td>0.008907</td>\n",
       "    </tr>\n",
       "    <tr>\n",
       "      <th>3</th>\n",
       "      <td>2000-06-30</td>\n",
       "      <td>0.115174</td>\n",
       "    </tr>\n",
       "    <tr>\n",
       "      <th>4</th>\n",
       "      <td>2000-07-31</td>\n",
       "      <td>-0.151218</td>\n",
       "    </tr>\n",
       "    <tr>\n",
       "      <th>...</th>\n",
       "      <td>...</td>\n",
       "      <td>...</td>\n",
       "    </tr>\n",
       "    <tr>\n",
       "      <th>243</th>\n",
       "      <td>2020-06-30</td>\n",
       "      <td>0.038057</td>\n",
       "    </tr>\n",
       "    <tr>\n",
       "      <th>244</th>\n",
       "      <td>2020-07-31</td>\n",
       "      <td>0.064754</td>\n",
       "    </tr>\n",
       "    <tr>\n",
       "      <th>245</th>\n",
       "      <td>2020-08-31</td>\n",
       "      <td>0.033573</td>\n",
       "    </tr>\n",
       "    <tr>\n",
       "      <th>246</th>\n",
       "      <td>2020-09-30</td>\n",
       "      <td>0.000739</td>\n",
       "    </tr>\n",
       "    <tr>\n",
       "      <th>247</th>\n",
       "      <td>2020-10-31</td>\n",
       "      <td>-0.026439</td>\n",
       "    </tr>\n",
       "  </tbody>\n",
       "</table>\n",
       "<p>248 rows × 2 columns</p>\n",
       "</div>"
      ],
      "text/plain": [
       "          date       ret\n",
       "0   2000-03-31  0.038553\n",
       "1   2000-04-30 -0.171315\n",
       "2   2000-05-31  0.008907\n",
       "3   2000-06-30  0.115174\n",
       "4   2000-07-31 -0.151218\n",
       "..         ...       ...\n",
       "243 2020-06-30  0.038057\n",
       "244 2020-07-31  0.064754\n",
       "245 2020-08-31  0.033573\n",
       "246 2020-09-30  0.000739\n",
       "247 2020-10-31 -0.026439\n",
       "\n",
       "[248 rows x 2 columns]"
      ]
     },
     "execution_count": 23,
     "metadata": {},
     "output_type": "execute_result"
    },
    {
     "data": {
      "text/html": [
       "<div>\n",
       "<style scoped>\n",
       "    .dataframe tbody tr th:only-of-type {\n",
       "        vertical-align: middle;\n",
       "    }\n",
       "\n",
       "    .dataframe tbody tr th {\n",
       "        vertical-align: top;\n",
       "    }\n",
       "\n",
       "    .dataframe thead th {\n",
       "        text-align: right;\n",
       "    }\n",
       "</style>\n",
       "<table border=\"1\" class=\"dataframe\">\n",
       "  <thead>\n",
       "    <tr style=\"text-align: right;\">\n",
       "      <th></th>\n",
       "      <th>dp_ratio</th>\n",
       "      <th>d_yield</th>\n",
       "      <th>ep_ratio</th>\n",
       "      <th>d_payout_ratio</th>\n",
       "      <th>stock_variance</th>\n",
       "      <th>btm</th>\n",
       "      <th>net_equity_expansion</th>\n",
       "      <th>tbillrate</th>\n",
       "      <th>long_term_yield</th>\n",
       "      <th>long_term_return</th>\n",
       "      <th>term_spread</th>\n",
       "      <th>default_yield_spread</th>\n",
       "      <th>inflation</th>\n",
       "      <th>date</th>\n",
       "    </tr>\n",
       "  </thead>\n",
       "  <tbody>\n",
       "    <tr>\n",
       "      <th>1</th>\n",
       "      <td>-2.942374</td>\n",
       "      <td>NaN</td>\n",
       "      <td>-2.374773</td>\n",
       "      <td>-0.567601</td>\n",
       "      <td>0.000470</td>\n",
       "      <td>0.443706</td>\n",
       "      <td>0.050833</td>\n",
       "      <td>0.0323</td>\n",
       "      <td>0.0351</td>\n",
       "      <td>0.0075</td>\n",
       "      <td>0.0028</td>\n",
       "      <td>0.0095</td>\n",
       "      <td>-0.011299</td>\n",
       "      <td>1927-01-31</td>\n",
       "    </tr>\n",
       "    <tr>\n",
       "      <th>2</th>\n",
       "      <td>-2.979535</td>\n",
       "      <td>-2.988963</td>\n",
       "      <td>-2.430353</td>\n",
       "      <td>-0.549182</td>\n",
       "      <td>0.000287</td>\n",
       "      <td>0.428501</td>\n",
       "      <td>0.051681</td>\n",
       "      <td>0.0329</td>\n",
       "      <td>0.0347</td>\n",
       "      <td>0.0088</td>\n",
       "      <td>0.0018</td>\n",
       "      <td>0.0092</td>\n",
       "      <td>-0.005714</td>\n",
       "      <td>1927-02-28</td>\n",
       "    </tr>\n",
       "    <tr>\n",
       "      <th>3</th>\n",
       "      <td>-2.976535</td>\n",
       "      <td>-2.986017</td>\n",
       "      <td>-2.445079</td>\n",
       "      <td>-0.531456</td>\n",
       "      <td>0.000924</td>\n",
       "      <td>0.469765</td>\n",
       "      <td>0.046370</td>\n",
       "      <td>0.0320</td>\n",
       "      <td>0.0331</td>\n",
       "      <td>0.0253</td>\n",
       "      <td>0.0011</td>\n",
       "      <td>0.0092</td>\n",
       "      <td>-0.005747</td>\n",
       "      <td>1927-03-31</td>\n",
       "    </tr>\n",
       "    <tr>\n",
       "      <th>4</th>\n",
       "      <td>-2.984225</td>\n",
       "      <td>-2.993617</td>\n",
       "      <td>-2.471309</td>\n",
       "      <td>-0.512916</td>\n",
       "      <td>0.000603</td>\n",
       "      <td>0.456754</td>\n",
       "      <td>0.050518</td>\n",
       "      <td>0.0339</td>\n",
       "      <td>0.0333</td>\n",
       "      <td>-0.0005</td>\n",
       "      <td>-0.0006</td>\n",
       "      <td>0.0090</td>\n",
       "      <td>0.000000</td>\n",
       "      <td>1927-04-30</td>\n",
       "    </tr>\n",
       "    <tr>\n",
       "      <th>5</th>\n",
       "      <td>-3.025963</td>\n",
       "      <td>-3.035130</td>\n",
       "      <td>-2.531446</td>\n",
       "      <td>-0.494518</td>\n",
       "      <td>0.000392</td>\n",
       "      <td>0.434783</td>\n",
       "      <td>0.055279</td>\n",
       "      <td>0.0333</td>\n",
       "      <td>0.0327</td>\n",
       "      <td>0.0109</td>\n",
       "      <td>-0.0006</td>\n",
       "      <td>0.0093</td>\n",
       "      <td>0.005780</td>\n",
       "      <td>1927-05-31</td>\n",
       "    </tr>\n",
       "    <tr>\n",
       "      <th>...</th>\n",
       "      <td>...</td>\n",
       "      <td>...</td>\n",
       "      <td>...</td>\n",
       "      <td>...</td>\n",
       "      <td>...</td>\n",
       "      <td>...</td>\n",
       "      <td>...</td>\n",
       "      <td>...</td>\n",
       "      <td>...</td>\n",
       "      <td>...</td>\n",
       "      <td>...</td>\n",
       "      <td>...</td>\n",
       "      <td>...</td>\n",
       "      <td>...</td>\n",
       "    </tr>\n",
       "    <tr>\n",
       "      <th>1064</th>\n",
       "      <td>-3.843190</td>\n",
       "      <td>-3.849270</td>\n",
       "      <td>-3.064273</td>\n",
       "      <td>-0.778916</td>\n",
       "      <td>0.005847</td>\n",
       "      <td>0.330671</td>\n",
       "      <td>-0.009536</td>\n",
       "      <td>0.0007</td>\n",
       "      <td>0.0264</td>\n",
       "      <td>0.0012</td>\n",
       "      <td>0.0257</td>\n",
       "      <td>0.0115</td>\n",
       "      <td>-0.001416</td>\n",
       "      <td>2015-08-31</td>\n",
       "    </tr>\n",
       "    <tr>\n",
       "      <th>1065</th>\n",
       "      <td>-3.810347</td>\n",
       "      <td>-3.816391</td>\n",
       "      <td>-3.052980</td>\n",
       "      <td>-0.757368</td>\n",
       "      <td>0.004053</td>\n",
       "      <td>0.335612</td>\n",
       "      <td>-0.012910</td>\n",
       "      <td>0.0002</td>\n",
       "      <td>0.0253</td>\n",
       "      <td>0.0174</td>\n",
       "      <td>0.0251</td>\n",
       "      <td>0.0127</td>\n",
       "      <td>-0.001557</td>\n",
       "      <td>2015-09-30</td>\n",
       "    </tr>\n",
       "    <tr>\n",
       "      <th>1066</th>\n",
       "      <td>-3.883210</td>\n",
       "      <td>-3.890067</td>\n",
       "      <td>-3.148001</td>\n",
       "      <td>-0.735209</td>\n",
       "      <td>0.001619</td>\n",
       "      <td>0.309414</td>\n",
       "      <td>-0.016209</td>\n",
       "      <td>0.0002</td>\n",
       "      <td>0.0259</td>\n",
       "      <td>-0.0053</td>\n",
       "      <td>0.0257</td>\n",
       "      <td>0.0139</td>\n",
       "      <td>-0.000450</td>\n",
       "      <td>2015-10-31</td>\n",
       "    </tr>\n",
       "    <tr>\n",
       "      <th>1067</th>\n",
       "      <td>-3.876904</td>\n",
       "      <td>-3.883715</td>\n",
       "      <td>-3.164045</td>\n",
       "      <td>-0.712860</td>\n",
       "      <td>0.001119</td>\n",
       "      <td>0.308429</td>\n",
       "      <td>-0.017810</td>\n",
       "      <td>0.0012</td>\n",
       "      <td>0.0265</td>\n",
       "      <td>-0.0065</td>\n",
       "      <td>0.0253</td>\n",
       "      <td>0.0140</td>\n",
       "      <td>-0.002111</td>\n",
       "      <td>2015-11-30</td>\n",
       "    </tr>\n",
       "    <tr>\n",
       "      <th>1068</th>\n",
       "      <td>-3.852454</td>\n",
       "      <td>-3.859219</td>\n",
       "      <td>-3.162143</td>\n",
       "      <td>-0.690311</td>\n",
       "      <td>0.002839</td>\n",
       "      <td>0.313649</td>\n",
       "      <td>-0.021611</td>\n",
       "      <td>0.0023</td>\n",
       "      <td>0.0268</td>\n",
       "      <td>-0.0022</td>\n",
       "      <td>0.0245</td>\n",
       "      <td>0.0149</td>\n",
       "      <td>-0.003417</td>\n",
       "      <td>2015-12-31</td>\n",
       "    </tr>\n",
       "  </tbody>\n",
       "</table>\n",
       "<p>1068 rows × 14 columns</p>\n",
       "</div>"
      ],
      "text/plain": [
       "      dp_ratio   d_yield  ep_ratio  d_payout_ratio  stock_variance       btm  \\\n",
       "1    -2.942374       NaN -2.374773       -0.567601        0.000470  0.443706   \n",
       "2    -2.979535 -2.988963 -2.430353       -0.549182        0.000287  0.428501   \n",
       "3    -2.976535 -2.986017 -2.445079       -0.531456        0.000924  0.469765   \n",
       "4    -2.984225 -2.993617 -2.471309       -0.512916        0.000603  0.456754   \n",
       "5    -3.025963 -3.035130 -2.531446       -0.494518        0.000392  0.434783   \n",
       "...        ...       ...       ...             ...             ...       ...   \n",
       "1064 -3.843190 -3.849270 -3.064273       -0.778916        0.005847  0.330671   \n",
       "1065 -3.810347 -3.816391 -3.052980       -0.757368        0.004053  0.335612   \n",
       "1066 -3.883210 -3.890067 -3.148001       -0.735209        0.001619  0.309414   \n",
       "1067 -3.876904 -3.883715 -3.164045       -0.712860        0.001119  0.308429   \n",
       "1068 -3.852454 -3.859219 -3.162143       -0.690311        0.002839  0.313649   \n",
       "\n",
       "      net_equity_expansion  tbillrate  long_term_yield  long_term_return  \\\n",
       "1                 0.050833     0.0323           0.0351            0.0075   \n",
       "2                 0.051681     0.0329           0.0347            0.0088   \n",
       "3                 0.046370     0.0320           0.0331            0.0253   \n",
       "4                 0.050518     0.0339           0.0333           -0.0005   \n",
       "5                 0.055279     0.0333           0.0327            0.0109   \n",
       "...                    ...        ...              ...               ...   \n",
       "1064             -0.009536     0.0007           0.0264            0.0012   \n",
       "1065             -0.012910     0.0002           0.0253            0.0174   \n",
       "1066             -0.016209     0.0002           0.0259           -0.0053   \n",
       "1067             -0.017810     0.0012           0.0265           -0.0065   \n",
       "1068             -0.021611     0.0023           0.0268           -0.0022   \n",
       "\n",
       "      term_spread  default_yield_spread  inflation       date  \n",
       "1          0.0028                0.0095  -0.011299 1927-01-31  \n",
       "2          0.0018                0.0092  -0.005714 1927-02-28  \n",
       "3          0.0011                0.0092  -0.005747 1927-03-31  \n",
       "4         -0.0006                0.0090   0.000000 1927-04-30  \n",
       "5         -0.0006                0.0093   0.005780 1927-05-31  \n",
       "...           ...                   ...        ...        ...  \n",
       "1064       0.0257                0.0115  -0.001416 2015-08-31  \n",
       "1065       0.0251                0.0127  -0.001557 2015-09-30  \n",
       "1066       0.0257                0.0139  -0.000450 2015-10-31  \n",
       "1067       0.0253                0.0140  -0.002111 2015-11-30  \n",
       "1068       0.0245                0.0149  -0.003417 2015-12-31  \n",
       "\n",
       "[1068 rows x 14 columns]"
      ]
     },
     "execution_count": 23,
     "metadata": {},
     "output_type": "execute_result"
    }
   ],
   "source": [
    "# in-sample regression (from 2000/03/31 to 2015/12)\n",
    "kdata\n",
    "set_of_predictors"
   ]
  },
  {
   "cell_type": "code",
   "execution_count": 24,
   "metadata": {},
   "outputs": [],
   "source": [
    "# Matching time for the predictive regression\n",
    "date_from = '2000-03-31'\n",
    "date_to = '2015-12-31'\n",
    "kospi_to_be_predicted = kdata[(kdata['date'] >= date_from) & (kdata['date'] <= date_to)]['ret']\n",
    "predictors_to_be_used = set_of_predictors[(set_of_predictors['date'] >= date_from) & (set_of_predictors['date'] <= date_to)].iloc[:,:-1]"
   ]
  },
  {
   "cell_type": "code",
   "execution_count": 25,
   "metadata": {},
   "outputs": [],
   "source": [
    "# Regression\n",
    "number_of_predictors = len(predictors_to_be_used.columns.to_list())\n",
    "name_of_predictors = predictors_to_be_used.columns.to_list()\n",
    "in_sample_r_squared = np.zeros(number_of_predictors)"
   ]
  },
  {
   "cell_type": "code",
   "execution_count": 26,
   "metadata": {},
   "outputs": [
    {
     "data": {
      "text/plain": [
       "LinearRegression(copy_X=True, fit_intercept=True, n_jobs=None, normalize=False)"
      ]
     },
     "execution_count": 26,
     "metadata": {},
     "output_type": "execute_result"
    },
    {
     "data": {
      "text/plain": [
       "LinearRegression(copy_X=True, fit_intercept=True, n_jobs=None, normalize=False)"
      ]
     },
     "execution_count": 26,
     "metadata": {},
     "output_type": "execute_result"
    },
    {
     "data": {
      "text/plain": [
       "LinearRegression(copy_X=True, fit_intercept=True, n_jobs=None, normalize=False)"
      ]
     },
     "execution_count": 26,
     "metadata": {},
     "output_type": "execute_result"
    },
    {
     "data": {
      "text/plain": [
       "LinearRegression(copy_X=True, fit_intercept=True, n_jobs=None, normalize=False)"
      ]
     },
     "execution_count": 26,
     "metadata": {},
     "output_type": "execute_result"
    },
    {
     "data": {
      "text/plain": [
       "LinearRegression(copy_X=True, fit_intercept=True, n_jobs=None, normalize=False)"
      ]
     },
     "execution_count": 26,
     "metadata": {},
     "output_type": "execute_result"
    },
    {
     "data": {
      "text/plain": [
       "LinearRegression(copy_X=True, fit_intercept=True, n_jobs=None, normalize=False)"
      ]
     },
     "execution_count": 26,
     "metadata": {},
     "output_type": "execute_result"
    },
    {
     "data": {
      "text/plain": [
       "LinearRegression(copy_X=True, fit_intercept=True, n_jobs=None, normalize=False)"
      ]
     },
     "execution_count": 26,
     "metadata": {},
     "output_type": "execute_result"
    },
    {
     "data": {
      "text/plain": [
       "LinearRegression(copy_X=True, fit_intercept=True, n_jobs=None, normalize=False)"
      ]
     },
     "execution_count": 26,
     "metadata": {},
     "output_type": "execute_result"
    },
    {
     "data": {
      "text/plain": [
       "LinearRegression(copy_X=True, fit_intercept=True, n_jobs=None, normalize=False)"
      ]
     },
     "execution_count": 26,
     "metadata": {},
     "output_type": "execute_result"
    },
    {
     "data": {
      "text/plain": [
       "LinearRegression(copy_X=True, fit_intercept=True, n_jobs=None, normalize=False)"
      ]
     },
     "execution_count": 26,
     "metadata": {},
     "output_type": "execute_result"
    },
    {
     "data": {
      "text/plain": [
       "LinearRegression(copy_X=True, fit_intercept=True, n_jobs=None, normalize=False)"
      ]
     },
     "execution_count": 26,
     "metadata": {},
     "output_type": "execute_result"
    },
    {
     "data": {
      "text/plain": [
       "LinearRegression(copy_X=True, fit_intercept=True, n_jobs=None, normalize=False)"
      ]
     },
     "execution_count": 26,
     "metadata": {},
     "output_type": "execute_result"
    },
    {
     "data": {
      "text/plain": [
       "LinearRegression(copy_X=True, fit_intercept=True, n_jobs=None, normalize=False)"
      ]
     },
     "execution_count": 26,
     "metadata": {},
     "output_type": "execute_result"
    }
   ],
   "source": [
    "for i in range(len(name_of_predictors)):\n",
    "    lr = LinearRegression()\n",
    "    lr.fit(predictors_to_be_used[name_of_predictors[i]].to_numpy().reshape(-1, 1), kospi_to_be_predicted.to_numpy().reshape(-1, 1))\n",
    "    y_pred = lr.predict(predictors_to_be_used[name_of_predictors[i]].to_numpy().reshape(-1, 1))\n",
    "    in_sample_r_squared[i] = r2_score(kospi_to_be_predicted.to_numpy().reshape(-1, 1), y_pred)"
   ]
  },
  {
   "cell_type": "markdown",
   "metadata": {},
   "source": [
    "### (i) 결과"
   ]
  },
  {
   "cell_type": "code",
   "execution_count": 27,
   "metadata": {},
   "outputs": [
    {
     "data": {
      "text/html": [
       "<div>\n",
       "<style scoped>\n",
       "    .dataframe tbody tr th:only-of-type {\n",
       "        vertical-align: middle;\n",
       "    }\n",
       "\n",
       "    .dataframe tbody tr th {\n",
       "        vertical-align: top;\n",
       "    }\n",
       "\n",
       "    .dataframe thead th {\n",
       "        text-align: right;\n",
       "    }\n",
       "</style>\n",
       "<table border=\"1\" class=\"dataframe\">\n",
       "  <thead>\n",
       "    <tr style=\"text-align: right;\">\n",
       "      <th></th>\n",
       "      <th>name_of_predictors</th>\n",
       "      <th>r_squared</th>\n",
       "    </tr>\n",
       "  </thead>\n",
       "  <tbody>\n",
       "    <tr>\n",
       "      <th>0</th>\n",
       "      <td>dp_ratio</td>\n",
       "      <td>0.0013603409142538547</td>\n",
       "    </tr>\n",
       "    <tr>\n",
       "      <th>1</th>\n",
       "      <td>d_yield</td>\n",
       "      <td>0.0013335870357568114</td>\n",
       "    </tr>\n",
       "    <tr>\n",
       "      <th>2</th>\n",
       "      <td>ep_ratio</td>\n",
       "      <td>0.009520980093008391</td>\n",
       "    </tr>\n",
       "    <tr>\n",
       "      <th>3</th>\n",
       "      <td>d_payout_ratio</td>\n",
       "      <td>0.004663364850288398</td>\n",
       "    </tr>\n",
       "    <tr>\n",
       "      <th>4</th>\n",
       "      <td>stock_variance</td>\n",
       "      <td>0.08796321917712957</td>\n",
       "    </tr>\n",
       "    <tr>\n",
       "      <th>5</th>\n",
       "      <td>btm</td>\n",
       "      <td>0.003982986348865292</td>\n",
       "    </tr>\n",
       "    <tr>\n",
       "      <th>6</th>\n",
       "      <td>net_equity_expansion</td>\n",
       "      <td>0.003122013931929457</td>\n",
       "    </tr>\n",
       "    <tr>\n",
       "      <th>7</th>\n",
       "      <td>tbillrate</td>\n",
       "      <td>0.001674570603108938</td>\n",
       "    </tr>\n",
       "    <tr>\n",
       "      <th>8</th>\n",
       "      <td>long_term_yield</td>\n",
       "      <td>0.0001239438178780583</td>\n",
       "    </tr>\n",
       "    <tr>\n",
       "      <th>9</th>\n",
       "      <td>long_term_return</td>\n",
       "      <td>0.04429866803536053</td>\n",
       "    </tr>\n",
       "    <tr>\n",
       "      <th>10</th>\n",
       "      <td>term_spread</td>\n",
       "      <td>0.0023458740011010892</td>\n",
       "    </tr>\n",
       "    <tr>\n",
       "      <th>11</th>\n",
       "      <td>default_yield_spread</td>\n",
       "      <td>6.361052475489792e-05</td>\n",
       "    </tr>\n",
       "    <tr>\n",
       "      <th>12</th>\n",
       "      <td>inflation</td>\n",
       "      <td>0.0021738657399452688</td>\n",
       "    </tr>\n",
       "  </tbody>\n",
       "</table>\n",
       "</div>"
      ],
      "text/plain": [
       "      name_of_predictors              r_squared\n",
       "0               dp_ratio  0.0013603409142538547\n",
       "1                d_yield  0.0013335870357568114\n",
       "2               ep_ratio   0.009520980093008391\n",
       "3         d_payout_ratio   0.004663364850288398\n",
       "4         stock_variance    0.08796321917712957\n",
       "5                    btm   0.003982986348865292\n",
       "6   net_equity_expansion   0.003122013931929457\n",
       "7              tbillrate   0.001674570603108938\n",
       "8        long_term_yield  0.0001239438178780583\n",
       "9       long_term_return    0.04429866803536053\n",
       "10           term_spread  0.0023458740011010892\n",
       "11  default_yield_spread  6.361052475489792e-05\n",
       "12             inflation  0.0021738657399452688"
      ]
     },
     "execution_count": 27,
     "metadata": {},
     "output_type": "execute_result"
    }
   ],
   "source": [
    "each_predictor_result = pd.DataFrame(data = np.array([name_of_predictors, in_sample_r_squared]).T, columns = ['name_of_predictors', 'r_squared'])\n",
    "each_predictor_result"
   ]
  },
  {
   "cell_type": "markdown",
   "metadata": {},
   "source": []
  },
  {
   "cell_type": "code",
   "execution_count": null,
   "metadata": {},
   "outputs": [],
   "source": []
  },
  {
   "cell_type": "code",
   "execution_count": null,
   "metadata": {},
   "outputs": [],
   "source": []
  },
  {
   "cell_type": "markdown",
   "metadata": {},
   "source": [
    "## (ii) Use all predictor with expending window and get the R2 score"
   ]
  },
  {
   "cell_type": "markdown",
   "metadata": {},
   "source": [
    "- date_from : 2000-03-31\n",
    "- date_to : from 2009-12-31 to 2015-12-31"
   ]
  },
  {
   "cell_type": "code",
   "execution_count": 28,
   "metadata": {},
   "outputs": [],
   "source": [
    "kdata = pd.read_excel('./kospi.xlsx')\n",
    "kdata.columns = ['date', 'kospi_close']"
   ]
  },
  {
   "cell_type": "code",
   "execution_count": 29,
   "metadata": {},
   "outputs": [
    {
     "data": {
      "text/html": [
       "<div>\n",
       "<style scoped>\n",
       "    .dataframe tbody tr th:only-of-type {\n",
       "        vertical-align: middle;\n",
       "    }\n",
       "\n",
       "    .dataframe tbody tr th {\n",
       "        vertical-align: top;\n",
       "    }\n",
       "\n",
       "    .dataframe thead th {\n",
       "        text-align: right;\n",
       "    }\n",
       "</style>\n",
       "<table border=\"1\" class=\"dataframe\">\n",
       "  <thead>\n",
       "    <tr style=\"text-align: right;\">\n",
       "      <th></th>\n",
       "      <th>date</th>\n",
       "      <th>ret</th>\n",
       "    </tr>\n",
       "  </thead>\n",
       "  <tbody>\n",
       "    <tr>\n",
       "      <th>0</th>\n",
       "      <td>2000-03-31</td>\n",
       "      <td>0.038553</td>\n",
       "    </tr>\n",
       "    <tr>\n",
       "      <th>1</th>\n",
       "      <td>2000-04-30</td>\n",
       "      <td>-0.171315</td>\n",
       "    </tr>\n",
       "    <tr>\n",
       "      <th>2</th>\n",
       "      <td>2000-05-31</td>\n",
       "      <td>0.008907</td>\n",
       "    </tr>\n",
       "    <tr>\n",
       "      <th>3</th>\n",
       "      <td>2000-06-30</td>\n",
       "      <td>0.115174</td>\n",
       "    </tr>\n",
       "    <tr>\n",
       "      <th>4</th>\n",
       "      <td>2000-07-31</td>\n",
       "      <td>-0.151218</td>\n",
       "    </tr>\n",
       "  </tbody>\n",
       "</table>\n",
       "</div>"
      ],
      "text/plain": [
       "        date       ret\n",
       "0 2000-03-31  0.038553\n",
       "1 2000-04-30 -0.171315\n",
       "2 2000-05-31  0.008907\n",
       "3 2000-06-30  0.115174\n",
       "4 2000-07-31 -0.151218"
      ]
     },
     "execution_count": 29,
     "metadata": {},
     "output_type": "execute_result"
    },
    {
     "data": {
      "text/html": [
       "<div>\n",
       "<style scoped>\n",
       "    .dataframe tbody tr th:only-of-type {\n",
       "        vertical-align: middle;\n",
       "    }\n",
       "\n",
       "    .dataframe tbody tr th {\n",
       "        vertical-align: top;\n",
       "    }\n",
       "\n",
       "    .dataframe thead th {\n",
       "        text-align: right;\n",
       "    }\n",
       "</style>\n",
       "<table border=\"1\" class=\"dataframe\">\n",
       "  <thead>\n",
       "    <tr style=\"text-align: right;\">\n",
       "      <th></th>\n",
       "      <th>date</th>\n",
       "      <th>ret</th>\n",
       "    </tr>\n",
       "  </thead>\n",
       "  <tbody>\n",
       "    <tr>\n",
       "      <th>243</th>\n",
       "      <td>2020-06-30</td>\n",
       "      <td>0.038057</td>\n",
       "    </tr>\n",
       "    <tr>\n",
       "      <th>244</th>\n",
       "      <td>2020-07-31</td>\n",
       "      <td>0.064754</td>\n",
       "    </tr>\n",
       "    <tr>\n",
       "      <th>245</th>\n",
       "      <td>2020-08-31</td>\n",
       "      <td>0.033573</td>\n",
       "    </tr>\n",
       "    <tr>\n",
       "      <th>246</th>\n",
       "      <td>2020-09-30</td>\n",
       "      <td>0.000739</td>\n",
       "    </tr>\n",
       "    <tr>\n",
       "      <th>247</th>\n",
       "      <td>2020-10-31</td>\n",
       "      <td>-0.026439</td>\n",
       "    </tr>\n",
       "  </tbody>\n",
       "</table>\n",
       "</div>"
      ],
      "text/plain": [
       "          date       ret\n",
       "243 2020-06-30  0.038057\n",
       "244 2020-07-31  0.064754\n",
       "245 2020-08-31  0.033573\n",
       "246 2020-09-30  0.000739\n",
       "247 2020-10-31 -0.026439"
      ]
     },
     "execution_count": 29,
     "metadata": {},
     "output_type": "execute_result"
    }
   ],
   "source": [
    "# in-sample regression (from 2000/03/31 to 2015/12)\n",
    "kdata = kdata[(kdata['date'] >= '2000-01-01') & (kdata['date'] <= '2020-11-01')]\n",
    "kdata['ret'] = np.log(kdata['kospi_close']) - np.log(kdata['kospi_close'].shift(1))\n",
    "kdata.dropna(inplace = True)\n",
    "kdata.reset_index(drop = True, inplace = True)\n",
    "kdata.drop('kospi_close', axis = 1, inplace = True)\n",
    "kdata.head()\n",
    "kdata.tail()"
   ]
  },
  {
   "cell_type": "code",
   "execution_count": 30,
   "metadata": {},
   "outputs": [
    {
     "data": {
      "text/html": [
       "<div>\n",
       "<style scoped>\n",
       "    .dataframe tbody tr th:only-of-type {\n",
       "        vertical-align: middle;\n",
       "    }\n",
       "\n",
       "    .dataframe tbody tr th {\n",
       "        vertical-align: top;\n",
       "    }\n",
       "\n",
       "    .dataframe thead th {\n",
       "        text-align: right;\n",
       "    }\n",
       "</style>\n",
       "<table border=\"1\" class=\"dataframe\">\n",
       "  <thead>\n",
       "    <tr style=\"text-align: right;\">\n",
       "      <th></th>\n",
       "      <th>dp_ratio</th>\n",
       "      <th>d_yield</th>\n",
       "      <th>ep_ratio</th>\n",
       "      <th>d_payout_ratio</th>\n",
       "      <th>stock_variance</th>\n",
       "      <th>btm</th>\n",
       "      <th>net_equity_expansion</th>\n",
       "      <th>tbillrate</th>\n",
       "      <th>long_term_yield</th>\n",
       "      <th>long_term_return</th>\n",
       "      <th>term_spread</th>\n",
       "      <th>default_yield_spread</th>\n",
       "      <th>inflation</th>\n",
       "      <th>date</th>\n",
       "    </tr>\n",
       "  </thead>\n",
       "  <tbody>\n",
       "    <tr>\n",
       "      <th>1</th>\n",
       "      <td>-2.942374</td>\n",
       "      <td>NaN</td>\n",
       "      <td>-2.374773</td>\n",
       "      <td>-0.567601</td>\n",
       "      <td>0.000470</td>\n",
       "      <td>0.443706</td>\n",
       "      <td>0.050833</td>\n",
       "      <td>0.0323</td>\n",
       "      <td>0.0351</td>\n",
       "      <td>0.0075</td>\n",
       "      <td>0.0028</td>\n",
       "      <td>0.0095</td>\n",
       "      <td>-0.011299</td>\n",
       "      <td>1927-01-31</td>\n",
       "    </tr>\n",
       "    <tr>\n",
       "      <th>2</th>\n",
       "      <td>-2.979535</td>\n",
       "      <td>-2.988963</td>\n",
       "      <td>-2.430353</td>\n",
       "      <td>-0.549182</td>\n",
       "      <td>0.000287</td>\n",
       "      <td>0.428501</td>\n",
       "      <td>0.051681</td>\n",
       "      <td>0.0329</td>\n",
       "      <td>0.0347</td>\n",
       "      <td>0.0088</td>\n",
       "      <td>0.0018</td>\n",
       "      <td>0.0092</td>\n",
       "      <td>-0.005714</td>\n",
       "      <td>1927-02-28</td>\n",
       "    </tr>\n",
       "    <tr>\n",
       "      <th>3</th>\n",
       "      <td>-2.976535</td>\n",
       "      <td>-2.986017</td>\n",
       "      <td>-2.445079</td>\n",
       "      <td>-0.531456</td>\n",
       "      <td>0.000924</td>\n",
       "      <td>0.469765</td>\n",
       "      <td>0.046370</td>\n",
       "      <td>0.0320</td>\n",
       "      <td>0.0331</td>\n",
       "      <td>0.0253</td>\n",
       "      <td>0.0011</td>\n",
       "      <td>0.0092</td>\n",
       "      <td>-0.005747</td>\n",
       "      <td>1927-03-31</td>\n",
       "    </tr>\n",
       "    <tr>\n",
       "      <th>4</th>\n",
       "      <td>-2.984225</td>\n",
       "      <td>-2.993617</td>\n",
       "      <td>-2.471309</td>\n",
       "      <td>-0.512916</td>\n",
       "      <td>0.000603</td>\n",
       "      <td>0.456754</td>\n",
       "      <td>0.050518</td>\n",
       "      <td>0.0339</td>\n",
       "      <td>0.0333</td>\n",
       "      <td>-0.0005</td>\n",
       "      <td>-0.0006</td>\n",
       "      <td>0.0090</td>\n",
       "      <td>0.000000</td>\n",
       "      <td>1927-04-30</td>\n",
       "    </tr>\n",
       "    <tr>\n",
       "      <th>5</th>\n",
       "      <td>-3.025963</td>\n",
       "      <td>-3.035130</td>\n",
       "      <td>-2.531446</td>\n",
       "      <td>-0.494518</td>\n",
       "      <td>0.000392</td>\n",
       "      <td>0.434783</td>\n",
       "      <td>0.055279</td>\n",
       "      <td>0.0333</td>\n",
       "      <td>0.0327</td>\n",
       "      <td>0.0109</td>\n",
       "      <td>-0.0006</td>\n",
       "      <td>0.0093</td>\n",
       "      <td>0.005780</td>\n",
       "      <td>1927-05-31</td>\n",
       "    </tr>\n",
       "    <tr>\n",
       "      <th>...</th>\n",
       "      <td>...</td>\n",
       "      <td>...</td>\n",
       "      <td>...</td>\n",
       "      <td>...</td>\n",
       "      <td>...</td>\n",
       "      <td>...</td>\n",
       "      <td>...</td>\n",
       "      <td>...</td>\n",
       "      <td>...</td>\n",
       "      <td>...</td>\n",
       "      <td>...</td>\n",
       "      <td>...</td>\n",
       "      <td>...</td>\n",
       "      <td>...</td>\n",
       "    </tr>\n",
       "    <tr>\n",
       "      <th>1064</th>\n",
       "      <td>-3.843190</td>\n",
       "      <td>-3.849270</td>\n",
       "      <td>-3.064273</td>\n",
       "      <td>-0.778916</td>\n",
       "      <td>0.005847</td>\n",
       "      <td>0.330671</td>\n",
       "      <td>-0.009536</td>\n",
       "      <td>0.0007</td>\n",
       "      <td>0.0264</td>\n",
       "      <td>0.0012</td>\n",
       "      <td>0.0257</td>\n",
       "      <td>0.0115</td>\n",
       "      <td>-0.001416</td>\n",
       "      <td>2015-08-31</td>\n",
       "    </tr>\n",
       "    <tr>\n",
       "      <th>1065</th>\n",
       "      <td>-3.810347</td>\n",
       "      <td>-3.816391</td>\n",
       "      <td>-3.052980</td>\n",
       "      <td>-0.757368</td>\n",
       "      <td>0.004053</td>\n",
       "      <td>0.335612</td>\n",
       "      <td>-0.012910</td>\n",
       "      <td>0.0002</td>\n",
       "      <td>0.0253</td>\n",
       "      <td>0.0174</td>\n",
       "      <td>0.0251</td>\n",
       "      <td>0.0127</td>\n",
       "      <td>-0.001557</td>\n",
       "      <td>2015-09-30</td>\n",
       "    </tr>\n",
       "    <tr>\n",
       "      <th>1066</th>\n",
       "      <td>-3.883210</td>\n",
       "      <td>-3.890067</td>\n",
       "      <td>-3.148001</td>\n",
       "      <td>-0.735209</td>\n",
       "      <td>0.001619</td>\n",
       "      <td>0.309414</td>\n",
       "      <td>-0.016209</td>\n",
       "      <td>0.0002</td>\n",
       "      <td>0.0259</td>\n",
       "      <td>-0.0053</td>\n",
       "      <td>0.0257</td>\n",
       "      <td>0.0139</td>\n",
       "      <td>-0.000450</td>\n",
       "      <td>2015-10-31</td>\n",
       "    </tr>\n",
       "    <tr>\n",
       "      <th>1067</th>\n",
       "      <td>-3.876904</td>\n",
       "      <td>-3.883715</td>\n",
       "      <td>-3.164045</td>\n",
       "      <td>-0.712860</td>\n",
       "      <td>0.001119</td>\n",
       "      <td>0.308429</td>\n",
       "      <td>-0.017810</td>\n",
       "      <td>0.0012</td>\n",
       "      <td>0.0265</td>\n",
       "      <td>-0.0065</td>\n",
       "      <td>0.0253</td>\n",
       "      <td>0.0140</td>\n",
       "      <td>-0.002111</td>\n",
       "      <td>2015-11-30</td>\n",
       "    </tr>\n",
       "    <tr>\n",
       "      <th>1068</th>\n",
       "      <td>-3.852454</td>\n",
       "      <td>-3.859219</td>\n",
       "      <td>-3.162143</td>\n",
       "      <td>-0.690311</td>\n",
       "      <td>0.002839</td>\n",
       "      <td>0.313649</td>\n",
       "      <td>-0.021611</td>\n",
       "      <td>0.0023</td>\n",
       "      <td>0.0268</td>\n",
       "      <td>-0.0022</td>\n",
       "      <td>0.0245</td>\n",
       "      <td>0.0149</td>\n",
       "      <td>-0.003417</td>\n",
       "      <td>2015-12-31</td>\n",
       "    </tr>\n",
       "  </tbody>\n",
       "</table>\n",
       "<p>1068 rows × 14 columns</p>\n",
       "</div>"
      ],
      "text/plain": [
       "      dp_ratio   d_yield  ep_ratio  d_payout_ratio  stock_variance       btm  \\\n",
       "1    -2.942374       NaN -2.374773       -0.567601        0.000470  0.443706   \n",
       "2    -2.979535 -2.988963 -2.430353       -0.549182        0.000287  0.428501   \n",
       "3    -2.976535 -2.986017 -2.445079       -0.531456        0.000924  0.469765   \n",
       "4    -2.984225 -2.993617 -2.471309       -0.512916        0.000603  0.456754   \n",
       "5    -3.025963 -3.035130 -2.531446       -0.494518        0.000392  0.434783   \n",
       "...        ...       ...       ...             ...             ...       ...   \n",
       "1064 -3.843190 -3.849270 -3.064273       -0.778916        0.005847  0.330671   \n",
       "1065 -3.810347 -3.816391 -3.052980       -0.757368        0.004053  0.335612   \n",
       "1066 -3.883210 -3.890067 -3.148001       -0.735209        0.001619  0.309414   \n",
       "1067 -3.876904 -3.883715 -3.164045       -0.712860        0.001119  0.308429   \n",
       "1068 -3.852454 -3.859219 -3.162143       -0.690311        0.002839  0.313649   \n",
       "\n",
       "      net_equity_expansion  tbillrate  long_term_yield  long_term_return  \\\n",
       "1                 0.050833     0.0323           0.0351            0.0075   \n",
       "2                 0.051681     0.0329           0.0347            0.0088   \n",
       "3                 0.046370     0.0320           0.0331            0.0253   \n",
       "4                 0.050518     0.0339           0.0333           -0.0005   \n",
       "5                 0.055279     0.0333           0.0327            0.0109   \n",
       "...                    ...        ...              ...               ...   \n",
       "1064             -0.009536     0.0007           0.0264            0.0012   \n",
       "1065             -0.012910     0.0002           0.0253            0.0174   \n",
       "1066             -0.016209     0.0002           0.0259           -0.0053   \n",
       "1067             -0.017810     0.0012           0.0265           -0.0065   \n",
       "1068             -0.021611     0.0023           0.0268           -0.0022   \n",
       "\n",
       "      term_spread  default_yield_spread  inflation       date  \n",
       "1          0.0028                0.0095  -0.011299 1927-01-31  \n",
       "2          0.0018                0.0092  -0.005714 1927-02-28  \n",
       "3          0.0011                0.0092  -0.005747 1927-03-31  \n",
       "4         -0.0006                0.0090   0.000000 1927-04-30  \n",
       "5         -0.0006                0.0093   0.005780 1927-05-31  \n",
       "...           ...                   ...        ...        ...  \n",
       "1064       0.0257                0.0115  -0.001416 2015-08-31  \n",
       "1065       0.0251                0.0127  -0.001557 2015-09-30  \n",
       "1066       0.0257                0.0139  -0.000450 2015-10-31  \n",
       "1067       0.0253                0.0140  -0.002111 2015-11-30  \n",
       "1068       0.0245                0.0149  -0.003417 2015-12-31  \n",
       "\n",
       "[1068 rows x 14 columns]"
      ]
     },
     "execution_count": 30,
     "metadata": {},
     "output_type": "execute_result"
    }
   ],
   "source": [
    "set_of_predictors"
   ]
  },
  {
   "cell_type": "code",
   "execution_count": 31,
   "metadata": {},
   "outputs": [
    {
     "data": {
      "text/plain": [
       "LinearRegression(copy_X=True, fit_intercept=True, n_jobs=None, normalize=False)"
      ]
     },
     "execution_count": 31,
     "metadata": {},
     "output_type": "execute_result"
    },
    {
     "data": {
      "text/plain": [
       "LinearRegression(copy_X=True, fit_intercept=True, n_jobs=None, normalize=False)"
      ]
     },
     "execution_count": 31,
     "metadata": {},
     "output_type": "execute_result"
    },
    {
     "data": {
      "text/plain": [
       "LinearRegression(copy_X=True, fit_intercept=True, n_jobs=None, normalize=False)"
      ]
     },
     "execution_count": 31,
     "metadata": {},
     "output_type": "execute_result"
    },
    {
     "data": {
      "text/plain": [
       "LinearRegression(copy_X=True, fit_intercept=True, n_jobs=None, normalize=False)"
      ]
     },
     "execution_count": 31,
     "metadata": {},
     "output_type": "execute_result"
    },
    {
     "data": {
      "text/plain": [
       "LinearRegression(copy_X=True, fit_intercept=True, n_jobs=None, normalize=False)"
      ]
     },
     "execution_count": 31,
     "metadata": {},
     "output_type": "execute_result"
    },
    {
     "data": {
      "text/plain": [
       "LinearRegression(copy_X=True, fit_intercept=True, n_jobs=None, normalize=False)"
      ]
     },
     "execution_count": 31,
     "metadata": {},
     "output_type": "execute_result"
    },
    {
     "data": {
      "text/plain": [
       "LinearRegression(copy_X=True, fit_intercept=True, n_jobs=None, normalize=False)"
      ]
     },
     "execution_count": 31,
     "metadata": {},
     "output_type": "execute_result"
    },
    {
     "data": {
      "text/plain": [
       "LinearRegression(copy_X=True, fit_intercept=True, n_jobs=None, normalize=False)"
      ]
     },
     "execution_count": 31,
     "metadata": {},
     "output_type": "execute_result"
    },
    {
     "data": {
      "text/plain": [
       "LinearRegression(copy_X=True, fit_intercept=True, n_jobs=None, normalize=False)"
      ]
     },
     "execution_count": 31,
     "metadata": {},
     "output_type": "execute_result"
    },
    {
     "data": {
      "text/plain": [
       "LinearRegression(copy_X=True, fit_intercept=True, n_jobs=None, normalize=False)"
      ]
     },
     "execution_count": 31,
     "metadata": {},
     "output_type": "execute_result"
    },
    {
     "data": {
      "text/plain": [
       "LinearRegression(copy_X=True, fit_intercept=True, n_jobs=None, normalize=False)"
      ]
     },
     "execution_count": 31,
     "metadata": {},
     "output_type": "execute_result"
    },
    {
     "data": {
      "text/plain": [
       "LinearRegression(copy_X=True, fit_intercept=True, n_jobs=None, normalize=False)"
      ]
     },
     "execution_count": 31,
     "metadata": {},
     "output_type": "execute_result"
    },
    {
     "data": {
      "text/plain": [
       "LinearRegression(copy_X=True, fit_intercept=True, n_jobs=None, normalize=False)"
      ]
     },
     "execution_count": 31,
     "metadata": {},
     "output_type": "execute_result"
    },
    {
     "data": {
      "text/plain": [
       "LinearRegression(copy_X=True, fit_intercept=True, n_jobs=None, normalize=False)"
      ]
     },
     "execution_count": 31,
     "metadata": {},
     "output_type": "execute_result"
    },
    {
     "data": {
      "text/plain": [
       "LinearRegression(copy_X=True, fit_intercept=True, n_jobs=None, normalize=False)"
      ]
     },
     "execution_count": 31,
     "metadata": {},
     "output_type": "execute_result"
    },
    {
     "data": {
      "text/plain": [
       "LinearRegression(copy_X=True, fit_intercept=True, n_jobs=None, normalize=False)"
      ]
     },
     "execution_count": 31,
     "metadata": {},
     "output_type": "execute_result"
    },
    {
     "data": {
      "text/plain": [
       "LinearRegression(copy_X=True, fit_intercept=True, n_jobs=None, normalize=False)"
      ]
     },
     "execution_count": 31,
     "metadata": {},
     "output_type": "execute_result"
    },
    {
     "data": {
      "text/plain": [
       "LinearRegression(copy_X=True, fit_intercept=True, n_jobs=None, normalize=False)"
      ]
     },
     "execution_count": 31,
     "metadata": {},
     "output_type": "execute_result"
    },
    {
     "data": {
      "text/plain": [
       "LinearRegression(copy_X=True, fit_intercept=True, n_jobs=None, normalize=False)"
      ]
     },
     "execution_count": 31,
     "metadata": {},
     "output_type": "execute_result"
    },
    {
     "data": {
      "text/plain": [
       "LinearRegression(copy_X=True, fit_intercept=True, n_jobs=None, normalize=False)"
      ]
     },
     "execution_count": 31,
     "metadata": {},
     "output_type": "execute_result"
    },
    {
     "data": {
      "text/plain": [
       "LinearRegression(copy_X=True, fit_intercept=True, n_jobs=None, normalize=False)"
      ]
     },
     "execution_count": 31,
     "metadata": {},
     "output_type": "execute_result"
    },
    {
     "data": {
      "text/plain": [
       "LinearRegression(copy_X=True, fit_intercept=True, n_jobs=None, normalize=False)"
      ]
     },
     "execution_count": 31,
     "metadata": {},
     "output_type": "execute_result"
    },
    {
     "data": {
      "text/plain": [
       "LinearRegression(copy_X=True, fit_intercept=True, n_jobs=None, normalize=False)"
      ]
     },
     "execution_count": 31,
     "metadata": {},
     "output_type": "execute_result"
    },
    {
     "data": {
      "text/plain": [
       "LinearRegression(copy_X=True, fit_intercept=True, n_jobs=None, normalize=False)"
      ]
     },
     "execution_count": 31,
     "metadata": {},
     "output_type": "execute_result"
    },
    {
     "data": {
      "text/plain": [
       "LinearRegression(copy_X=True, fit_intercept=True, n_jobs=None, normalize=False)"
      ]
     },
     "execution_count": 31,
     "metadata": {},
     "output_type": "execute_result"
    },
    {
     "data": {
      "text/plain": [
       "LinearRegression(copy_X=True, fit_intercept=True, n_jobs=None, normalize=False)"
      ]
     },
     "execution_count": 31,
     "metadata": {},
     "output_type": "execute_result"
    },
    {
     "data": {
      "text/plain": [
       "LinearRegression(copy_X=True, fit_intercept=True, n_jobs=None, normalize=False)"
      ]
     },
     "execution_count": 31,
     "metadata": {},
     "output_type": "execute_result"
    },
    {
     "data": {
      "text/plain": [
       "LinearRegression(copy_X=True, fit_intercept=True, n_jobs=None, normalize=False)"
      ]
     },
     "execution_count": 31,
     "metadata": {},
     "output_type": "execute_result"
    },
    {
     "data": {
      "text/plain": [
       "LinearRegression(copy_X=True, fit_intercept=True, n_jobs=None, normalize=False)"
      ]
     },
     "execution_count": 31,
     "metadata": {},
     "output_type": "execute_result"
    },
    {
     "data": {
      "text/plain": [
       "LinearRegression(copy_X=True, fit_intercept=True, n_jobs=None, normalize=False)"
      ]
     },
     "execution_count": 31,
     "metadata": {},
     "output_type": "execute_result"
    },
    {
     "data": {
      "text/plain": [
       "LinearRegression(copy_X=True, fit_intercept=True, n_jobs=None, normalize=False)"
      ]
     },
     "execution_count": 31,
     "metadata": {},
     "output_type": "execute_result"
    },
    {
     "data": {
      "text/plain": [
       "LinearRegression(copy_X=True, fit_intercept=True, n_jobs=None, normalize=False)"
      ]
     },
     "execution_count": 31,
     "metadata": {},
     "output_type": "execute_result"
    },
    {
     "data": {
      "text/plain": [
       "LinearRegression(copy_X=True, fit_intercept=True, n_jobs=None, normalize=False)"
      ]
     },
     "execution_count": 31,
     "metadata": {},
     "output_type": "execute_result"
    },
    {
     "data": {
      "text/plain": [
       "LinearRegression(copy_X=True, fit_intercept=True, n_jobs=None, normalize=False)"
      ]
     },
     "execution_count": 31,
     "metadata": {},
     "output_type": "execute_result"
    },
    {
     "data": {
      "text/plain": [
       "LinearRegression(copy_X=True, fit_intercept=True, n_jobs=None, normalize=False)"
      ]
     },
     "execution_count": 31,
     "metadata": {},
     "output_type": "execute_result"
    },
    {
     "data": {
      "text/plain": [
       "LinearRegression(copy_X=True, fit_intercept=True, n_jobs=None, normalize=False)"
      ]
     },
     "execution_count": 31,
     "metadata": {},
     "output_type": "execute_result"
    },
    {
     "data": {
      "text/plain": [
       "LinearRegression(copy_X=True, fit_intercept=True, n_jobs=None, normalize=False)"
      ]
     },
     "execution_count": 31,
     "metadata": {},
     "output_type": "execute_result"
    },
    {
     "data": {
      "text/plain": [
       "LinearRegression(copy_X=True, fit_intercept=True, n_jobs=None, normalize=False)"
      ]
     },
     "execution_count": 31,
     "metadata": {},
     "output_type": "execute_result"
    },
    {
     "data": {
      "text/plain": [
       "LinearRegression(copy_X=True, fit_intercept=True, n_jobs=None, normalize=False)"
      ]
     },
     "execution_count": 31,
     "metadata": {},
     "output_type": "execute_result"
    },
    {
     "data": {
      "text/plain": [
       "LinearRegression(copy_X=True, fit_intercept=True, n_jobs=None, normalize=False)"
      ]
     },
     "execution_count": 31,
     "metadata": {},
     "output_type": "execute_result"
    },
    {
     "data": {
      "text/plain": [
       "LinearRegression(copy_X=True, fit_intercept=True, n_jobs=None, normalize=False)"
      ]
     },
     "execution_count": 31,
     "metadata": {},
     "output_type": "execute_result"
    },
    {
     "data": {
      "text/plain": [
       "LinearRegression(copy_X=True, fit_intercept=True, n_jobs=None, normalize=False)"
      ]
     },
     "execution_count": 31,
     "metadata": {},
     "output_type": "execute_result"
    },
    {
     "data": {
      "text/plain": [
       "LinearRegression(copy_X=True, fit_intercept=True, n_jobs=None, normalize=False)"
      ]
     },
     "execution_count": 31,
     "metadata": {},
     "output_type": "execute_result"
    },
    {
     "data": {
      "text/plain": [
       "LinearRegression(copy_X=True, fit_intercept=True, n_jobs=None, normalize=False)"
      ]
     },
     "execution_count": 31,
     "metadata": {},
     "output_type": "execute_result"
    },
    {
     "data": {
      "text/plain": [
       "LinearRegression(copy_X=True, fit_intercept=True, n_jobs=None, normalize=False)"
      ]
     },
     "execution_count": 31,
     "metadata": {},
     "output_type": "execute_result"
    },
    {
     "data": {
      "text/plain": [
       "LinearRegression(copy_X=True, fit_intercept=True, n_jobs=None, normalize=False)"
      ]
     },
     "execution_count": 31,
     "metadata": {},
     "output_type": "execute_result"
    },
    {
     "data": {
      "text/plain": [
       "LinearRegression(copy_X=True, fit_intercept=True, n_jobs=None, normalize=False)"
      ]
     },
     "execution_count": 31,
     "metadata": {},
     "output_type": "execute_result"
    },
    {
     "data": {
      "text/plain": [
       "LinearRegression(copy_X=True, fit_intercept=True, n_jobs=None, normalize=False)"
      ]
     },
     "execution_count": 31,
     "metadata": {},
     "output_type": "execute_result"
    },
    {
     "data": {
      "text/plain": [
       "LinearRegression(copy_X=True, fit_intercept=True, n_jobs=None, normalize=False)"
      ]
     },
     "execution_count": 31,
     "metadata": {},
     "output_type": "execute_result"
    },
    {
     "data": {
      "text/plain": [
       "LinearRegression(copy_X=True, fit_intercept=True, n_jobs=None, normalize=False)"
      ]
     },
     "execution_count": 31,
     "metadata": {},
     "output_type": "execute_result"
    },
    {
     "data": {
      "text/plain": [
       "LinearRegression(copy_X=True, fit_intercept=True, n_jobs=None, normalize=False)"
      ]
     },
     "execution_count": 31,
     "metadata": {},
     "output_type": "execute_result"
    },
    {
     "data": {
      "text/plain": [
       "LinearRegression(copy_X=True, fit_intercept=True, n_jobs=None, normalize=False)"
      ]
     },
     "execution_count": 31,
     "metadata": {},
     "output_type": "execute_result"
    },
    {
     "data": {
      "text/plain": [
       "LinearRegression(copy_X=True, fit_intercept=True, n_jobs=None, normalize=False)"
      ]
     },
     "execution_count": 31,
     "metadata": {},
     "output_type": "execute_result"
    },
    {
     "data": {
      "text/plain": [
       "LinearRegression(copy_X=True, fit_intercept=True, n_jobs=None, normalize=False)"
      ]
     },
     "execution_count": 31,
     "metadata": {},
     "output_type": "execute_result"
    },
    {
     "data": {
      "text/plain": [
       "LinearRegression(copy_X=True, fit_intercept=True, n_jobs=None, normalize=False)"
      ]
     },
     "execution_count": 31,
     "metadata": {},
     "output_type": "execute_result"
    },
    {
     "data": {
      "text/plain": [
       "LinearRegression(copy_X=True, fit_intercept=True, n_jobs=None, normalize=False)"
      ]
     },
     "execution_count": 31,
     "metadata": {},
     "output_type": "execute_result"
    },
    {
     "data": {
      "text/plain": [
       "LinearRegression(copy_X=True, fit_intercept=True, n_jobs=None, normalize=False)"
      ]
     },
     "execution_count": 31,
     "metadata": {},
     "output_type": "execute_result"
    },
    {
     "data": {
      "text/plain": [
       "LinearRegression(copy_X=True, fit_intercept=True, n_jobs=None, normalize=False)"
      ]
     },
     "execution_count": 31,
     "metadata": {},
     "output_type": "execute_result"
    },
    {
     "data": {
      "text/plain": [
       "LinearRegression(copy_X=True, fit_intercept=True, n_jobs=None, normalize=False)"
      ]
     },
     "execution_count": 31,
     "metadata": {},
     "output_type": "execute_result"
    },
    {
     "data": {
      "text/plain": [
       "LinearRegression(copy_X=True, fit_intercept=True, n_jobs=None, normalize=False)"
      ]
     },
     "execution_count": 31,
     "metadata": {},
     "output_type": "execute_result"
    },
    {
     "data": {
      "text/plain": [
       "LinearRegression(copy_X=True, fit_intercept=True, n_jobs=None, normalize=False)"
      ]
     },
     "execution_count": 31,
     "metadata": {},
     "output_type": "execute_result"
    },
    {
     "data": {
      "text/plain": [
       "LinearRegression(copy_X=True, fit_intercept=True, n_jobs=None, normalize=False)"
      ]
     },
     "execution_count": 31,
     "metadata": {},
     "output_type": "execute_result"
    },
    {
     "data": {
      "text/plain": [
       "LinearRegression(copy_X=True, fit_intercept=True, n_jobs=None, normalize=False)"
      ]
     },
     "execution_count": 31,
     "metadata": {},
     "output_type": "execute_result"
    },
    {
     "data": {
      "text/plain": [
       "LinearRegression(copy_X=True, fit_intercept=True, n_jobs=None, normalize=False)"
      ]
     },
     "execution_count": 31,
     "metadata": {},
     "output_type": "execute_result"
    },
    {
     "data": {
      "text/plain": [
       "LinearRegression(copy_X=True, fit_intercept=True, n_jobs=None, normalize=False)"
      ]
     },
     "execution_count": 31,
     "metadata": {},
     "output_type": "execute_result"
    },
    {
     "data": {
      "text/plain": [
       "LinearRegression(copy_X=True, fit_intercept=True, n_jobs=None, normalize=False)"
      ]
     },
     "execution_count": 31,
     "metadata": {},
     "output_type": "execute_result"
    },
    {
     "data": {
      "text/plain": [
       "LinearRegression(copy_X=True, fit_intercept=True, n_jobs=None, normalize=False)"
      ]
     },
     "execution_count": 31,
     "metadata": {},
     "output_type": "execute_result"
    },
    {
     "data": {
      "text/plain": [
       "LinearRegression(copy_X=True, fit_intercept=True, n_jobs=None, normalize=False)"
      ]
     },
     "execution_count": 31,
     "metadata": {},
     "output_type": "execute_result"
    },
    {
     "data": {
      "text/plain": [
       "LinearRegression(copy_X=True, fit_intercept=True, n_jobs=None, normalize=False)"
      ]
     },
     "execution_count": 31,
     "metadata": {},
     "output_type": "execute_result"
    },
    {
     "data": {
      "text/plain": [
       "LinearRegression(copy_X=True, fit_intercept=True, n_jobs=None, normalize=False)"
      ]
     },
     "execution_count": 31,
     "metadata": {},
     "output_type": "execute_result"
    },
    {
     "data": {
      "text/plain": [
       "LinearRegression(copy_X=True, fit_intercept=True, n_jobs=None, normalize=False)"
      ]
     },
     "execution_count": 31,
     "metadata": {},
     "output_type": "execute_result"
    },
    {
     "data": {
      "text/plain": [
       "LinearRegression(copy_X=True, fit_intercept=True, n_jobs=None, normalize=False)"
      ]
     },
     "execution_count": 31,
     "metadata": {},
     "output_type": "execute_result"
    },
    {
     "data": {
      "text/plain": [
       "LinearRegression(copy_X=True, fit_intercept=True, n_jobs=None, normalize=False)"
      ]
     },
     "execution_count": 31,
     "metadata": {},
     "output_type": "execute_result"
    }
   ],
   "source": [
    "date_from = '2000-03-31'\n",
    "date_end_range = pd.period_range('2010', '2016', freq='M')\n",
    "expending_r_squared = np.zeros(len(date_end_range))\n",
    "daterange_list = []\n",
    "for i in range(len(date_end_range)):\n",
    "    date_to = str(date_end_range[i])\n",
    "    kospi_to_be_predicted = kdata[(kdata['date'] >= date_from) & (kdata['date'] < date_to)]['ret']\n",
    "    predictors_to_be_used = set_of_predictors[(set_of_predictors['date'] >= date_from) & (set_of_predictors['date'] < date_to)].iloc[:,:-1]\n",
    "    lr = LinearRegression()\n",
    "    lr.fit(predictors_to_be_used, kospi_to_be_predicted.to_numpy().reshape(-1, 1))\n",
    "    y_pred = lr.predict(predictors_to_be_used)\n",
    "    expending_r_squared[i] = r2_score(kospi_to_be_predicted.to_numpy().reshape(-1, 1), y_pred)\n",
    "    daterange_list.append(date_from + ' ~ ' + date_to)"
   ]
  },
  {
   "cell_type": "code",
   "execution_count": 32,
   "metadata": {},
   "outputs": [
    {
     "data": {
      "text/plain": [
       "['2000-03-31 ~ 2010-01',\n",
       " '2000-03-31 ~ 2010-02',\n",
       " '2000-03-31 ~ 2010-03',\n",
       " '2000-03-31 ~ 2010-04',\n",
       " '2000-03-31 ~ 2010-05',\n",
       " '2000-03-31 ~ 2010-06',\n",
       " '2000-03-31 ~ 2010-07',\n",
       " '2000-03-31 ~ 2010-08',\n",
       " '2000-03-31 ~ 2010-09',\n",
       " '2000-03-31 ~ 2010-10',\n",
       " '2000-03-31 ~ 2010-11',\n",
       " '2000-03-31 ~ 2010-12',\n",
       " '2000-03-31 ~ 2011-01',\n",
       " '2000-03-31 ~ 2011-02',\n",
       " '2000-03-31 ~ 2011-03',\n",
       " '2000-03-31 ~ 2011-04',\n",
       " '2000-03-31 ~ 2011-05',\n",
       " '2000-03-31 ~ 2011-06',\n",
       " '2000-03-31 ~ 2011-07',\n",
       " '2000-03-31 ~ 2011-08',\n",
       " '2000-03-31 ~ 2011-09',\n",
       " '2000-03-31 ~ 2011-10',\n",
       " '2000-03-31 ~ 2011-11',\n",
       " '2000-03-31 ~ 2011-12',\n",
       " '2000-03-31 ~ 2012-01',\n",
       " '2000-03-31 ~ 2012-02',\n",
       " '2000-03-31 ~ 2012-03',\n",
       " '2000-03-31 ~ 2012-04',\n",
       " '2000-03-31 ~ 2012-05',\n",
       " '2000-03-31 ~ 2012-06',\n",
       " '2000-03-31 ~ 2012-07',\n",
       " '2000-03-31 ~ 2012-08',\n",
       " '2000-03-31 ~ 2012-09',\n",
       " '2000-03-31 ~ 2012-10',\n",
       " '2000-03-31 ~ 2012-11',\n",
       " '2000-03-31 ~ 2012-12',\n",
       " '2000-03-31 ~ 2013-01',\n",
       " '2000-03-31 ~ 2013-02',\n",
       " '2000-03-31 ~ 2013-03',\n",
       " '2000-03-31 ~ 2013-04',\n",
       " '2000-03-31 ~ 2013-05',\n",
       " '2000-03-31 ~ 2013-06',\n",
       " '2000-03-31 ~ 2013-07',\n",
       " '2000-03-31 ~ 2013-08',\n",
       " '2000-03-31 ~ 2013-09',\n",
       " '2000-03-31 ~ 2013-10',\n",
       " '2000-03-31 ~ 2013-11',\n",
       " '2000-03-31 ~ 2013-12',\n",
       " '2000-03-31 ~ 2014-01',\n",
       " '2000-03-31 ~ 2014-02',\n",
       " '2000-03-31 ~ 2014-03',\n",
       " '2000-03-31 ~ 2014-04',\n",
       " '2000-03-31 ~ 2014-05',\n",
       " '2000-03-31 ~ 2014-06',\n",
       " '2000-03-31 ~ 2014-07',\n",
       " '2000-03-31 ~ 2014-08',\n",
       " '2000-03-31 ~ 2014-09',\n",
       " '2000-03-31 ~ 2014-10',\n",
       " '2000-03-31 ~ 2014-11',\n",
       " '2000-03-31 ~ 2014-12',\n",
       " '2000-03-31 ~ 2015-01',\n",
       " '2000-03-31 ~ 2015-02',\n",
       " '2000-03-31 ~ 2015-03',\n",
       " '2000-03-31 ~ 2015-04',\n",
       " '2000-03-31 ~ 2015-05',\n",
       " '2000-03-31 ~ 2015-06',\n",
       " '2000-03-31 ~ 2015-07',\n",
       " '2000-03-31 ~ 2015-08',\n",
       " '2000-03-31 ~ 2015-09',\n",
       " '2000-03-31 ~ 2015-10',\n",
       " '2000-03-31 ~ 2015-11',\n",
       " '2000-03-31 ~ 2015-12',\n",
       " '2000-03-31 ~ 2016-01']"
      ]
     },
     "execution_count": 32,
     "metadata": {},
     "output_type": "execute_result"
    },
    {
     "data": {
      "text/plain": [
       "array([0.28699496, 0.28750163, 0.28433802, 0.28015472, 0.27876671,\n",
       "       0.28181793, 0.28016622, 0.28055258, 0.27863619, 0.28439414,\n",
       "       0.27234096, 0.2711899 , 0.27022041, 0.27250526, 0.26926816,\n",
       "       0.26985233, 0.26680826, 0.26484631, 0.26179281, 0.26402692,\n",
       "       0.27147484, 0.26390318, 0.26685169, 0.25724224, 0.23589178,\n",
       "       0.24941539, 0.24670242, 0.24034342, 0.23773516, 0.22867797,\n",
       "       0.22438613, 0.22249609, 0.21884583, 0.21693904, 0.21417984,\n",
       "       0.21384133, 0.21078079, 0.18913459, 0.21064121, 0.21030363,\n",
       "       0.21134621, 0.21015116, 0.20646976, 0.20686655, 0.20674614,\n",
       "       0.20567788, 0.20728524, 0.20326083, 0.20547655, 0.20772567,\n",
       "       0.20678078, 0.20655243, 0.20683053, 0.20544389, 0.20571331,\n",
       "       0.20512612, 0.20498875, 0.2030926 , 0.19874865, 0.19943664,\n",
       "       0.19914317, 0.20232509, 0.20213064, 0.20139438, 0.20331966,\n",
       "       0.20211551, 0.20111802, 0.20021885, 0.19713395, 0.20062131,\n",
       "       0.20252761, 0.19022823, 0.19486913])"
      ]
     },
     "execution_count": 32,
     "metadata": {},
     "output_type": "execute_result"
    }
   ],
   "source": [
    "daterange_list\n",
    "expending_r_squared"
   ]
  },
  {
   "cell_type": "code",
   "execution_count": 33,
   "metadata": {},
   "outputs": [],
   "source": [
    "expanding_result = pd.DataFrame(data = np.array([np.array(daterange_list).T, expending_r_squared.T]).T, columns = ['date_range', 'expending_r2_score'])"
   ]
  },
  {
   "cell_type": "markdown",
   "metadata": {},
   "source": [
    "### (ii) 결과 :  expanding period에서의 r_squared score를 아래와 같이 볼 수 있다."
   ]
  },
  {
   "cell_type": "code",
   "execution_count": 34,
   "metadata": {},
   "outputs": [
    {
     "data": {
      "text/html": [
       "<div>\n",
       "<style scoped>\n",
       "    .dataframe tbody tr th:only-of-type {\n",
       "        vertical-align: middle;\n",
       "    }\n",
       "\n",
       "    .dataframe tbody tr th {\n",
       "        vertical-align: top;\n",
       "    }\n",
       "\n",
       "    .dataframe thead th {\n",
       "        text-align: right;\n",
       "    }\n",
       "</style>\n",
       "<table border=\"1\" class=\"dataframe\">\n",
       "  <thead>\n",
       "    <tr style=\"text-align: right;\">\n",
       "      <th></th>\n",
       "      <th>date_range</th>\n",
       "      <th>expending_r2_score</th>\n",
       "    </tr>\n",
       "  </thead>\n",
       "  <tbody>\n",
       "    <tr>\n",
       "      <th>0</th>\n",
       "      <td>2000-03-31 ~ 2010-01</td>\n",
       "      <td>0.2869949630926628</td>\n",
       "    </tr>\n",
       "    <tr>\n",
       "      <th>1</th>\n",
       "      <td>2000-03-31 ~ 2010-02</td>\n",
       "      <td>0.28750162562864545</td>\n",
       "    </tr>\n",
       "    <tr>\n",
       "      <th>2</th>\n",
       "      <td>2000-03-31 ~ 2010-03</td>\n",
       "      <td>0.2843380227297534</td>\n",
       "    </tr>\n",
       "    <tr>\n",
       "      <th>3</th>\n",
       "      <td>2000-03-31 ~ 2010-04</td>\n",
       "      <td>0.2801547205323366</td>\n",
       "    </tr>\n",
       "    <tr>\n",
       "      <th>4</th>\n",
       "      <td>2000-03-31 ~ 2010-05</td>\n",
       "      <td>0.27876671293339295</td>\n",
       "    </tr>\n",
       "    <tr>\n",
       "      <th>5</th>\n",
       "      <td>2000-03-31 ~ 2010-06</td>\n",
       "      <td>0.28181793374281194</td>\n",
       "    </tr>\n",
       "    <tr>\n",
       "      <th>6</th>\n",
       "      <td>2000-03-31 ~ 2010-07</td>\n",
       "      <td>0.2801662224615571</td>\n",
       "    </tr>\n",
       "    <tr>\n",
       "      <th>7</th>\n",
       "      <td>2000-03-31 ~ 2010-08</td>\n",
       "      <td>0.2805525825072609</td>\n",
       "    </tr>\n",
       "    <tr>\n",
       "      <th>8</th>\n",
       "      <td>2000-03-31 ~ 2010-09</td>\n",
       "      <td>0.2786361889090503</td>\n",
       "    </tr>\n",
       "    <tr>\n",
       "      <th>9</th>\n",
       "      <td>2000-03-31 ~ 2010-10</td>\n",
       "      <td>0.2843941447016285</td>\n",
       "    </tr>\n",
       "    <tr>\n",
       "      <th>10</th>\n",
       "      <td>2000-03-31 ~ 2010-11</td>\n",
       "      <td>0.272340961304244</td>\n",
       "    </tr>\n",
       "    <tr>\n",
       "      <th>11</th>\n",
       "      <td>2000-03-31 ~ 2010-12</td>\n",
       "      <td>0.27118989923648673</td>\n",
       "    </tr>\n",
       "    <tr>\n",
       "      <th>12</th>\n",
       "      <td>2000-03-31 ~ 2011-01</td>\n",
       "      <td>0.2702204124204962</td>\n",
       "    </tr>\n",
       "    <tr>\n",
       "      <th>13</th>\n",
       "      <td>2000-03-31 ~ 2011-02</td>\n",
       "      <td>0.27250525784953916</td>\n",
       "    </tr>\n",
       "    <tr>\n",
       "      <th>14</th>\n",
       "      <td>2000-03-31 ~ 2011-03</td>\n",
       "      <td>0.26926815649533475</td>\n",
       "    </tr>\n",
       "    <tr>\n",
       "      <th>15</th>\n",
       "      <td>2000-03-31 ~ 2011-04</td>\n",
       "      <td>0.26985232867191955</td>\n",
       "    </tr>\n",
       "    <tr>\n",
       "      <th>16</th>\n",
       "      <td>2000-03-31 ~ 2011-05</td>\n",
       "      <td>0.2668082643556995</td>\n",
       "    </tr>\n",
       "    <tr>\n",
       "      <th>17</th>\n",
       "      <td>2000-03-31 ~ 2011-06</td>\n",
       "      <td>0.26484630773057494</td>\n",
       "    </tr>\n",
       "    <tr>\n",
       "      <th>18</th>\n",
       "      <td>2000-03-31 ~ 2011-07</td>\n",
       "      <td>0.26179280915208314</td>\n",
       "    </tr>\n",
       "    <tr>\n",
       "      <th>19</th>\n",
       "      <td>2000-03-31 ~ 2011-08</td>\n",
       "      <td>0.2640269186754761</td>\n",
       "    </tr>\n",
       "    <tr>\n",
       "      <th>20</th>\n",
       "      <td>2000-03-31 ~ 2011-09</td>\n",
       "      <td>0.2714748367942078</td>\n",
       "    </tr>\n",
       "    <tr>\n",
       "      <th>21</th>\n",
       "      <td>2000-03-31 ~ 2011-10</td>\n",
       "      <td>0.2639031828324576</td>\n",
       "    </tr>\n",
       "    <tr>\n",
       "      <th>22</th>\n",
       "      <td>2000-03-31 ~ 2011-11</td>\n",
       "      <td>0.2668516885634401</td>\n",
       "    </tr>\n",
       "    <tr>\n",
       "      <th>23</th>\n",
       "      <td>2000-03-31 ~ 2011-12</td>\n",
       "      <td>0.2572422413704166</td>\n",
       "    </tr>\n",
       "    <tr>\n",
       "      <th>24</th>\n",
       "      <td>2000-03-31 ~ 2012-01</td>\n",
       "      <td>0.235891777484746</td>\n",
       "    </tr>\n",
       "    <tr>\n",
       "      <th>25</th>\n",
       "      <td>2000-03-31 ~ 2012-02</td>\n",
       "      <td>0.2494153923775413</td>\n",
       "    </tr>\n",
       "    <tr>\n",
       "      <th>26</th>\n",
       "      <td>2000-03-31 ~ 2012-03</td>\n",
       "      <td>0.24670241685142769</td>\n",
       "    </tr>\n",
       "    <tr>\n",
       "      <th>27</th>\n",
       "      <td>2000-03-31 ~ 2012-04</td>\n",
       "      <td>0.24034341904653966</td>\n",
       "    </tr>\n",
       "    <tr>\n",
       "      <th>28</th>\n",
       "      <td>2000-03-31 ~ 2012-05</td>\n",
       "      <td>0.23773515838855008</td>\n",
       "    </tr>\n",
       "    <tr>\n",
       "      <th>29</th>\n",
       "      <td>2000-03-31 ~ 2012-06</td>\n",
       "      <td>0.22867797229626374</td>\n",
       "    </tr>\n",
       "    <tr>\n",
       "      <th>30</th>\n",
       "      <td>2000-03-31 ~ 2012-07</td>\n",
       "      <td>0.2243861278300845</td>\n",
       "    </tr>\n",
       "    <tr>\n",
       "      <th>31</th>\n",
       "      <td>2000-03-31 ~ 2012-08</td>\n",
       "      <td>0.22249609063044462</td>\n",
       "    </tr>\n",
       "    <tr>\n",
       "      <th>32</th>\n",
       "      <td>2000-03-31 ~ 2012-09</td>\n",
       "      <td>0.2188458275900711</td>\n",
       "    </tr>\n",
       "    <tr>\n",
       "      <th>33</th>\n",
       "      <td>2000-03-31 ~ 2012-10</td>\n",
       "      <td>0.2169390379685774</td>\n",
       "    </tr>\n",
       "    <tr>\n",
       "      <th>34</th>\n",
       "      <td>2000-03-31 ~ 2012-11</td>\n",
       "      <td>0.21417984090819975</td>\n",
       "    </tr>\n",
       "    <tr>\n",
       "      <th>35</th>\n",
       "      <td>2000-03-31 ~ 2012-12</td>\n",
       "      <td>0.2138413291042589</td>\n",
       "    </tr>\n",
       "    <tr>\n",
       "      <th>36</th>\n",
       "      <td>2000-03-31 ~ 2013-01</td>\n",
       "      <td>0.21078079147557782</td>\n",
       "    </tr>\n",
       "    <tr>\n",
       "      <th>37</th>\n",
       "      <td>2000-03-31 ~ 2013-02</td>\n",
       "      <td>0.18913458940613093</td>\n",
       "    </tr>\n",
       "    <tr>\n",
       "      <th>38</th>\n",
       "      <td>2000-03-31 ~ 2013-03</td>\n",
       "      <td>0.21064120509962014</td>\n",
       "    </tr>\n",
       "    <tr>\n",
       "      <th>39</th>\n",
       "      <td>2000-03-31 ~ 2013-04</td>\n",
       "      <td>0.21030362555684712</td>\n",
       "    </tr>\n",
       "    <tr>\n",
       "      <th>40</th>\n",
       "      <td>2000-03-31 ~ 2013-05</td>\n",
       "      <td>0.21134620822698713</td>\n",
       "    </tr>\n",
       "    <tr>\n",
       "      <th>41</th>\n",
       "      <td>2000-03-31 ~ 2013-06</td>\n",
       "      <td>0.21015116307663295</td>\n",
       "    </tr>\n",
       "    <tr>\n",
       "      <th>42</th>\n",
       "      <td>2000-03-31 ~ 2013-07</td>\n",
       "      <td>0.2064697554168099</td>\n",
       "    </tr>\n",
       "    <tr>\n",
       "      <th>43</th>\n",
       "      <td>2000-03-31 ~ 2013-08</td>\n",
       "      <td>0.20686654962349482</td>\n",
       "    </tr>\n",
       "    <tr>\n",
       "      <th>44</th>\n",
       "      <td>2000-03-31 ~ 2013-09</td>\n",
       "      <td>0.20674614312227912</td>\n",
       "    </tr>\n",
       "    <tr>\n",
       "      <th>45</th>\n",
       "      <td>2000-03-31 ~ 2013-10</td>\n",
       "      <td>0.2056778757681368</td>\n",
       "    </tr>\n",
       "    <tr>\n",
       "      <th>46</th>\n",
       "      <td>2000-03-31 ~ 2013-11</td>\n",
       "      <td>0.20728523650889952</td>\n",
       "    </tr>\n",
       "    <tr>\n",
       "      <th>47</th>\n",
       "      <td>2000-03-31 ~ 2013-12</td>\n",
       "      <td>0.20326083296538588</td>\n",
       "    </tr>\n",
       "    <tr>\n",
       "      <th>48</th>\n",
       "      <td>2000-03-31 ~ 2014-01</td>\n",
       "      <td>0.20547655071417392</td>\n",
       "    </tr>\n",
       "    <tr>\n",
       "      <th>49</th>\n",
       "      <td>2000-03-31 ~ 2014-02</td>\n",
       "      <td>0.20772567378823803</td>\n",
       "    </tr>\n",
       "    <tr>\n",
       "      <th>50</th>\n",
       "      <td>2000-03-31 ~ 2014-03</td>\n",
       "      <td>0.20678077848838006</td>\n",
       "    </tr>\n",
       "    <tr>\n",
       "      <th>51</th>\n",
       "      <td>2000-03-31 ~ 2014-04</td>\n",
       "      <td>0.20655242654914296</td>\n",
       "    </tr>\n",
       "    <tr>\n",
       "      <th>52</th>\n",
       "      <td>2000-03-31 ~ 2014-05</td>\n",
       "      <td>0.20683052683757497</td>\n",
       "    </tr>\n",
       "    <tr>\n",
       "      <th>53</th>\n",
       "      <td>2000-03-31 ~ 2014-06</td>\n",
       "      <td>0.20544389293261045</td>\n",
       "    </tr>\n",
       "    <tr>\n",
       "      <th>54</th>\n",
       "      <td>2000-03-31 ~ 2014-07</td>\n",
       "      <td>0.20571330772057717</td>\n",
       "    </tr>\n",
       "    <tr>\n",
       "      <th>55</th>\n",
       "      <td>2000-03-31 ~ 2014-08</td>\n",
       "      <td>0.20512611865575114</td>\n",
       "    </tr>\n",
       "    <tr>\n",
       "      <th>56</th>\n",
       "      <td>2000-03-31 ~ 2014-09</td>\n",
       "      <td>0.204988748944674</td>\n",
       "    </tr>\n",
       "    <tr>\n",
       "      <th>57</th>\n",
       "      <td>2000-03-31 ~ 2014-10</td>\n",
       "      <td>0.20309259789438894</td>\n",
       "    </tr>\n",
       "    <tr>\n",
       "      <th>58</th>\n",
       "      <td>2000-03-31 ~ 2014-11</td>\n",
       "      <td>0.1987486534770998</td>\n",
       "    </tr>\n",
       "    <tr>\n",
       "      <th>59</th>\n",
       "      <td>2000-03-31 ~ 2014-12</td>\n",
       "      <td>0.19943663686393687</td>\n",
       "    </tr>\n",
       "    <tr>\n",
       "      <th>60</th>\n",
       "      <td>2000-03-31 ~ 2015-01</td>\n",
       "      <td>0.19914317476141175</td>\n",
       "    </tr>\n",
       "    <tr>\n",
       "      <th>61</th>\n",
       "      <td>2000-03-31 ~ 2015-02</td>\n",
       "      <td>0.20232509318484426</td>\n",
       "    </tr>\n",
       "    <tr>\n",
       "      <th>62</th>\n",
       "      <td>2000-03-31 ~ 2015-03</td>\n",
       "      <td>0.20213064299884642</td>\n",
       "    </tr>\n",
       "    <tr>\n",
       "      <th>63</th>\n",
       "      <td>2000-03-31 ~ 2015-04</td>\n",
       "      <td>0.2013943829949223</td>\n",
       "    </tr>\n",
       "    <tr>\n",
       "      <th>64</th>\n",
       "      <td>2000-03-31 ~ 2015-05</td>\n",
       "      <td>0.20331965828843135</td>\n",
       "    </tr>\n",
       "    <tr>\n",
       "      <th>65</th>\n",
       "      <td>2000-03-31 ~ 2015-06</td>\n",
       "      <td>0.20211551103647796</td>\n",
       "    </tr>\n",
       "    <tr>\n",
       "      <th>66</th>\n",
       "      <td>2000-03-31 ~ 2015-07</td>\n",
       "      <td>0.20111801910110594</td>\n",
       "    </tr>\n",
       "    <tr>\n",
       "      <th>67</th>\n",
       "      <td>2000-03-31 ~ 2015-08</td>\n",
       "      <td>0.2002188476425002</td>\n",
       "    </tr>\n",
       "    <tr>\n",
       "      <th>68</th>\n",
       "      <td>2000-03-31 ~ 2015-09</td>\n",
       "      <td>0.19713395003757994</td>\n",
       "    </tr>\n",
       "    <tr>\n",
       "      <th>69</th>\n",
       "      <td>2000-03-31 ~ 2015-10</td>\n",
       "      <td>0.20062130789240207</td>\n",
       "    </tr>\n",
       "    <tr>\n",
       "      <th>70</th>\n",
       "      <td>2000-03-31 ~ 2015-11</td>\n",
       "      <td>0.2025276076997139</td>\n",
       "    </tr>\n",
       "    <tr>\n",
       "      <th>71</th>\n",
       "      <td>2000-03-31 ~ 2015-12</td>\n",
       "      <td>0.1902282311763156</td>\n",
       "    </tr>\n",
       "    <tr>\n",
       "      <th>72</th>\n",
       "      <td>2000-03-31 ~ 2016-01</td>\n",
       "      <td>0.19486912636677767</td>\n",
       "    </tr>\n",
       "  </tbody>\n",
       "</table>\n",
       "</div>"
      ],
      "text/plain": [
       "              date_range   expending_r2_score\n",
       "0   2000-03-31 ~ 2010-01   0.2869949630926628\n",
       "1   2000-03-31 ~ 2010-02  0.28750162562864545\n",
       "2   2000-03-31 ~ 2010-03   0.2843380227297534\n",
       "3   2000-03-31 ~ 2010-04   0.2801547205323366\n",
       "4   2000-03-31 ~ 2010-05  0.27876671293339295\n",
       "5   2000-03-31 ~ 2010-06  0.28181793374281194\n",
       "6   2000-03-31 ~ 2010-07   0.2801662224615571\n",
       "7   2000-03-31 ~ 2010-08   0.2805525825072609\n",
       "8   2000-03-31 ~ 2010-09   0.2786361889090503\n",
       "9   2000-03-31 ~ 2010-10   0.2843941447016285\n",
       "10  2000-03-31 ~ 2010-11    0.272340961304244\n",
       "11  2000-03-31 ~ 2010-12  0.27118989923648673\n",
       "12  2000-03-31 ~ 2011-01   0.2702204124204962\n",
       "13  2000-03-31 ~ 2011-02  0.27250525784953916\n",
       "14  2000-03-31 ~ 2011-03  0.26926815649533475\n",
       "15  2000-03-31 ~ 2011-04  0.26985232867191955\n",
       "16  2000-03-31 ~ 2011-05   0.2668082643556995\n",
       "17  2000-03-31 ~ 2011-06  0.26484630773057494\n",
       "18  2000-03-31 ~ 2011-07  0.26179280915208314\n",
       "19  2000-03-31 ~ 2011-08   0.2640269186754761\n",
       "20  2000-03-31 ~ 2011-09   0.2714748367942078\n",
       "21  2000-03-31 ~ 2011-10   0.2639031828324576\n",
       "22  2000-03-31 ~ 2011-11   0.2668516885634401\n",
       "23  2000-03-31 ~ 2011-12   0.2572422413704166\n",
       "24  2000-03-31 ~ 2012-01    0.235891777484746\n",
       "25  2000-03-31 ~ 2012-02   0.2494153923775413\n",
       "26  2000-03-31 ~ 2012-03  0.24670241685142769\n",
       "27  2000-03-31 ~ 2012-04  0.24034341904653966\n",
       "28  2000-03-31 ~ 2012-05  0.23773515838855008\n",
       "29  2000-03-31 ~ 2012-06  0.22867797229626374\n",
       "30  2000-03-31 ~ 2012-07   0.2243861278300845\n",
       "31  2000-03-31 ~ 2012-08  0.22249609063044462\n",
       "32  2000-03-31 ~ 2012-09   0.2188458275900711\n",
       "33  2000-03-31 ~ 2012-10   0.2169390379685774\n",
       "34  2000-03-31 ~ 2012-11  0.21417984090819975\n",
       "35  2000-03-31 ~ 2012-12   0.2138413291042589\n",
       "36  2000-03-31 ~ 2013-01  0.21078079147557782\n",
       "37  2000-03-31 ~ 2013-02  0.18913458940613093\n",
       "38  2000-03-31 ~ 2013-03  0.21064120509962014\n",
       "39  2000-03-31 ~ 2013-04  0.21030362555684712\n",
       "40  2000-03-31 ~ 2013-05  0.21134620822698713\n",
       "41  2000-03-31 ~ 2013-06  0.21015116307663295\n",
       "42  2000-03-31 ~ 2013-07   0.2064697554168099\n",
       "43  2000-03-31 ~ 2013-08  0.20686654962349482\n",
       "44  2000-03-31 ~ 2013-09  0.20674614312227912\n",
       "45  2000-03-31 ~ 2013-10   0.2056778757681368\n",
       "46  2000-03-31 ~ 2013-11  0.20728523650889952\n",
       "47  2000-03-31 ~ 2013-12  0.20326083296538588\n",
       "48  2000-03-31 ~ 2014-01  0.20547655071417392\n",
       "49  2000-03-31 ~ 2014-02  0.20772567378823803\n",
       "50  2000-03-31 ~ 2014-03  0.20678077848838006\n",
       "51  2000-03-31 ~ 2014-04  0.20655242654914296\n",
       "52  2000-03-31 ~ 2014-05  0.20683052683757497\n",
       "53  2000-03-31 ~ 2014-06  0.20544389293261045\n",
       "54  2000-03-31 ~ 2014-07  0.20571330772057717\n",
       "55  2000-03-31 ~ 2014-08  0.20512611865575114\n",
       "56  2000-03-31 ~ 2014-09    0.204988748944674\n",
       "57  2000-03-31 ~ 2014-10  0.20309259789438894\n",
       "58  2000-03-31 ~ 2014-11   0.1987486534770998\n",
       "59  2000-03-31 ~ 2014-12  0.19943663686393687\n",
       "60  2000-03-31 ~ 2015-01  0.19914317476141175\n",
       "61  2000-03-31 ~ 2015-02  0.20232509318484426\n",
       "62  2000-03-31 ~ 2015-03  0.20213064299884642\n",
       "63  2000-03-31 ~ 2015-04   0.2013943829949223\n",
       "64  2000-03-31 ~ 2015-05  0.20331965828843135\n",
       "65  2000-03-31 ~ 2015-06  0.20211551103647796\n",
       "66  2000-03-31 ~ 2015-07  0.20111801910110594\n",
       "67  2000-03-31 ~ 2015-08   0.2002188476425002\n",
       "68  2000-03-31 ~ 2015-09  0.19713395003757994\n",
       "69  2000-03-31 ~ 2015-10  0.20062130789240207\n",
       "70  2000-03-31 ~ 2015-11   0.2025276076997139\n",
       "71  2000-03-31 ~ 2015-12   0.1902282311763156\n",
       "72  2000-03-31 ~ 2016-01  0.19486912636677767"
      ]
     },
     "execution_count": 34,
     "metadata": {},
     "output_type": "execute_result"
    }
   ],
   "source": [
    "expanding_result.head(100)"
   ]
  },
  {
   "cell_type": "code",
   "execution_count": null,
   "metadata": {},
   "outputs": [],
   "source": []
  },
  {
   "cell_type": "code",
   "execution_count": null,
   "metadata": {},
   "outputs": [],
   "source": []
  },
  {
   "cell_type": "code",
   "execution_count": null,
   "metadata": {},
   "outputs": [],
   "source": []
  },
  {
   "cell_type": "code",
   "execution_count": null,
   "metadata": {},
   "outputs": [],
   "source": []
  },
  {
   "cell_type": "code",
   "execution_count": null,
   "metadata": {},
   "outputs": [],
   "source": []
  },
  {
   "cell_type": "code",
   "execution_count": null,
   "metadata": {},
   "outputs": [],
   "source": []
  },
  {
   "cell_type": "code",
   "execution_count": null,
   "metadata": {},
   "outputs": [],
   "source": []
  },
  {
   "cell_type": "code",
   "execution_count": null,
   "metadata": {},
   "outputs": [],
   "source": []
  },
  {
   "cell_type": "code",
   "execution_count": null,
   "metadata": {},
   "outputs": [],
   "source": []
  },
  {
   "cell_type": "code",
   "execution_count": null,
   "metadata": {},
   "outputs": [],
   "source": []
  },
  {
   "cell_type": "code",
   "execution_count": null,
   "metadata": {},
   "outputs": [],
   "source": []
  },
  {
   "cell_type": "code",
   "execution_count": null,
   "metadata": {},
   "outputs": [],
   "source": []
  },
  {
   "cell_type": "code",
   "execution_count": null,
   "metadata": {},
   "outputs": [],
   "source": []
  },
  {
   "cell_type": "code",
   "execution_count": null,
   "metadata": {},
   "outputs": [],
   "source": []
  },
  {
   "cell_type": "code",
   "execution_count": null,
   "metadata": {},
   "outputs": [],
   "source": []
  },
  {
   "cell_type": "code",
   "execution_count": null,
   "metadata": {},
   "outputs": [],
   "source": []
  },
  {
   "cell_type": "code",
   "execution_count": null,
   "metadata": {},
   "outputs": [],
   "source": []
  },
  {
   "cell_type": "code",
   "execution_count": null,
   "metadata": {},
   "outputs": [],
   "source": []
  },
  {
   "cell_type": "code",
   "execution_count": null,
   "metadata": {},
   "outputs": [],
   "source": []
  },
  {
   "cell_type": "code",
   "execution_count": null,
   "metadata": {},
   "outputs": [],
   "source": []
  },
  {
   "cell_type": "code",
   "execution_count": null,
   "metadata": {},
   "outputs": [],
   "source": []
  },
  {
   "cell_type": "code",
   "execution_count": null,
   "metadata": {},
   "outputs": [],
   "source": []
  },
  {
   "cell_type": "code",
   "execution_count": null,
   "metadata": {},
   "outputs": [],
   "source": []
  },
  {
   "cell_type": "code",
   "execution_count": null,
   "metadata": {},
   "outputs": [],
   "source": []
  },
  {
   "cell_type": "code",
   "execution_count": null,
   "metadata": {},
   "outputs": [],
   "source": []
  },
  {
   "cell_type": "code",
   "execution_count": null,
   "metadata": {},
   "outputs": [],
   "source": []
  },
  {
   "cell_type": "code",
   "execution_count": null,
   "metadata": {},
   "outputs": [],
   "source": []
  },
  {
   "cell_type": "code",
   "execution_count": null,
   "metadata": {},
   "outputs": [],
   "source": []
  },
  {
   "cell_type": "code",
   "execution_count": null,
   "metadata": {},
   "outputs": [],
   "source": []
  },
  {
   "cell_type": "code",
   "execution_count": null,
   "metadata": {},
   "outputs": [],
   "source": []
  }
 ],
 "metadata": {
  "kernelspec": {
   "display_name": "Python 3",
   "language": "python",
   "name": "python3"
  },
  "language_info": {
   "codemirror_mode": {
    "name": "ipython",
    "version": 3
   },
   "file_extension": ".py",
   "mimetype": "text/x-python",
   "name": "python",
   "nbconvert_exporter": "python",
   "pygments_lexer": "ipython3",
   "version": "3.6.8"
  }
 },
 "nbformat": 4,
 "nbformat_minor": 2
}
